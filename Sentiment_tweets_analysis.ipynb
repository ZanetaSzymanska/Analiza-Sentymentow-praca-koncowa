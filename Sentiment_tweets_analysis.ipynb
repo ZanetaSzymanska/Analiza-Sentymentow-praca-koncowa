{
 "cells": [
  {
   "cell_type": "markdown",
   "metadata": {
    "deletable": true,
    "editable": true
   },
   "source": [
    "# Check Hive's tables"
   ]
  },
  {
   "cell_type": "code",
   "execution_count": 1,
   "metadata": {
    "cell_status": {
     "execute_time": {
      "duration": 28045.93408203125,
      "end_time": 1610482706307.319
     }
    },
    "collapsed": false,
    "deletable": true,
    "editable": true
   },
   "outputs": [
    {
     "name": "stdout",
     "output_type": "stream",
     "text": [
      "Starting Spark application\n"
     ]
    },
    {
     "data": {
      "text/html": [
       "<table>\n",
       "<tr><th>ID</th><th>YARN Application ID</th><th>Kind</th><th>State</th><th>Spark UI</th><th>Driver log</th><th>Current session?</th></tr><tr><td>6</td><td>application_1610462882211_0017</td><td>pyspark3</td><td>idle</td><td><a target=\"_blank\" href=\"http://hn1-sentim.y2idihqj5wuedgbzcilp0znksc.ax.internal.cloudapp.net:8088/proxy/application_1610462882211_0017/\">Link</a></td><td><a target=\"_blank\" href=\"http://wn0-sentim.y2idihqj5wuedgbzcilp0znksc.ax.internal.cloudapp.net:30060/node/containerlogs/container_e01_1610462882211_0017_01_000001/livy\">Link</a></td><td>✔</td></tr></table>"
      ],
      "text/plain": [
       "<IPython.core.display.HTML object>"
      ]
     },
     "metadata": {},
     "output_type": "display_data"
    },
    {
     "name": "stdout",
     "output_type": "stream",
     "text": [
      "SparkSession available as 'spark'.\n"
     ]
    },
    {
     "name": "stderr",
     "output_type": "stream",
     "text": [
      "Widget Javascript not detected.  It may not be installed or enabled properly.\n"
     ]
    },
    {
     "data": {
      "application/vnd.jupyter.widget-view+json": {
       "model_id": "b9163731b3454ab281eb83739ec9dcee"
      }
     },
     "metadata": {},
     "output_type": "display_data"
    },
    {
     "name": "stderr",
     "output_type": "stream",
     "text": [
      "Widget Javascript not detected.  It may not be installed or enabled properly.\n"
     ]
    },
    {
     "data": {
      "application/vnd.jupyter.widget-view+json": {
       "model_id": "d17c34d61e7346789145aa9be60f94ca"
      }
     },
     "metadata": {},
     "output_type": "display_data"
    }
   ],
   "source": [
    "%%sql\n",
    "SHOW TABLES"
   ]
  },
  {
   "cell_type": "code",
   "execution_count": 2,
   "metadata": {
    "cell_status": {
     "execute_time": {
      "duration": 11.35009765625,
      "end_time": 1610374491627.985
     }
    },
    "collapsed": false,
    "deletable": true,
    "editable": true
   },
   "outputs": [
    {
     "data": {
      "text/html": [
       "\n",
       "<table>\n",
       "  <tr>\n",
       "    <th>Magic</th>\n",
       "    <th>Example</th>\n",
       "    <th>Explanation</th>\n",
       "  </tr>\n",
       "  <tr>\n",
       "    <td>info</td>\n",
       "    <td>%%info</td>\n",
       "    <td>Outputs session information for the current Livy endpoint.</td>\n",
       "  </tr>\n",
       "  <tr>\n",
       "    <td>cleanup</td>\n",
       "    <td>%%cleanup -f</td>\n",
       "    <td>Deletes all sessions for the current Livy endpoint, including this notebook's session. The force flag is mandatory.</td>\n",
       "  </tr>\n",
       "  <tr>\n",
       "    <td>delete</td>\n",
       "    <td>%%delete -f -s 0</td>\n",
       "    <td>Deletes a session by number for the current Livy endpoint. Cannot delete this kernel's session.</td>\n",
       "  </tr>\n",
       "  <tr>\n",
       "    <td>logs</td>\n",
       "    <td>%%logs</td>\n",
       "    <td>Outputs the current session's Livy logs.</td>\n",
       "  </tr>\n",
       "  <tr>\n",
       "    <td>configure</td>\n",
       "    <td>%%configure -f<br/>{\"executorMemory\": \"1000M\", \"executorCores\": 4}</td>\n",
       "    <td>Configure the session creation parameters. The force flag is mandatory if a session has already been\n",
       "    created and the session will be dropped and recreated.<br/>Look at <a href=\"https://github.com/cloudera/livy#request-body\">\n",
       "    Livy's POST /sessions Request Body</a> for a list of valid parameters. Parameters must be passed in as a JSON string.</td>\n",
       "  </tr>\n",
       "  <tr>\n",
       "    <td>spark</td>\n",
       "    <td>%%spark -o df<br/>df = spark.read.parquet('...</td>\n",
       "    <td>Executes spark commands.\n",
       "    Parameters:\n",
       "      <ul>\n",
       "        <li>-o VAR_NAME: The Spark dataframe of name VAR_NAME will be available in the %%local Python context as a\n",
       "          <a href=\"http://pandas.pydata.org/\">Pandas</a> dataframe with the same name.</li>\n",
       "        <li>-m METHOD: Sample method, either <tt>take</tt> or <tt>sample</tt>.</li>\n",
       "        <li>-n MAXROWS: The maximum number of rows of a dataframe that will be pulled from Livy to Jupyter.\n",
       "            If this number is negative, then the number of rows will be unlimited.</li>\n",
       "        <li>-r FRACTION: Fraction used for sampling.</li>\n",
       "      </ul>\n",
       "    </td>\n",
       "  </tr>\n",
       "  <tr>\n",
       "    <td>sql</td>\n",
       "    <td>%%sql -o tables -q<br/>SHOW TABLES</td>\n",
       "    <td>Executes a SQL query against the variable sqlContext (Spark v1.x) or spark (Spark v2.x).\n",
       "    Parameters:\n",
       "      <ul>\n",
       "        <li>-o VAR_NAME: The result of the SQL query will be available in the %%local Python context as a\n",
       "          <a href=\"http://pandas.pydata.org/\">Pandas</a> dataframe.</li>\n",
       "        <li>-q: The magic will return None instead of the dataframe (no visualization).</li>\n",
       "        <li>-m, -n, -r are the same as the %%spark parameters above.</li>\n",
       "      </ul>\n",
       "    </td>\n",
       "  </tr>\n",
       "  <tr>\n",
       "    <td>local</td>\n",
       "    <td>%%local<br/>a = 1</td>\n",
       "    <td>All the code in subsequent lines will be executed locally. Code must be valid Python code.</td>\n",
       "  </tr>\n",
       "</table>\n"
      ],
      "text/plain": [
       "<IPython.core.display.HTML object>"
      ]
     },
     "metadata": {},
     "output_type": "display_data"
    }
   ],
   "source": [
    "%%help"
   ]
  },
  {
   "cell_type": "markdown",
   "metadata": {
    "deletable": true,
    "editable": true
   },
   "source": [
    "# Import libraries"
   ]
  },
  {
   "cell_type": "code",
   "execution_count": 4,
   "metadata": {
    "cell_status": {
     "execute_time": {
      "duration": 284.571044921875,
      "end_time": 1610454154974.53
     }
    },
    "collapsed": false,
    "deletable": true,
    "editable": true
   },
   "outputs": [
    {
     "name": "stdout",
     "output_type": "stream",
     "text": [
      "2.7.12 |Anaconda custom (64-bit)| (default, Jul  2 2016, 17:42:40) \n",
      "[GCC 4.4.7 20120313 (Red Hat 4.4.7-1)]\n",
      "'/usr/bin/anaconda/lib/python2.7/site-packages/pandas/__init__.pyc'"
     ]
    }
   ],
   "source": [
    "spark.conf.set(\"spark.yarn.appMasterEnv.PYSPARK_PYTHON\", \"/usr/bin/anaconda/envs/py35/bin/python\")\n",
    "spark.conf.set(\"spark.yarn.appMasterEnv.PYSPARK_DRIVER_PYTHON\", \"/usr/bin/anaconda/envs/py35/bin/python\")\n",
    "import sys\n",
    "print(sys.version)\n",
    "import pandas as pd\n",
    "pd.__file__\n",
    "sys.path.append('/usr/bin/anaconda/envs/py35spacy/lib/python3.5/site-packages/spacy')\n",
    "sys.path"
   ]
  },
  {
   "cell_type": "markdown",
   "metadata": {
    "cell_status": {
     "execute_time": {
      "duration": 865.11181640625,
      "end_time": 1609615147358.584
     }
    },
    "collapsed": false,
    "deletable": true,
    "editable": true
   },
   "source": [
    "# Tweets -> Topic: Pandemic -> review"
   ]
  },
  {
   "cell_type": "markdown",
   "metadata": {
    "deletable": true,
    "editable": true
   },
   "source": [
    "Zapytania postawione przez biznes:\n",
    "<br> -- Skąd najczęściej pochodzą wpisy odnośnie pandemii?\n",
    "<br> -- Analiza nastroju w pobranej próbce?\n",
    "<br> -- Jak ten nastrój rozkłada się w podziale na lokalizacje/pochodzenie wpisów?"
   ]
  },
  {
   "cell_type": "code",
   "execution_count": 19,
   "metadata": {
    "cell_status": {
     "execute_time": {
      "duration": 6415.046875,
      "end_time": 1610487268443.284
     }
    },
    "collapsed": false,
    "deletable": true,
    "editable": true
   },
   "outputs": [
    {
     "data": {
      "application/vnd.jupyter.widget-view+json": {
       "model_id": "6b26b59c7939437ebc9b2c26633a8629"
      }
     },
     "metadata": {},
     "output_type": "display_data"
    },
    {
     "data": {
      "application/vnd.jupyter.widget-view+json": {
       "model_id": "450866f05da547a58ee171619b90c057"
      }
     },
     "metadata": {},
     "output_type": "display_data"
    }
   ],
   "source": [
    "%%sql\n",
    "SELECT * FROM tweets_pandemic LIMIT 5"
   ]
  },
  {
   "cell_type": "code",
   "execution_count": 20,
   "metadata": {
    "cell_status": {
     "execute_time": {
      "duration": 25585.8740234375,
      "end_time": 1610487341126.347
     }
    },
    "collapsed": false,
    "deletable": true,
    "editable": true
   },
   "outputs": [
    {
     "data": {
      "application/vnd.jupyter.widget-view+json": {
       "model_id": "4ad96a70baef4134afa487ed59569652"
      }
     },
     "metadata": {},
     "output_type": "display_data"
    },
    {
     "data": {
      "application/vnd.jupyter.widget-view+json": {
       "model_id": "295461d9d62e4d889cdeb85da91c8a73"
      }
     },
     "metadata": {},
     "output_type": "display_data"
    }
   ],
   "source": [
    "%%sql\n",
    "SELECT \n",
    "user_location, \n",
    "count(id) as id_count \n",
    "FROM tweets_pandemic \n",
    "group by user_location \n",
    "order by 2 desc \n",
    "limit 20"
   ]
  },
  {
   "cell_type": "code",
   "execution_count": 21,
   "metadata": {
    "cell_status": {
     "execute_time": {
      "duration": 2513.84619140625,
      "end_time": 1610487345159.5
     }
    },
    "collapsed": false,
    "deletable": true,
    "editable": true
   },
   "outputs": [
    {
     "data": {
      "application/vnd.jupyter.widget-view+json": {
       "model_id": "171216f250aa4b99bae4085d505aecef"
      }
     },
     "metadata": {},
     "output_type": "display_data"
    },
    {
     "data": {
      "application/vnd.jupyter.widget-view+json": {
       "model_id": "e01e89cadd714a249df321577f8f449e"
      }
     },
     "metadata": {},
     "output_type": "display_data"
    }
   ],
   "source": [
    "%%sql\n",
    "describe tweets_pandemic"
   ]
  },
  {
   "cell_type": "code",
   "execution_count": 22,
   "metadata": {
    "cell_status": {
     "execute_time": {
      "duration": 9668.322998046875,
      "end_time": 1610487354865.581
     }
    },
    "collapsed": false,
    "deletable": true,
    "editable": true
   },
   "outputs": [],
   "source": [
    "%%sql -q -o df_sentim\n",
    "select text as tweet, case \n",
    "when polarity < 0 then -1 \n",
    "when polarity = 0 then 0\n",
    "when polarity > 0 then 1 \n",
    "end\n",
    "as sentiment,\n",
    "case \n",
    "when subjectivity > 0.5 then 1  \n",
    "when subjectivity <= 0.5 then 0\n",
    "end\n",
    "as subjectivity\n",
    "from tweets_pandemic\n",
    "where sentiment <> 'NaN'"
   ]
  },
  {
   "cell_type": "code",
   "execution_count": 23,
   "metadata": {
    "cell_status": {
     "execute_time": {
      "duration": 1481.02392578125,
      "end_time": 1610487356373.01
     }
    },
    "collapsed": false,
    "deletable": true,
    "editable": true
   },
   "outputs": [
    {
     "data": {
      "application/vnd.jupyter.widget-view+json": {
       "model_id": "79ad03b4a278425c8515b06f58167a50"
      }
     },
     "metadata": {},
     "output_type": "display_data"
    },
    {
     "data": {
      "application/vnd.jupyter.widget-view+json": {
       "model_id": "bea26b8431404b098bd7f3c98561f6a7"
      }
     },
     "metadata": {},
     "output_type": "display_data"
    }
   ],
   "source": [
    "%%local\n",
    "df_sentim.head(10)"
   ]
  },
  {
   "cell_type": "code",
   "execution_count": 26,
   "metadata": {
    "cell_status": {
     "execute_time": {
      "duration": 32119.4091796875,
      "end_time": 1610487449074.558
     }
    },
    "collapsed": false,
    "deletable": true,
    "editable": true
   },
   "outputs": [
    {
     "data": {
      "application/vnd.jupyter.widget-view+json": {
       "model_id": "c483f5b1ef974816a57d6ae51d7266a3"
      }
     },
     "metadata": {},
     "output_type": "display_data"
    },
    {
     "data": {
      "application/vnd.jupyter.widget-view+json": {
       "model_id": "ec8c338be36943aca0d0f72f17c74bb8"
      }
     },
     "metadata": {},
     "output_type": "display_data"
    }
   ],
   "source": [
    "%%sql\n",
    "select sentiment,subjectivity, count(*) as cnt from\n",
    "(select case \n",
    "when polarity < 0 then 'negative'  \n",
    "when polarity = 0 then 'neutral'\n",
    "when polarity > 0 then 'positive' \n",
    "end\n",
    "as sentiment,\n",
    "case \n",
    "when subjectivity > 0.5 then 'subjective oriented'  \n",
    "when subjectivity <= 0.5 then 'objective oriented'\n",
    "end\n",
    "as subjectivity\n",
    "from tweets_pandemic)\n",
    "where sentiment <> 'NaN'\n",
    "group by sentiment, subjectivity\n",
    "order by sentiment, subjectivity"
   ]
  },
  {
   "cell_type": "code",
   "execution_count": 27,
   "metadata": {
    "cell_status": {
     "execute_time": {
      "duration": 17823.1201171875,
      "end_time": 1610487472464.722
     }
    },
    "collapsed": false,
    "deletable": true,
    "editable": true
   },
   "outputs": [
    {
     "data": {
      "application/vnd.jupyter.widget-view+json": {
       "model_id": "d499842b7ae54a8e9b9c9b8dc3964416"
      }
     },
     "metadata": {},
     "output_type": "display_data"
    },
    {
     "data": {
      "application/vnd.jupyter.widget-view+json": {
       "model_id": "1e56ffe9ae17404a8210c08cf4e9e399"
      }
     },
     "metadata": {},
     "output_type": "display_data"
    }
   ],
   "source": [
    "%%sql\n",
    "select avg(polarity)  as avg_polarity,  avg(subjectivity)  as avg_subjectivity\n",
    "from tweets_pandemic"
   ]
  },
  {
   "cell_type": "code",
   "execution_count": 28,
   "metadata": {
    "cell_status": {
     "execute_time": {
      "duration": 26763.23291015625,
      "end_time": 1610487503988.431
     }
    },
    "collapsed": false,
    "deletable": true,
    "editable": true
   },
   "outputs": [
    {
     "data": {
      "application/vnd.jupyter.widget-view+json": {
       "model_id": "1b24239c8ee449ab85089ef98a1a2a58"
      }
     },
     "metadata": {},
     "output_type": "display_data"
    },
    {
     "data": {
      "application/vnd.jupyter.widget-view+json": {
       "model_id": "5c1772ddc2b94a31aa02f7ff80cb662b"
      }
     },
     "metadata": {},
     "output_type": "display_data"
    }
   ],
   "source": [
    "%%sql\n",
    "select user_location, avg(polarity) as sentiment, avg(subjectivity)  as subjectivity, count(*) as cnt\n",
    "from tweets_pandemic\n",
    "group by user_location\n",
    "order by cnt desc\n",
    "limit 20"
   ]
  },
  {
   "cell_type": "markdown",
   "metadata": {
    "collapsed": true,
    "deletable": true,
    "editable": true
   },
   "source": [
    "# Tweets -> Topic: 2020 U.S. elections  -> review"
   ]
  },
  {
   "cell_type": "markdown",
   "metadata": {
    "deletable": true,
    "editable": true
   },
   "source": [
    "Zapytania postawione przez biznes:\n",
    "<br> -- Skąd najczęściej pochodzą wpisy odnośnie wyborów prezydenckich w USA?\n",
    "<br> -- Analiza nastroju w pobranej próbce?\n",
    "<br> -- Jak ten nastrój rozkłada się w podziale na lokalizacje/pochodzenie wpisów?"
   ]
  },
  {
   "cell_type": "code",
   "execution_count": 2,
   "metadata": {
    "cell_status": {
     "execute_time": {
      "duration": 32355.716796875,
      "end_time": 1610482770129.029
     }
    },
    "collapsed": false,
    "deletable": true,
    "editable": true
   },
   "outputs": [
    {
     "data": {
      "application/vnd.jupyter.widget-view+json": {
       "model_id": "bfc1b8e4d279452eaa579d1929f88c23"
      }
     },
     "metadata": {},
     "output_type": "display_data"
    },
    {
     "data": {
      "application/vnd.jupyter.widget-view+json": {
       "model_id": "58a1d9f855094e81a69b245f0896ebee"
      }
     },
     "metadata": {},
     "output_type": "display_data"
    }
   ],
   "source": [
    "%%sql\n",
    "SELECT * FROM tweets_USA_elections_2020 LIMIT 5"
   ]
  },
  {
   "cell_type": "code",
   "execution_count": 3,
   "metadata": {
    "cell_status": {
     "execute_time": {
      "duration": 45679.051025390625,
      "end_time": 1610482820186.676
     }
    },
    "collapsed": false,
    "deletable": true,
    "editable": true
   },
   "outputs": [
    {
     "data": {
      "application/vnd.jupyter.widget-view+json": {
       "model_id": "05cec797037541f0975f8f52b6f1389a"
      }
     },
     "metadata": {},
     "output_type": "display_data"
    },
    {
     "data": {
      "application/vnd.jupyter.widget-view+json": {
       "model_id": "a6e37931a6ba48038626775595bd0f9f"
      }
     },
     "metadata": {},
     "output_type": "display_data"
    }
   ],
   "source": [
    "%%sql\n",
    "SELECT \n",
    "user_location, \n",
    "count(id) as id_count \n",
    "FROM tweets_USA_elections_2020 \n",
    "group by user_location \n",
    "order by 2 desc \n",
    "limit 20"
   ]
  },
  {
   "cell_type": "code",
   "execution_count": 15,
   "metadata": {
    "cell_status": {
     "execute_time": {
      "duration": 10254.34912109375,
      "end_time": 1610484242344.845
     }
    },
    "collapsed": false,
    "deletable": true,
    "editable": true
   },
   "outputs": [],
   "source": [
    "%%sql -q -o df_USA_sentim\n",
    "select text as tweet, case \n",
    "when polarity < 0 then -1 \n",
    "when polarity = 0 then 0\n",
    "when polarity > 0 then 1 \n",
    "end\n",
    "as sentiment,\n",
    "case \n",
    "when subjectivity > 0.5 then 1  \n",
    "when subjectivity <= 0.5 then 0\n",
    "end\n",
    "as subjectivity\n",
    "from tweets_USA_elections_2020\n",
    "where sentiment <> 'NaN'"
   ]
  },
  {
   "cell_type": "code",
   "execution_count": 16,
   "metadata": {
    "cell_status": {
     "execute_time": {
      "duration": 1438.322021484375,
      "end_time": 1610484273847.87
     }
    },
    "collapsed": false,
    "deletable": true,
    "editable": true
   },
   "outputs": [
    {
     "data": {
      "application/vnd.jupyter.widget-view+json": {
       "model_id": "61fc213c94714d39a512a8ea65652dfe"
      }
     },
     "metadata": {},
     "output_type": "display_data"
    },
    {
     "data": {
      "application/vnd.jupyter.widget-view+json": {
       "model_id": "8fdc0f2d41124e03b930b83be615b868"
      }
     },
     "metadata": {},
     "output_type": "display_data"
    }
   ],
   "source": [
    "%%local\n",
    "df_USA_sentim.head(10)"
   ]
  },
  {
   "cell_type": "code",
   "execution_count": 14,
   "metadata": {
    "cell_status": {
     "execute_time": {
      "duration": 31904.943115234375,
      "end_time": 1610484153092.781
     }
    },
    "collapsed": false,
    "deletable": true,
    "editable": true
   },
   "outputs": [
    {
     "data": {
      "application/vnd.jupyter.widget-view+json": {
       "model_id": "6254242703a947da8801280ebf4fcd86"
      }
     },
     "metadata": {},
     "output_type": "display_data"
    },
    {
     "data": {
      "application/vnd.jupyter.widget-view+json": {
       "model_id": "543739d4ae8e4a6a98f60cec821ecc6e"
      }
     },
     "metadata": {},
     "output_type": "display_data"
    }
   ],
   "source": [
    "%%sql\n",
    "select sentiment,subjectivity, count(*) as cnt from\n",
    "(select case \n",
    "when polarity < 0 then 'negative'  \n",
    "when polarity = 0 then 'neutral'\n",
    "when polarity > 0 then 'positive' \n",
    "end\n",
    "as sentiment,\n",
    "case \n",
    "when subjectivity > 0.5 then 'subjective oriented'  \n",
    "when subjectivity <= 0.5 then 'objective oriented'\n",
    "end\n",
    "as subjectivity\n",
    "from tweets_USA_elections_2020)\n",
    "where sentiment <> 'NaN'\n",
    "group by sentiment, subjectivity\n",
    "order by sentiment, subjectivity"
   ]
  },
  {
   "cell_type": "code",
   "execution_count": 7,
   "metadata": {
    "cell_status": {
     "execute_time": {
      "duration": 19611.800048828125,
      "end_time": 1610483233850.444
     }
    },
    "collapsed": false,
    "deletable": true,
    "editable": true
   },
   "outputs": [
    {
     "data": {
      "application/vnd.jupyter.widget-view+json": {
       "model_id": "d344774be94a413ea3d2fce0fc0e1f53"
      }
     },
     "metadata": {},
     "output_type": "display_data"
    },
    {
     "data": {
      "application/vnd.jupyter.widget-view+json": {
       "model_id": "089bc9c6aa024a3486cd85962e311ee7"
      }
     },
     "metadata": {},
     "output_type": "display_data"
    }
   ],
   "source": [
    "%%sql\n",
    "select avg(polarity)  as avg_polarity,  avg(subjectivity)  as avg_subjectivity\n",
    "from tweets_USA_elections_2020"
   ]
  },
  {
   "cell_type": "code",
   "execution_count": 18,
   "metadata": {
    "cell_status": {
     "execute_time": {
      "duration": 25705.714111328125,
      "end_time": 1610484561723.38
     }
    },
    "collapsed": false,
    "deletable": true,
    "editable": true
   },
   "outputs": [
    {
     "data": {
      "application/vnd.jupyter.widget-view+json": {
       "model_id": "5a2f96c52ae54c11acb3f01841b32188"
      }
     },
     "metadata": {},
     "output_type": "display_data"
    },
    {
     "data": {
      "application/vnd.jupyter.widget-view+json": {
       "model_id": "dacae70b75cc4988bab14b2c99ce5c1e"
      }
     },
     "metadata": {},
     "output_type": "display_data"
    }
   ],
   "source": [
    "%%sql\n",
    "select user_location, avg(polarity) as sentiment, avg(subjectivity)  as subjectivity, count(*) as cnt\n",
    "from tweets_USA_elections_2020\n",
    "group by user_location\n",
    "order by cnt desc\n",
    "limit 20"
   ]
  },
  {
   "cell_type": "code",
   "execution_count": null,
   "metadata": {
    "collapsed": true
   },
   "outputs": [],
   "source": []
  }
 ],
 "metadata": {
  "kernelspec": {
   "display_name": "PySpark3",
   "language": "",
   "name": "pyspark3kernel"
  },
  "language_info": {
   "codemirror_mode": {
    "name": "python",
    "version": 3
   },
   "mimetype": "text/x-python",
   "name": "pyspark3",
   "pygments_lexer": "python3"
  }
 },
 "nbformat": 4,
 "nbformat_minor": 2
}