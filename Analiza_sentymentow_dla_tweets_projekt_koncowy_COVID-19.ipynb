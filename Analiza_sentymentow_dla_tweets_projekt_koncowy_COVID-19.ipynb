{
 "cells": [
  {
   "cell_type": "markdown",
   "metadata": {
    "deletable": true,
    "editable": true
   },
   "source": [
    "## Projekt Big Data: Analiza nastrojów przy użyciu Pyspark na przykładzie tweetach odnośnie COVID-19"
   ]
  },
  {
   "cell_type": "markdown",
   "metadata": {
    "deletable": true,
    "editable": true
   },
   "source": [
    "**Problem**: przeanalizowanie tweetów odnośnie COVID-19 i zrozumienie, jakie nastroje towarzyszą drugiej fali pandemii"
   ]
  },
  {
   "cell_type": "markdown",
   "metadata": {
    "deletable": true,
    "editable": true
   },
   "source": [
    "**Opis danych:** Używam pobranego zbioru danych z Twitter API, który zawiera szereg kolumn, ale do analizy będę wykorzystywać kolumny: tweet-text, id posta, sentyment obliczony przy użyciu TextBlob biblioteki (NLTK)"
   ]
  },
  {
   "cell_type": "markdown",
   "metadata": {
    "cell_status": {
     "execute_time": {
      "duration": 9030.323974609375,
      "end_time": 1610525005718.734
     }
    },
    "deletable": true,
    "editable": true
   },
   "source": [
    "**Podejście:** Zastosowałam tradycyjne podejście do analizy sentymentów, a także podejście data science, które obejmuje estymatory, transformatory i zastosowanie algorytmu uczenia maszynowego do mojej analizy nastrojów, gdzie 1 oznacza dodatnie, a 0 ujemne."
   ]
  },
  {
   "cell_type": "markdown",
   "metadata": {
    "deletable": true,
    "editable": true
   },
   "source": [
    "Zaimportowanie  numpy, pandas and matplotlib bibliotek do czyszczenia i eksploracyjnej analizy danych"
   ]
  },
  {
   "cell_type": "code",
   "execution_count": 1,
   "metadata": {
    "cell_status": {
     "execute_time": {
      "duration": 809.947021484375,
      "end_time": 1610740863688.711
     }
    },
    "collapsed": false,
    "deletable": true,
    "editable": true
   },
   "outputs": [
    {
     "name": "stdout",
     "output_type": "stream",
     "text": [
      "Starting Spark application\n"
     ]
    },
    {
     "data": {
      "text/html": [
       "<table>\n",
       "<tr><th>ID</th><th>YARN Application ID</th><th>Kind</th><th>State</th><th>Spark UI</th><th>Driver log</th><th>Current session?</th></tr><tr><td>3</td><td>application_1610708039652_0008</td><td>pyspark3</td><td>idle</td><td><a target=\"_blank\" href=\"http://hn1-sentim.pqdmdems5ehurmcm4wmemdhqzg.ax.internal.cloudapp.net:8088/proxy/application_1610708039652_0008/\">Link</a></td><td><a target=\"_blank\" href=\"http://wn1-sentim.pqdmdems5ehurmcm4wmemdhqzg.ax.internal.cloudapp.net:30060/node/containerlogs/container_e01_1610708039652_0008_01_000001/livy\">Link</a></td><td>✔</td></tr></table>"
      ],
      "text/plain": [
       "<IPython.core.display.HTML object>"
      ]
     },
     "metadata": {},
     "output_type": "display_data"
    },
    {
     "name": "stdout",
     "output_type": "stream",
     "text": [
      "SparkSession available as 'spark'.\n",
      "RangeIndex(start=0, stop=100000, step=1)"
     ]
    }
   ],
   "source": [
    "import pandas as pd  \n",
    "import numpy as np\n",
    "import matplotlib.pyplot as plt\n",
    "pd.RangeIndex(start=0, stop=100000,step=1)"
   ]
  },
  {
   "cell_type": "code",
   "execution_count": 2,
   "metadata": {
    "cell_status": {
     "execute_time": {
      "duration": 479.970947265625,
      "end_time": 1610740882978.494
     }
    },
    "collapsed": false,
    "deletable": true,
    "editable": true
   },
   "outputs": [],
   "source": [
    "%%local\n",
    "%matplotlib inline"
   ]
  },
  {
   "cell_type": "markdown",
   "metadata": {
    "deletable": true,
    "editable": true
   },
   "source": [
    "Sprawdzanie zawartości bazy w Apache Hive"
   ]
  },
  {
   "cell_type": "code",
   "execution_count": 3,
   "metadata": {
    "cell_status": {
     "execute_time": {
      "duration": 32853.8740234375,
      "end_time": 1610740918054.041
     }
    },
    "collapsed": false,
    "deletable": true,
    "editable": true
   },
   "outputs": [
    {
     "data": {
      "application/vnd.jupyter.widget-view+json": {
       "model_id": "33157874477248318a20e1f7df1d8bfb"
      }
     },
     "metadata": {},
     "output_type": "display_data"
    },
    {
     "data": {
      "application/vnd.jupyter.widget-view+json": {
       "model_id": "db1d9f90f52946e08f95be401dbe2539"
      }
     },
     "metadata": {},
     "output_type": "display_data"
    }
   ],
   "source": [
    "%%sql\n",
    "SHOW TABLES"
   ]
  },
  {
   "cell_type": "code",
   "execution_count": 4,
   "metadata": {
    "cell_status": {
     "execute_time": {
      "duration": 3396.174072265625,
      "end_time": 1610740922692.125
     }
    },
    "collapsed": false,
    "deletable": true,
    "editable": true
   },
   "outputs": [
    {
     "data": {
      "application/vnd.jupyter.widget-view+json": {
       "model_id": "261e10342ee34f27a7e1e7acd19ed51f"
      }
     },
     "metadata": {},
     "output_type": "display_data"
    },
    {
     "data": {
      "application/vnd.jupyter.widget-view+json": {
       "model_id": "e5a5dc66353f4012b4c948d92d0e8694"
      }
     },
     "metadata": {},
     "output_type": "display_data"
    }
   ],
   "source": [
    "%%sql\n",
    "describe tweets_pandemic"
   ]
  },
  {
   "cell_type": "markdown",
   "metadata": {
    "cell_status": {
     "execute_time": {
      "duration": 110.56103515625,
      "end_time": 1610530431852.662
     }
    },
    "deletable": true,
    "editable": true
   },
   "source": [
    "Sprawdzenie jakie mamy tendencje emocjonalne w pobranych tweetach"
   ]
  },
  {
   "cell_type": "code",
   "execution_count": 5,
   "metadata": {
    "cell_status": {
     "execute_time": {
      "duration": 66178.94995117188,
      "end_time": 1610740990086.805
     }
    },
    "collapsed": false,
    "deletable": true,
    "editable": true
   },
   "outputs": [
    {
     "data": {
      "application/vnd.jupyter.widget-view+json": {
       "model_id": "78a78511190e42dd9c2a82e74c94d1b2"
      }
     },
     "metadata": {},
     "output_type": "display_data"
    },
    {
     "data": {
      "application/vnd.jupyter.widget-view+json": {
       "model_id": "94d46d3ad5e84b35b3e32f6501958259"
      }
     },
     "metadata": {},
     "output_type": "display_data"
    }
   ],
   "source": [
    "%%sql\n",
    "select sentiment, count(*) as cnt from\n",
    "(select case \n",
    "when polarity < 0 then 'negative'  \n",
    "when polarity = 0 and subjectivity >= 0.5 then 'negative'\n",
    "when polarity = 0 and subjectivity < 0.5 then 'positive'\n",
    "when polarity > 0 then 'positive' \n",
    "end\n",
    "as sentiment\n",
    "from tweets_pandemic)\n",
    "where sentiment <> 'NaN'\n",
    "group by sentiment\n",
    "order by sentiment"
   ]
  },
  {
   "cell_type": "markdown",
   "metadata": {
    "cell_status": {
     "execute_time": {
      "duration": 164.64404296875,
      "end_time": 1610529884609.109
     }
    },
    "deletable": true,
    "editable": true
   },
   "source": [
    "Tworzenie DataFrame na podstawie danych o tweetach w Apache Hive"
   ]
  },
  {
   "cell_type": "code",
   "execution_count": 6,
   "metadata": {
    "cell_status": {
     "execute_time": {
      "duration": 303236.3488769531,
      "end_time": 1610741293400.859
     }
    },
    "collapsed": false,
    "deletable": true,
    "editable": true
   },
   "outputs": [
    {
     "name": "stdout",
     "output_type": "stream",
     "text": [
      "CPU times: user 3min 8s, sys: 22.4 s, total: 3min 31s\n",
      "Wall time: 5min 3s\n"
     ]
    }
   ],
   "source": [
    "%%time\n",
    "%%sql -q -o df -n -1\n",
    "\n",
    "select id, text as tweet, \n",
    "case \n",
    "when sentiment_string = 'negative'  then 0\n",
    "when sentiment_string = 'positive'  then 1\n",
    "end\n",
    "as sentiment\n",
    "from\n",
    "(select id, text,\n",
    " case \n",
    "when polarity < 0 then 'negative'  \n",
    "when polarity = 0 and subjectivity >= 0.5 then 'negative'\n",
    "when polarity = 0 and subjectivity < 0.5 then 'positive'\n",
    "when polarity > 0 then 'positive' \n",
    "end\n",
    "as sentiment_string\n",
    "from tweets_pandemic)\n",
    "where sentiment_string <> 'NaN'"
   ]
  },
  {
   "cell_type": "code",
   "execution_count": 7,
   "metadata": {
    "cell_status": {
     "execute_time": {
      "duration": 221.141845703125,
      "end_time": 1610741323644.578
     }
    },
    "collapsed": false,
    "deletable": true,
    "editable": true
   },
   "outputs": [
    {
     "name": "stdout",
     "output_type": "stream",
     "text": [
      "<class 'pandas.core.frame.DataFrame'>\n",
      "RangeIndex: 100000 entries, 0 to 99999\n",
      "Data columns (total 3 columns):\n",
      "id           100000 non-null int64\n",
      "tweet        100000 non-null object\n",
      "sentiment    100000 non-null int64\n",
      "dtypes: int64(2), object(1)\n",
      "memory usage: 2.3+ MB\n"
     ]
    },
    {
     "data": {
      "text/plain": [
       "RangeIndex(start=0, stop=100000, step=1)"
      ]
     },
     "execution_count": 7,
     "metadata": {},
     "output_type": "execute_result"
    }
   ],
   "source": [
    "%%local\n",
    "df.info()\n",
    "df.index"
   ]
  },
  {
   "cell_type": "markdown",
   "metadata": {
    "deletable": true,
    "editable": true
   },
   "source": [
    "Nie mamy tej samej liczby pozytywnych i negatywnych tweetów"
   ]
  },
  {
   "cell_type": "code",
   "execution_count": 8,
   "metadata": {
    "cell_status": {
     "execute_time": {
      "duration": 39.049072265625,
      "end_time": 1610741324537.663
     }
    },
    "collapsed": false,
    "deletable": true,
    "editable": true
   },
   "outputs": [
    {
     "data": {
      "text/plain": [
       "1    83511\n",
       "0    16489\n",
       "Name: sentiment, dtype: int64"
      ]
     },
     "execution_count": 8,
     "metadata": {},
     "output_type": "execute_result"
    }
   ],
   "source": [
    "%%local\n",
    "df.sentiment.value_counts()"
   ]
  },
  {
   "cell_type": "code",
   "execution_count": 9,
   "metadata": {
    "cell_status": {
     "execute_time": {
      "duration": 17.748046875,
      "end_time": 1610741324981.924
     }
    },
    "collapsed": false,
    "deletable": true,
    "editable": true
   },
   "outputs": [
    {
     "data": {
      "text/html": [
       "\n",
       "<table>\n",
       "  <tr>\n",
       "    <th>Magic</th>\n",
       "    <th>Example</th>\n",
       "    <th>Explanation</th>\n",
       "  </tr>\n",
       "  <tr>\n",
       "    <td>info</td>\n",
       "    <td>%%info</td>\n",
       "    <td>Outputs session information for the current Livy endpoint.</td>\n",
       "  </tr>\n",
       "  <tr>\n",
       "    <td>cleanup</td>\n",
       "    <td>%%cleanup -f</td>\n",
       "    <td>Deletes all sessions for the current Livy endpoint, including this notebook's session. The force flag is mandatory.</td>\n",
       "  </tr>\n",
       "  <tr>\n",
       "    <td>delete</td>\n",
       "    <td>%%delete -f -s 0</td>\n",
       "    <td>Deletes a session by number for the current Livy endpoint. Cannot delete this kernel's session.</td>\n",
       "  </tr>\n",
       "  <tr>\n",
       "    <td>logs</td>\n",
       "    <td>%%logs</td>\n",
       "    <td>Outputs the current session's Livy logs.</td>\n",
       "  </tr>\n",
       "  <tr>\n",
       "    <td>configure</td>\n",
       "    <td>%%configure -f<br/>{\"executorMemory\": \"1000M\", \"executorCores\": 4}</td>\n",
       "    <td>Configure the session creation parameters. The force flag is mandatory if a session has already been\n",
       "    created and the session will be dropped and recreated.<br/>Look at <a href=\"https://github.com/cloudera/livy#request-body\">\n",
       "    Livy's POST /sessions Request Body</a> for a list of valid parameters. Parameters must be passed in as a JSON string.</td>\n",
       "  </tr>\n",
       "  <tr>\n",
       "    <td>spark</td>\n",
       "    <td>%%spark -o df<br/>df = spark.read.parquet('...</td>\n",
       "    <td>Executes spark commands.\n",
       "    Parameters:\n",
       "      <ul>\n",
       "        <li>-o VAR_NAME: The Spark dataframe of name VAR_NAME will be available in the %%local Python context as a\n",
       "          <a href=\"http://pandas.pydata.org/\">Pandas</a> dataframe with the same name.</li>\n",
       "        <li>-m METHOD: Sample method, either <tt>take</tt> or <tt>sample</tt>.</li>\n",
       "        <li>-n MAXROWS: The maximum number of rows of a dataframe that will be pulled from Livy to Jupyter.\n",
       "            If this number is negative, then the number of rows will be unlimited.</li>\n",
       "        <li>-r FRACTION: Fraction used for sampling.</li>\n",
       "      </ul>\n",
       "    </td>\n",
       "  </tr>\n",
       "  <tr>\n",
       "    <td>sql</td>\n",
       "    <td>%%sql -o tables -q<br/>SHOW TABLES</td>\n",
       "    <td>Executes a SQL query against the variable sqlContext (Spark v1.x) or spark (Spark v2.x).\n",
       "    Parameters:\n",
       "      <ul>\n",
       "        <li>-o VAR_NAME: The result of the SQL query will be available in the %%local Python context as a\n",
       "          <a href=\"http://pandas.pydata.org/\">Pandas</a> dataframe.</li>\n",
       "        <li>-q: The magic will return None instead of the dataframe (no visualization).</li>\n",
       "        <li>-m, -n, -r are the same as the %%spark parameters above.</li>\n",
       "      </ul>\n",
       "    </td>\n",
       "  </tr>\n",
       "  <tr>\n",
       "    <td>local</td>\n",
       "    <td>%%local<br/>a = 1</td>\n",
       "    <td>All the code in subsequent lines will be executed locally. Code must be valid Python code.</td>\n",
       "  </tr>\n",
       "</table>\n"
      ],
      "text/plain": [
       "<IPython.core.display.HTML object>"
      ]
     },
     "metadata": {},
     "output_type": "display_data"
    }
   ],
   "source": [
    "%%help"
   ]
  },
  {
   "cell_type": "markdown",
   "metadata": {
    "deletable": true,
    "editable": true
   },
   "source": [
    "### 1.Czyszczenie danych"
   ]
  },
  {
   "cell_type": "code",
   "execution_count": 10,
   "metadata": {
    "cell_status": {
     "execute_time": {
      "duration": 77.3310546875,
      "end_time": 1610741325994.511
     }
    },
    "collapsed": false,
    "deletable": true,
    "editable": true
   },
   "outputs": [
    {
     "data": {
      "text/plain": [
       "u'RT @realDonaldTrump: \\u201cThe President was responsible for those direct payments to Americans in the Covid-19 Relief Bill.\\u201d @kilmeade @foxandf\\u2026'"
      ]
     },
     "execution_count": 10,
     "metadata": {},
     "output_type": "execute_result"
    }
   ],
   "source": [
    "%%local\n",
    "df.tweet[15]"
   ]
  },
  {
   "cell_type": "markdown",
   "metadata": {
    "cell_status": {
     "execute_time": {
      "duration": 232.326171875,
      "end_time": 1610552144812.966
     }
    },
    "collapsed": true,
    "deletable": true,
    "editable": true
   },
   "source": [
    "Importowanie bibliotek potrzebnych do czyszczenia tekstu w tweetach\n",
    "<br>\n",
    "Testowanie wyników dla recenzji numer 15 i mozna zauważyć, że tagi HTML (u\" i \\u) zostały usunięte."
   ]
  },
  {
   "cell_type": "code",
   "execution_count": 11,
   "metadata": {
    "cell_status": {
     "execute_time": {
      "duration": 355.35595703125,
      "end_time": 1610741327161.629
     }
    },
    "collapsed": false,
    "deletable": true,
    "editable": true
   },
   "outputs": [
    {
     "name": "stdout",
     "output_type": "stream",
     "text": [
      "RT @realDonaldTrump: “The President was responsible for those direct payments to Americans in the Covid-19 Relief Bill.” @kilmeade @foxandf…\n"
     ]
    }
   ],
   "source": [
    "%%local\n",
    "from bs4 import BeautifulSoup\n",
    "import re\n",
    "test = BeautifulSoup(df.tweet[15], 'lxml')\n",
    "print(test.get_text())"
   ]
  },
  {
   "cell_type": "markdown",
   "metadata": {
    "deletable": true,
    "editable": true
   },
   "source": [
    "Importowanie funkcji biblioteki NTLK „WordPunctTokenizer”, która dzieli ciąg na podciągi przez dzielenie."
   ]
  },
  {
   "cell_type": "code",
   "execution_count": 12,
   "metadata": {
    "cell_status": {
     "execute_time": {
      "duration": 11470.4189453125,
      "end_time": 1610741341746.386
     }
    },
    "collapsed": true,
    "deletable": true,
    "editable": true
   },
   "outputs": [],
   "source": [
    "%%local\n",
    "from nltk.tokenize import WordPunctTokenizer\n",
    "token = WordPunctTokenizer()\n",
    "\n",
    "reg1 = r'@[A-Za-z0-9]+' # usuwanie liczb i znaków specjalnych\n",
    "reg2 = r'<[^<]+?>'  # usuwanie znaków specjalnych\n",
    "comb = r'|'.join((reg1, reg2)) # łączę obie zmienne regresji i uzyję ich poniżej w funkcji."
   ]
  },
  {
   "cell_type": "markdown",
   "metadata": {
    "deletable": true,
    "editable": true
   },
   "source": [
    "Funkcja „clean” do czyszczenia tekstu "
   ]
  },
  {
   "cell_type": "code",
   "execution_count": 13,
   "metadata": {
    "cell_status": {
     "execute_time": {
      "duration": 98.632080078125,
      "end_time": 1610741341909.448
     }
    },
    "collapsed": true,
    "deletable": true,
    "editable": true
   },
   "outputs": [],
   "source": [
    "%%local\n",
    "def clean(tweet):\n",
    "    s = BeautifulSoup(tweet, 'lxml')\n",
    "    s_soup = s.get_text()\n",
    "    strip = re.sub(comb, '', s_soup)\n",
    "    letter = re.sub(\"[^a-zA-Z]\", \" \", strip)\n",
    "    lower = letter.lower()\n",
    "    replaceprefix = re.sub(\"^u'\", \"'\", lower) \n",
    "    word = token.tokenize(replaceprefix)\n",
    "    return (\" \".join(word)).strip()"
   ]
  },
  {
   "cell_type": "markdown",
   "metadata": {
    "deletable": true,
    "editable": true
   },
   "source": [
    "Testowanie funkcji"
   ]
  },
  {
   "cell_type": "code",
   "execution_count": 14,
   "metadata": {
    "cell_status": {
     "execute_time": {
      "duration": 188.697998046875,
      "end_time": 1610741342134.996
     }
    },
    "collapsed": false,
    "deletable": true,
    "editable": true
   },
   "outputs": [
    {
     "data": {
      "text/plain": [
       "[u'la russie d nonce et expose l agenda secret du nouvel ordre mondial sur le covid',\n",
       " u'rt hong kong on monday said it would ban all flights from britain following the discovery of a new and highly infectious strain of th',\n",
       " u'sanchez uy ayaw na pavideo kase nahuli siyang nagpaparty habang pandemic trauma ka ghorl stupid mo banda diyan',\n",
       " u'the nhs will be offering the covid vaccine over the coming weeks and months',\n",
       " u'rt monye there is a new strain of covid that leaves you blind',\n",
       " u'rt chuck collins',\n",
       " u'rt and the only reason mitch mcconnell is allowing a coronavirus relief bill to go forward at this time is that',\n",
       " u'rt what if the true meaning of christmas is not fueling a fucking pandemic',\n",
       " u'can t wait for this pandemic to be over not for health reasons so i do https t co yqxr dll',\n",
       " u'update data sebaran kasus covid di kabupaten bantul berdasarkan data dari dinas kesehatan kabupaten bantul per https t co u kqoazuf',\n",
       " u'rt dg here s my brave and beautiful elder daughter laura after receiving her round one dose of the covid vaccine she s an',\n",
       " u'rt keenum here s where your tax dollars are going in the stimulus stunt https t co mnermgnbeh',\n",
       " u'rt moving people and coronavirus from prison to prison https t co po tqaiw b via from a michigan prison this whole fuck',\n",
       " u'rt chismosa rich people did not experience the same pandemic as working class people and now they get the vaccine first it s actually',\n",
       " u'though covid antibodies could help save lives hospitals are struggling to set up infusion sites but states and https t co nwed o nr',\n",
       " u'rt the president was responsible for those direct payments to americans in the covid relief bill']"
      ]
     },
     "execution_count": 14,
     "metadata": {},
     "output_type": "execute_result"
    }
   ],
   "source": [
    "%%local\n",
    "test = df.tweet[:16]\n",
    "\n",
    "result = []  #pusty ciąg dodawany przy każdej iteracji czyszczenia tweetów.\n",
    "for t in test:\n",
    "    result.append(clean(t)) # wywołanie funkcji clean\n",
    "    \n",
    "result"
   ]
  },
  {
   "cell_type": "markdown",
   "metadata": {
    "cell_status": {
     "execute_time": {
      "duration": 16.44677734375,
      "end_time": 1610553182869.776
     }
    },
    "deletable": true,
    "editable": true
   },
   "source": [
    "#### Teraz czyszcze całe dane w kolumnie tweet. Podzieliłam tweety na 2 części i będę czyścić stopniowo, aby skrócić czas pracy."
   ]
  },
  {
   "cell_type": "code",
   "execution_count": 15,
   "metadata": {
    "cell_status": {
     "execute_time": {
      "duration": 63582.10205078125,
      "end_time": 1610741405772.854
     }
    },
    "collapsed": false,
    "deletable": true,
    "editable": true
   },
   "outputs": [
    {
     "name": "stdout",
     "output_type": "stream",
     "text": [
      "Czyszczenie część 1\n",
      "CPU times: user 43.3 s, sys: 5.9 s, total: 49.2 s\n",
      "Wall time: 1min 3s\n"
     ]
    }
   ],
   "source": [
    "%%local\n",
    "%%time\n",
    "import warnings\n",
    "warnings.filterwarnings(\"ignore\", category=UserWarning, module='bs4')\n",
    "n = [0,50000,100000] \n",
    "print (\"Czyszczenie część 1\")\n",
    "clean_tweet = []\n",
    "for i in range(n[0],n[1]):                                                                \n",
    "    clean_tweet.append(clean(df['tweet'][i]))"
   ]
  },
  {
   "cell_type": "code",
   "execution_count": 16,
   "metadata": {
    "cell_status": {
     "execute_time": {
      "duration": 51809.594970703125,
      "end_time": 1610741457609.611
     }
    },
    "collapsed": false,
    "deletable": true,
    "editable": true
   },
   "outputs": [
    {
     "name": "stdout",
     "output_type": "stream",
     "text": [
      "Czyszczenie część 2\n",
      "CPU times: user 43.6 s, sys: 4.62 s, total: 48.2 s\n",
      "Wall time: 51.8 s\n"
     ]
    }
   ],
   "source": [
    "%%local\n",
    "%%time\n",
    "import warnings\n",
    "warnings.filterwarnings(\"ignore\", category=UserWarning, module='bs4')\n",
    "n = [0,50000,100000] \n",
    "print (\"Czyszczenie część 2\")\n",
    "for i in range(n[1],n[2]):                                                                \n",
    "    clean_tweet.append(clean(df['tweet'][i]))"
   ]
  },
  {
   "cell_type": "code",
   "execution_count": 17,
   "metadata": {
    "cell_status": {
     "execute_time": {
      "duration": 11.99609375,
      "end_time": 1610741457649.132
     }
    },
    "collapsed": false,
    "deletable": true,
    "editable": true
   },
   "outputs": [
    {
     "data": {
      "text/plain": [
       "100000"
      ]
     },
     "execution_count": 17,
     "metadata": {},
     "output_type": "execute_result"
    }
   ],
   "source": [
    "%%local\n",
    "len(clean_tweet) #liczba wyczyszczonych tweetów"
   ]
  },
  {
   "cell_type": "markdown",
   "metadata": {
    "deletable": true,
    "editable": true
   },
   "source": [
    "#### Zapisanie wyczyszczonych tweetów do pliku typu parquet"
   ]
  },
  {
   "cell_type": "code",
   "execution_count": 18,
   "metadata": {
    "cell_status": {
     "execute_time": {
      "duration": 17.27587890625,
      "end_time": 1610741506974.512
     }
    },
    "collapsed": false,
    "deletable": true,
    "editable": true
   },
   "outputs": [
    {
     "data": {
      "text/plain": [
       "RangeIndex(start=0, stop=100000, step=1)"
      ]
     },
     "execution_count": 18,
     "metadata": {},
     "output_type": "execute_result"
    }
   ],
   "source": [
    "%%local\n",
    "import pandas as pd  \n",
    "import numpy as np\n",
    "import matplotlib.pyplot as plt\n",
    "pd.RangeIndex(start=0, stop=100000,step=1)"
   ]
  },
  {
   "cell_type": "code",
   "execution_count": 19,
   "metadata": {
    "cell_status": {
     "execute_time": {
      "duration": 1087.58203125,
      "end_time": 1610741508490.925
     }
    },
    "collapsed": false,
    "deletable": true,
    "editable": true
   },
   "outputs": [
    {
     "data": {
      "application/vnd.jupyter.widget-view+json": {
       "model_id": "51cfc18925994f58a5007d626cf2b55a"
      }
     },
     "metadata": {},
     "output_type": "display_data"
    },
    {
     "data": {
      "application/vnd.jupyter.widget-view+json": {
       "model_id": "9fae00cfa61b47c4873ee9076e83b4b2"
      }
     },
     "metadata": {},
     "output_type": "display_data"
    }
   ],
   "source": [
    "%%local\n",
    "df_new = pd.DataFrame(clean_tweet,columns=['tweet'])\n",
    "df_new['id'] = df.id\n",
    "df_new['sentiment'] = df.sentiment\n",
    "df_new.head()"
   ]
  },
  {
   "cell_type": "code",
   "execution_count": 20,
   "metadata": {
    "cell_status": {
     "execute_time": {
      "duration": 10.69677734375,
      "end_time": 1610741508511.807
     }
    },
    "collapsed": false,
    "deletable": true,
    "editable": true
   },
   "outputs": [
    {
     "data": {
      "text/plain": [
       "100000"
      ]
     },
     "execution_count": 20,
     "metadata": {},
     "output_type": "execute_result"
    }
   ],
   "source": [
    "%%local\n",
    "len(df_new)"
   ]
  },
  {
   "cell_type": "code",
   "execution_count": 21,
   "metadata": {
    "cell_status": {
     "execute_time": {
      "duration": 95.717041015625,
      "end_time": 1610741508625.849
     }
    },
    "collapsed": false,
    "deletable": true,
    "editable": true
   },
   "outputs": [
    {
     "name": "stdout",
     "output_type": "stream",
     "text": [
      "<class 'pandas.core.frame.DataFrame'>\n",
      "RangeIndex: 100000 entries, 0 to 99999\n",
      "Data columns (total 3 columns):\n",
      "tweet        100000 non-null object\n",
      "id           100000 non-null int64\n",
      "sentiment    100000 non-null int64\n",
      "dtypes: int64(2), object(1)\n",
      "memory usage: 2.3+ MB\n"
     ]
    },
    {
     "data": {
      "text/plain": [
       "RangeIndex(start=0, stop=100000, step=1)"
      ]
     },
     "execution_count": 21,
     "metadata": {},
     "output_type": "execute_result"
    }
   ],
   "source": [
    "%%local\n",
    "df_new.info()\n",
    "df_new.index"
   ]
  },
  {
   "cell_type": "code",
   "execution_count": 22,
   "metadata": {
    "cell_status": {
     "execute_time": {
      "duration": 2851.381103515625,
      "end_time": 1610741511615.642
     }
    },
    "collapsed": false,
    "deletable": true,
    "editable": true
   },
   "outputs": [
    {
     "name": "stdout",
     "output_type": "stream",
     "text": [
      "/home/sshuser/gettweets\n",
      "CPU times: user 2.46 s, sys: 252 ms, total: 2.72 s\n",
      "Wall time: 2.83 s\n"
     ]
    }
   ],
   "source": [
    "%%local\n",
    "%%time\n",
    "%cd /home/sshuser/gettweets\n",
    "%pwd\n",
    "df_new.to_csv('tweets_pandemic_clean.csv',encoding='utf-8')\n",
    "\n",
    "#df_new.write.format(\"com.databricks.spark.csv\").option(\"header\", \"true\").save(\"tweets_pandemic_clean.csv\")"
   ]
  },
  {
   "cell_type": "code",
   "execution_count": 23,
   "metadata": {
    "cell_status": {
     "execute_time": {
      "duration": 383.62109375,
      "end_time": 1610741512017.497
     }
    },
    "collapsed": false,
    "deletable": true,
    "editable": true
   },
   "outputs": [
    {
     "name": "stdout",
     "output_type": "stream",
     "text": [
      "sentiments.csv  stopwords.txt  tweets_pandemic_clean.csv\r\n"
     ]
    }
   ],
   "source": [
    "%%local\n",
    "%pwd\n",
    "%ls"
   ]
  },
  {
   "cell_type": "markdown",
   "metadata": {
    "cell_status": {
     "execute_time": {
      "duration": 263.512939453125,
      "end_time": 1610623655145.884
     }
    },
    "deletable": true,
    "editable": true
   },
   "source": [
    "### 2. Eksploracyjna analiza danych"
   ]
  },
  {
   "cell_type": "markdown",
   "metadata": {
    "deletable": true,
    "editable": true
   },
   "source": [
    "1. Do wizualizacji użyłam Wordcloud, aby zobaczyć częstotliwość słów zgodnie z kolumną tweet. \n",
    "<br>\n",
    "2. Tworzony jest wykres słupkowy, aby wykreślić całkowitą liczbę pozytywnych i negatywnych słów dla ogólnego porównania nastrojów."
   ]
  },
  {
   "cell_type": "code",
   "execution_count": 24,
   "metadata": {
    "cell_status": {
     "execute_time": {
      "duration": 39.942138671875,
      "end_time": 1610741512078.278
     }
    },
    "collapsed": false,
    "deletable": true,
    "editable": true
   },
   "outputs": [],
   "source": [
    "%%local\n",
    "import collections\n",
    "from wordcloud import WordCloud #zaimportować wordcloud biblioteke\n",
    "import matplotlib.pyplot as plt"
   ]
  },
  {
   "cell_type": "markdown",
   "metadata": {
    "cell_status": {
     "execute_time": {
      "duration": 161.244873046875,
      "end_time": 1610624047302.308
     }
    },
    "deletable": true,
    "editable": true
   },
   "source": [
    "Konwertuję ramkę danych na typ danych str, abym mogła podać je jako dane wejściowe w chmurze słów."
   ]
  },
  {
   "cell_type": "code",
   "execution_count": 25,
   "metadata": {
    "cell_status": {
     "execute_time": {
      "duration": 48.3369140625,
      "end_time": 1610741512146.635
     }
    },
    "collapsed": false,
    "deletable": true,
    "editable": true
   },
   "outputs": [
    {
     "data": {
      "text/plain": [
       "str"
      ]
     },
     "execution_count": 25,
     "metadata": {},
     "output_type": "execute_result"
    }
   ],
   "source": [
    "%%local\n",
    "arr = df_new.tweet.values\n",
    "obj = np.array2string(arr, precision=2, separator=',',suppress_small=True)\n",
    "type(obj)"
   ]
  },
  {
   "cell_type": "markdown",
   "metadata": {
    "deletable": true,
    "editable": true
   },
   "source": [
    "####  Wniosek numer 1: Word Cloud służy do wyświetlania najczęściej używanych słów w tweetach. Można wywnioskować, że słowa takie jak coronavirus, vacuna, lot,  są używane częściej i może to być mocny powód do sentymentu dla tematu jakim jest COVID-19."
   ]
  },
  {
   "cell_type": "code",
   "execution_count": 26,
   "metadata": {
    "cell_status": {
     "execute_time": {
      "duration": 5817.490966796875,
      "end_time": 1610741518301.658
     }
    },
    "collapsed": false,
    "deletable": true,
    "editable": true
   },
   "outputs": [
    {
     "data": {
      "image/png": "[encoded data removed]",
      "text/plain": [
       "<matplotlib.figure.Figure at 0x7f56dda8f810>"
      ]
     },
     "metadata": {},
     "output_type": "display_data"
    }
   ],
   "source": [
    "%%local\n",
    "wordcloud = WordCloud(width=1600, height=800,max_font_size=200).generate(obj)\n",
    "plt.figure(figsize=(12,10))\n",
    "plt.imshow(wordcloud, interpolation=\"bilinear\")\n",
    "plt.axis(\"off\")\n",
    "plt.show()"
   ]
  },
  {
   "cell_type": "code",
   "execution_count": 27,
   "metadata": {
    "cell_status": {
     "execute_time": {
      "duration": 1038.89892578125,
      "end_time": 1610741519350.603
     }
    },
    "collapsed": false,
    "deletable": true,
    "editable": true
   },
   "outputs": [
    {
     "data": {
      "application/vnd.jupyter.widget-view+json": {
       "model_id": "22a1b61963f04e4eb56d7bf33c105632"
      }
     },
     "metadata": {},
     "output_type": "display_data"
    },
    {
     "data": {
      "application/vnd.jupyter.widget-view+json": {
       "model_id": "769e8044aed744f0952b8ee03bd959ab"
      }
     },
     "metadata": {},
     "output_type": "display_data"
    }
   ],
   "source": [
    "%%local\n",
    "df_tokenized = pd.DataFrame(WordPunctTokenizer().tokenize(obj), columns=['word'])\n",
    "df_tokenized.head()"
   ]
  },
  {
   "cell_type": "markdown",
   "metadata": {
    "deletable": true,
    "editable": true
   },
   "source": [
    "\n",
    "#### Wniosek numer 2: Z poniższego wykresu słupkowego możemy wywnioskować, że ogólny nastrój z tweetów jest pozytywny"
   ]
  },
  {
   "cell_type": "markdown",
   "metadata": {
    "deletable": true,
    "editable": true
   },
   "source": [
    "#Użyłam słownika, który ma predefiniowane uczucia przypisane do słów. (https://github.com/sridharswamy/Twitter-Sentiment-Analysis-Using-Spark-Streaming-And-Kafka/tree/master/Dataset)"
   ]
  },
  {
   "cell_type": "code",
   "execution_count": 28,
   "metadata": {
    "cell_status": {
     "execute_time": {
      "duration": 1123.041015625,
      "end_time": 1610741523838.225
     }
    },
    "collapsed": false,
    "deletable": true,
    "editable": true
   },
   "outputs": [
    {
     "name": "stdout",
     "output_type": "stream",
     "text": [
      "/home/sshuser/gettweets\n"
     ]
    },
    {
     "data": {
      "application/vnd.jupyter.widget-view+json": {
       "model_id": "580a0ed9fd5e4429b8bd1a4a53f03f09"
      }
     },
     "metadata": {},
     "output_type": "display_data"
    },
    {
     "data": {
      "application/vnd.jupyter.widget-view+json": {
       "model_id": "3a5e373ccb364c8b8a9e2098e7a53760"
      }
     },
     "metadata": {},
     "output_type": "display_data"
    }
   ],
   "source": [
    "%local\n",
    "%cd /home/sshuser/gettweets\n",
    "dfDictList = pd.read_csv(\"sentiments.csv\")\n",
    "dfDictList.head()"
   ]
  },
  {
   "cell_type": "code",
   "execution_count": 29,
   "metadata": {
    "cell_status": {
     "execute_time": {
      "duration": 98.18994140625,
      "end_time": 1610741523962.611
     }
    },
    "collapsed": true,
    "deletable": true,
    "editable": true
   },
   "outputs": [],
   "source": [
    "#Łączenie danych o sentymentach ze słownikieem dla uzyskania oceny każdego słowa z tweetów"
   ]
  },
  {
   "cell_type": "code",
   "execution_count": 30,
   "metadata": {
    "cell_status": {
     "execute_time": {
      "duration": 75.447021484375,
      "end_time": 1610741524221.715
     }
    },
    "collapsed": false,
    "deletable": true,
    "editable": true
   },
   "outputs": [],
   "source": [
    "%%local\n",
    "df_merged = pd.merge(dfDictList, df_tokenized, on='word', how='inner')\n",
    "df_grouped = df_merged.groupby('sentiment', as_index = False).count()"
   ]
  },
  {
   "cell_type": "code",
   "execution_count": 31,
   "metadata": {
    "cell_status": {
     "execute_time": {
      "duration": 774.626953125,
      "end_time": 1610741525553.519
     }
    },
    "collapsed": false,
    "deletable": true,
    "editable": true
   },
   "outputs": [
    {
     "data": {
      "text/plain": [
       "[<matplotlib.text.Text at 0x7f56dc7d55d0>,\n",
       " <matplotlib.text.Text at 0x7f56dc7eac50>]"
      ]
     },
     "execution_count": 31,
     "metadata": {},
     "output_type": "execute_result"
    },
    {
     "data": {
      "image/png": "[encoded data removed]",
      "text/plain": [
       "<matplotlib.figure.Figure at 0x7f56dc0ce7d0>"
      ]
     },
     "metadata": {},
     "output_type": "display_data"
    }
   ],
   "source": [
    "%%local\n",
    "df_grouped = df_new.groupby('sentiment', as_index = False).count()\n",
    "\n",
    "\n",
    "labels_word = ['Negative','Positive']\n",
    "ax = df_grouped.plot(kind = 'bar', x = 'sentiment', y='tweet')\n",
    "ax.set_xticklabels(labels_word)"
   ]
  },
  {
   "cell_type": "markdown",
   "metadata": {
    "deletable": true,
    "editable": true
   },
   "source": [
    "### 3. Prosta metoda wykonywania analizy nastrojów."
   ]
  },
  {
   "cell_type": "markdown",
   "metadata": {
    "deletable": true,
    "editable": true
   },
   "source": [
    "Używam prostego podejścia do przeprowadzania  analizy i będę używać czystego zestawu danych „tweet_clean”, który stworzyłam w poprzedniej sekcji.\n",
    "<br>\n",
    "Importowanie bibliotek Spark API do przyszłej analizy w kontekście Spark SQL."
   ]
  },
  {
   "cell_type": "code",
   "execution_count": 32,
   "metadata": {
    "cell_status": {
     "execute_time": {
      "duration": 759.883056640625,
      "end_time": 1610741528926.652
     }
    },
    "collapsed": false,
    "deletable": true,
    "editable": true
   },
   "outputs": [
    {
     "data": {
      "text/plain": [
       "u'/home/sshuser/gettweets'"
      ]
     },
     "execution_count": 32,
     "metadata": {},
     "output_type": "execute_result"
    }
   ],
   "source": [
    "%%local\n",
    "from pyspark import SparkConf, SparkContext\n",
    "from pyspark.sql import SQLContext\n",
    "from pyspark.sql import functions as fn \n",
    "import findspark\n",
    "findspark.init()\n",
    "import warnings\n",
    "%pwd"
   ]
  },
  {
   "cell_type": "code",
   "execution_count": 33,
   "metadata": {
    "cell_status": {
     "execute_time": {
      "duration": 15730.656005859375,
      "end_time": 1610741544672.738
     }
    },
    "collapsed": true,
    "deletable": true,
    "editable": true
   },
   "outputs": [],
   "source": [
    "%%local\n",
    "conf = SparkConf().setMaster(\"local[4]\").setAppName(\"Sentiment_Project\")  # działam w klastrze z 4 węzłami, ale jest on skalowalny również dla środowiska wieloklastrowego.\n",
    "sc = SparkContext.getOrCreate(conf = conf)\n",
    "sqlContext = SQLContext(sc)"
   ]
  },
  {
   "cell_type": "markdown",
   "metadata": {
    "deletable": true,
    "editable": true
   },
   "source": [
    "Tworzenie kontekstu sql do odczytu wyczyszczonych danych w ramce danych spark sql"
   ]
  },
  {
   "cell_type": "code",
   "execution_count": 34,
   "metadata": {
    "cell_status": {
     "execute_time": {
      "duration": 25115.02197265625,
      "end_time": 1610741569804.535
     }
    },
    "collapsed": false,
    "deletable": true,
    "editable": true
   },
   "outputs": [
    {
     "name": "stdout",
     "output_type": "stream",
     "text": [
      "/home/sshuser/gettweets\n"
     ]
    }
   ],
   "source": [
    "%%local\n",
    "%cd /home/sshuser/gettweets\n",
    "tweet_clean_df = sqlContext.read.csv('/HdiNotebooks/tweets_pandemic_clean.csv', header=True, inferSchema=True)"
   ]
  },
  {
   "cell_type": "code",
   "execution_count": 35,
   "metadata": {
    "cell_status": {
     "execute_time": {
      "duration": 25.55615234375,
      "end_time": 1610741569851.299
     }
    },
    "collapsed": false,
    "deletable": true,
    "editable": true
   },
   "outputs": [
    {
     "data": {
      "text/plain": [
       "pyspark.sql.dataframe.DataFrame"
      ]
     },
     "execution_count": 35,
     "metadata": {},
     "output_type": "execute_result"
    }
   ],
   "source": [
    "%%local\n",
    "type(tweet_clean_df)"
   ]
  },
  {
   "cell_type": "code",
   "execution_count": 99,
   "metadata": {
    "cell_status": {
     "execute_time": {
      "duration": 18501.458984375,
      "end_time": 1610747576285.003
     }
    },
    "collapsed": false,
    "deletable": true,
    "editable": true
   },
   "outputs": [
    {
     "name": "stdout",
     "output_type": "stream",
     "text": [
      "+---+--------------------+-------------------+---------+\n",
      "|_c0|               tweet|                 id|sentiment|\n",
      "+---+--------------------+-------------------+---------+\n",
      "|  1|rt hong kong on m...|1341007597202227203|        1|\n",
      "|  3|the nhs will be o...|1341007597349048320|        1|\n",
      "|  5|    rt chuck collins|1341007597906878464|        1|\n",
      "|  8|can t wait for th...|1341007598657675266|        1|\n",
      "|  9|update data sebar...|1341007597952876547|        1|\n",
      "+---+--------------------+-------------------+---------+\n",
      "only showing top 5 rows\n",
      "\n"
     ]
    }
   ],
   "source": [
    "%%local\n",
    "tweet_clean_df.dropna().show(5) # dane w czystym formacie i pomyślnie załadowane"
   ]
  },
  {
   "cell_type": "code",
   "execution_count": 37,
   "metadata": {
    "cell_status": {
     "execute_time": {
      "duration": 136.843017578125,
      "end_time": 1610741573152.925
     }
    },
    "collapsed": false,
    "deletable": true,
    "editable": true
   },
   "outputs": [
    {
     "name": "stdout",
     "output_type": "stream",
     "text": [
      "root\n",
      " |-- _c0: integer (nullable = true)\n",
      " |-- tweet: string (nullable = true)\n",
      " |-- id: long (nullable = true)\n",
      " |-- sentiment: integer (nullable = true)\n",
      "\n"
     ]
    }
   ],
   "source": [
    "%%local\n",
    "tweet_clean_df.printSchema()"
   ]
  },
  {
   "cell_type": "code",
   "execution_count": 100,
   "metadata": {
    "cell_status": {
     "execute_time": {
      "duration": 33786.87890625,
      "end_time": 1610747741076.401
     }
    },
    "collapsed": false,
    "deletable": true,
    "editable": true
   },
   "outputs": [
    {
     "data": {
      "text/plain": [
       "32823"
      ]
     },
     "execution_count": 100,
     "metadata": {},
     "output_type": "execute_result"
    }
   ],
   "source": [
    "%%local\n",
    "tweet_clean_df.dropna().count()"
   ]
  },
  {
   "cell_type": "markdown",
   "metadata": {
    "deletable": true,
    "editable": true
   },
   "source": [
    "Przeglądanie pierwszego pozytywnego tweeta"
   ]
  },
  {
   "cell_type": "code",
   "execution_count": 39,
   "metadata": {
    "cell_status": {
     "execute_time": {
      "duration": 2801.782958984375,
      "end_time": 1610741582671.458
     }
    },
    "collapsed": false,
    "deletable": true,
    "editable": true
   },
   "outputs": [
    {
     "data": {
      "text/plain": [
       "Row(_c0=1, tweet=u'rt hong kong on monday said it would ban all flights from britain following the discovery of a new and highly infectious strain of th', id=1341007597202227203, sentiment=1)"
      ]
     },
     "execution_count": 39,
     "metadata": {},
     "output_type": "execute_result"
    }
   ],
   "source": [
    "%%local\n",
    "tweet_clean_df.where(fn.col('sentiment') == 1).first()"
   ]
  },
  {
   "cell_type": "markdown",
   "metadata": {
    "deletable": true,
    "editable": true
   },
   "source": [
    "Przeglądanie pierwszego negatywnego tweeta"
   ]
  },
  {
   "cell_type": "code",
   "execution_count": 40,
   "metadata": {
    "cell_status": {
     "execute_time": {
      "duration": 1954.448974609375,
      "end_time": 1610741584696.159
     }
    },
    "collapsed": false,
    "deletable": true,
    "editable": true
   },
   "outputs": [
    {
     "data": {
      "text/plain": [
       "Row(_c0=0, tweet=u'la russie d nonce et expose l agenda secret du nouvel ordre mondial sur le covid', id=1341007597076422657, sentiment=0)"
      ]
     },
     "execution_count": 40,
     "metadata": {},
     "output_type": "execute_result"
    }
   ],
   "source": [
    "%%local\n",
    "tweet_clean_df.where(fn.col('sentiment') == 0).first()"
   ]
  },
  {
   "cell_type": "markdown",
   "metadata": {
    "deletable": true,
    "editable": true
   },
   "source": [
    "Obliczanie średniej długości  pozytywnych i negatywnych tweetów"
   ]
  },
  {
   "cell_type": "code",
   "execution_count": 41,
   "metadata": {
    "cell_status": {
     "execute_time": {
      "duration": 5652.797119140625,
      "end_time": 1610741590405.675
     }
    },
    "collapsed": false,
    "deletable": true,
    "editable": true
   },
   "outputs": [
    {
     "name": "stdout",
     "output_type": "stream",
     "text": [
      "+--------------------------+\n",
      "|avg(Positive Tweet Length)|\n",
      "+--------------------------+\n",
      "|         88.69210497685046|\n",
      "+--------------------------+\n",
      "\n"
     ]
    }
   ],
   "source": [
    "%%local\n",
    "pr = tweet_clean_df.select(fn.length('tweet').alias('Positive Tweet Length')).where(fn.col('sentiment') == 1)\n",
    "pr.select(fn.avg('Positive Tweet Length')).show()"
   ]
  },
  {
   "cell_type": "code",
   "execution_count": 42,
   "metadata": {
    "cell_status": {
     "execute_time": {
      "duration": 4367.216796875,
      "end_time": 1610741594830.233
     }
    },
    "collapsed": false,
    "deletable": true,
    "editable": true
   },
   "outputs": [
    {
     "name": "stdout",
     "output_type": "stream",
     "text": [
      "+--------------------------+\n",
      "|avg(Negative Tweet Length)|\n",
      "+--------------------------+\n",
      "|        100.48700825643516|\n",
      "+--------------------------+\n",
      "\n"
     ]
    }
   ],
   "source": [
    "%%local\n",
    "nr = tweet_clean_df.select(fn.length('tweet').alias('Negative Tweet Length')).where(fn.col('sentiment') == 0)\n",
    "nr.select(fn.avg('Negative Tweet Length')).show()"
   ]
  },
  {
   "cell_type": "markdown",
   "metadata": {
    "deletable": true,
    "editable": true
   },
   "source": [
    "#### Wniosek numer 3. Przeanalizowałam, że średni rozmiar tekstu negatywnych tweetów jest większy niż pozytywnych tweetów"
   ]
  },
  {
   "cell_type": "markdown",
   "metadata": {
    "deletable": true,
    "editable": true
   },
   "source": [
    "Kolumna tweet jest podzielona na słowa za pomocą Tokenizera i połączyłam ją z istniejącym zestawem słów z predefiniowanymi odczuciami, aby obliczyć średni sentyment dla każdego identyfikatora postu."
   ]
  },
  {
   "cell_type": "markdown",
   "metadata": {
    "collapsed": true,
    "deletable": true,
    "editable": true
   },
   "source": [
    "Odczyt pliku do DataFrame Spark"
   ]
  },
  {
   "cell_type": "code",
   "execution_count": 43,
   "metadata": {
    "cell_status": {
     "execute_time": {
      "duration": 3321.89892578125,
      "end_time": 1610741620744.723
     }
    },
    "collapsed": true,
    "deletable": true,
    "editable": true
   },
   "outputs": [],
   "source": [
    "%%local\n",
    "df_dict = sqlContext.read.format('csv').options(header = 'true', inferschema='true').load('/HdiNotebooks/sentiments.csv')"
   ]
  },
  {
   "cell_type": "code",
   "execution_count": 44,
   "metadata": {
    "cell_status": {
     "execute_time": {
      "duration": 41.136962890625,
      "end_time": 1610741620806.445
     }
    },
    "collapsed": false,
    "deletable": true,
    "editable": true
   },
   "outputs": [
    {
     "name": "stdout",
     "output_type": "stream",
     "text": [
      "root\n",
      " |-- word: string (nullable = true)\n",
      " |-- sentiment: integer (nullable = true)\n",
      "\n"
     ]
    }
   ],
   "source": [
    "%%local\n",
    "df_dict.printSchema()"
   ]
  },
  {
   "cell_type": "code",
   "execution_count": 45,
   "metadata": {
    "cell_status": {
     "execute_time": {
      "duration": 1871.880859375,
      "end_time": 1610741622803.369
     }
    },
    "collapsed": false,
    "deletable": true,
    "editable": true
   },
   "outputs": [
    {
     "name": "stdout",
     "output_type": "stream",
     "text": [
      "+-----------+---------+\n",
      "|       word|sentiment|\n",
      "+-----------+---------+\n",
      "|  abandoned|        0|\n",
      "|abandonment|        0|\n",
      "| aberration|        0|\n",
      "| aberration|        0|\n",
      "|   abhorred|        0|\n",
      "+-----------+---------+\n",
      "only showing top 5 rows\n",
      "\n"
     ]
    }
   ],
   "source": [
    "%%local\n",
    "df_dict.show(5) #słowa o znaczeniu negatywnym"
   ]
  },
  {
   "cell_type": "code",
   "execution_count": 46,
   "metadata": {
    "cell_status": {
     "execute_time": {
      "duration": 5642.815185546875,
      "end_time": 1610741628468.464
     }
    },
    "collapsed": false,
    "deletable": true,
    "editable": true
   },
   "outputs": [
    {
     "name": "stdout",
     "output_type": "stream",
     "text": [
      "+----+---------+\n",
      "|word|sentiment|\n",
      "+----+---------+\n",
      "|6134|        1|\n",
      "|6133|        1|\n",
      "|6132|        1|\n",
      "|6131|        1|\n",
      "|6130|        1|\n",
      "+----+---------+\n",
      "only showing top 5 rows\n",
      "\n"
     ]
    }
   ],
   "source": [
    "%%local\n",
    "from pyspark.sql.functions import monotonically_increasing_id\n",
    "from pyspark.sql.functions import desc\n",
    "\n",
    "df_dict = df_dict.withColumn(\"word\", monotonically_increasing_id())\n",
    "df_dict.orderBy(desc(\"word\")).show(5) #słowa o znaczeniu pozytywnym\n",
    "\n"
   ]
  },
  {
   "cell_type": "markdown",
   "metadata": {
    "deletable": true,
    "editable": true
   },
   "source": [
    "Usuwanie pustych wierszy"
   ]
  },
  {
   "cell_type": "code",
   "execution_count": 104,
   "metadata": {
    "cell_status": {
     "execute_time": {
      "duration": 28.846923828125,
      "end_time": 1610747913796.053
     }
    },
    "collapsed": false,
    "deletable": true,
    "editable": true
   },
   "outputs": [
    {
     "data": {
      "text/plain": [
       "32823"
      ]
     },
     "execution_count": 104,
     "metadata": {},
     "output_type": "execute_result"
    }
   ],
   "source": [
    "%%local\n",
    "tweet_clean_df=tweet_clean_df.dropna()\n",
    "tweet_clean_df.count()"
   ]
  },
  {
   "cell_type": "code",
   "execution_count": 105,
   "metadata": {
    "cell_status": {
     "execute_time": {
      "duration": 153.9169921875,
      "end_time": 1610747915120.074
     }
    },
    "collapsed": true,
    "deletable": true,
    "editable": true
   },
   "outputs": [],
   "source": [
    "%%local\n",
    "from pyspark.ml.feature import RegexTokenizer"
   ]
  },
  {
   "cell_type": "markdown",
   "metadata": {
    "deletable": true,
    "editable": true
   },
   "source": [
    "Tworzenie obiektu tokenizera do dzielenia kolumny tweet i tworzenia nowej kolumny wyjściowej „splittweet”"
   ]
  },
  {
   "cell_type": "code",
   "execution_count": 106,
   "metadata": {
    "cell_status": {
     "execute_time": {
      "duration": 44194.306884765625,
      "end_time": 1610747960506.585
     }
    },
    "collapsed": false,
    "deletable": true,
    "editable": true
   },
   "outputs": [],
   "source": [
    "%%local\n",
    "token = RegexTokenizer().setGaps(False).setPattern(\"\\\\p{L}+\").setInputCol(\"tweet\").setOutputCol(\"splittweet\")"
   ]
  },
  {
   "cell_type": "markdown",
   "metadata": {
    "deletable": true,
    "editable": true
   },
   "source": [
    "Użycie tokenu do zastosowania zmian"
   ]
  },
  {
   "cell_type": "code",
   "execution_count": 107,
   "metadata": {
    "cell_status": {
     "execute_time": {
      "duration": 14479.378173828125,
      "end_time": 1610748033204.633
     }
    },
    "collapsed": false,
    "deletable": true,
    "editable": true
   },
   "outputs": [
    {
     "name": "stdout",
     "output_type": "stream",
     "text": [
      "+---+--------------------+-------------------+---------+--------------------+\n",
      "|_c0|               tweet|                 id|sentiment|          splittweet|\n",
      "+---+--------------------+-------------------+---------+--------------------+\n",
      "|  1|rt hong kong on m...|1341007597202227203|        1|[rt, hong, kong, ...|\n",
      "|  3|the nhs will be o...|1341007597349048320|        1|[the, nhs, will, ...|\n",
      "|  5|    rt chuck collins|1341007597906878464|        1|[rt, chuck, collins]|\n",
      "|  8|can t wait for th...|1341007598657675266|        1|[can, t, wait, fo...|\n",
      "|  9|update data sebar...|1341007597952876547|        1|[update, data, se...|\n",
      "+---+--------------------+-------------------+---------+--------------------+\n",
      "only showing top 5 rows\n",
      "\n"
     ]
    }
   ],
   "source": [
    "%%local\n",
    "word_df = token.transform(tweet_clean_df)\n",
    "word_df.show(5)\n"
   ]
  },
  {
   "cell_type": "markdown",
   "metadata": {
    "deletable": true,
    "editable": true
   },
   "source": [
    "Porówuje ze słowami z df_dict, rozbijając podzielone słowa na różne wiersze za pomocą funkcji f.explode i łącząc DF"
   ]
  },
  {
   "cell_type": "code",
   "execution_count": 108,
   "metadata": {
    "cell_status": {
     "execute_time": {
      "duration": 14238.943115234375,
      "end_time": 1610748097671.718
     }
    },
    "collapsed": false,
    "deletable": true,
    "editable": true
   },
   "outputs": [
    {
     "name": "stdout",
     "output_type": "stream",
     "text": [
      "+------+-------------------+---------+\n",
      "|  word|                 id|sentiment|\n",
      "+------+-------------------+---------+\n",
      "|    rt|1341007597202227203|     null|\n",
      "|  hong|1341007597202227203|     null|\n",
      "|  kong|1341007597202227203|     null|\n",
      "|    on|1341007597202227203|     null|\n",
      "|monday|1341007597202227203|     null|\n",
      "+------+-------------------+---------+\n",
      "only showing top 5 rows\n",
      "\n"
     ]
    }
   ],
   "source": [
    "%%local\n",
    "df_joined= word_df.select('id', fn.explode('splittweet').alias('word')).join(df_dict, 'word','leftouter')\n",
    "df_joined.show(5)"
   ]
  },
  {
   "cell_type": "code",
   "execution_count": 110,
   "metadata": {
    "cell_status": {
     "execute_time": {
      "duration": 18860.919921875,
      "end_time": 1610748165787.802
     }
    },
    "collapsed": false,
    "deletable": true,
    "editable": true
   },
   "outputs": [
    {
     "data": {
      "text/plain": [
       "573967"
      ]
     },
     "execution_count": 110,
     "metadata": {},
     "output_type": "execute_result"
    }
   ],
   "source": [
    "%%local\n",
    "#df_joined_wo_null=df_joined.filter(df_joined.col(\"sentiment\").isNotNull())\n",
    "df_joined_wo_null=df_joined.na.fill(0).dropna()\n",
    "df_joined_wo_null.count()"
   ]
  },
  {
   "cell_type": "markdown",
   "metadata": {
    "deletable": true,
    "editable": true
   },
   "source": [
    "Wezmę średnią ocenę słów dla każdego tweeta i sklasyfikuje post jako „Pozytywny”, gdy średnia jest większa niż 0 i \"Negatywny\", jeśli jest mniejsza niż 0, a następnie oblicze wynik dokładności tej metody"
   ]
  },
  {
   "cell_type": "code",
   "execution_count": 111,
   "metadata": {
    "cell_status": {
     "execute_time": {
      "duration": 31371.33984375,
      "end_time": 1610748271550.502
     }
    },
    "collapsed": false,
    "deletable": true,
    "editable": true
   },
   "outputs": [
    {
     "name": "stdout",
     "output_type": "stream",
     "text": [
      "+-------------------+----------+-----------+\n",
      "|                 id|avg_sentim|pred_sentim|\n",
      "+-------------------+----------+-----------+\n",
      "|1341007627652837385|       0.0|          0|\n",
      "|1341007782254964739|       0.0|          0|\n",
      "|1341007806447591424|       0.0|          0|\n",
      "|1341007847669329920|       0.0|          0|\n",
      "|1341007874852593667|       0.0|          0|\n",
      "+-------------------+----------+-----------+\n",
      "only showing top 5 rows\n",
      "\n"
     ]
    }
   ],
   "source": [
    "%%local\n",
    "from pyspark.sql import functions as fn \n",
    "df_predict = df_joined_wo_null.groupBy('id').agg(fn.avg('sentiment').alias('avg_sentim')).withColumn('pred_sentim', fn.when(fn.col('avg_sentim') > 0, 1).otherwise(0))\n",
    "df_predict.show(5)"
   ]
  },
  {
   "cell_type": "code",
   "execution_count": 112,
   "metadata": {
    "cell_status": {
     "execute_time": {
      "duration": 32932.6240234375,
      "end_time": 1610748593733.626
     }
    },
    "collapsed": false,
    "deletable": true,
    "editable": true
   },
   "outputs": [
    {
     "name": "stdout",
     "output_type": "stream",
     "text": [
      "+-------------------+----------+-----------+\n",
      "|                 id|avg_sentim|pred_sentim|\n",
      "+-------------------+----------+-----------+\n",
      "|1341007627652837385|       0.0|          0|\n",
      "|1341007782254964739|       0.0|          0|\n",
      "|1341007806447591424|       0.0|          0|\n",
      "|1341007847669329920|       0.0|          0|\n",
      "|1341007874852593667|       0.0|          0|\n",
      "+-------------------+----------+-----------+\n",
      "only showing top 5 rows\n",
      "\n"
     ]
    }
   ],
   "source": [
    "%%local\n",
    "from pyspark.sql import functions as fn \n",
    "df_predict = df_joined_wo_null.groupBy('id').agg(fn.avg('sentiment').alias('avg_sentim')).withColumn('pred_sentim', fn.when(fn.col('avg_sentim') > 0, 1).otherwise(0))\n",
    "df_predict.show(5)"
   ]
  },
  {
   "cell_type": "markdown",
   "metadata": {
    "deletable": true,
    "editable": true
   },
   "source": [
    "Wynik dokładności:"
   ]
  },
  {
   "cell_type": "code",
   "execution_count": 113,
   "metadata": {
    "cell_status": {
     "execute_time": {
      "duration": 96.156982421875,
      "end_time": 1610748626885.949
     }
    },
    "collapsed": false,
    "deletable": true,
    "editable": true
   },
   "outputs": [
    {
     "name": "stdout",
     "output_type": "stream",
     "text": [
      "+--------------------+\n",
      "|avg(accuracy_method)|\n",
      "+--------------------+\n",
      "|  0.5018432196935076|\n",
      "+--------------------+\n",
      "\n"
     ]
    }
   ],
   "source": [
    "%%local\n",
    "result=tweet_clean_df.join(df_predict, 'id').select(fn.expr('float(sentiment = pred_sentim)').alias('accuracy_method')).select(fn.avg('accuracy_method'))\n",
    "result.show(5)"
   ]
  },
  {
   "cell_type": "markdown",
   "metadata": {
    "deletable": true,
    "editable": true
   },
   "source": [
    "### 4. Podejście Machine Learning do analizy nastrojów"
   ]
  },
  {
   "cell_type": "code",
   "execution_count": 114,
   "metadata": {
    "cell_status": {
     "execute_time": {
      "duration": 411.626953125,
      "end_time": 1610748629027.247
     }
    },
    "collapsed": true,
    "deletable": true,
    "editable": true
   },
   "outputs": [],
   "source": [
    "%%local\n",
    "from pyspark.ml import Pipeline\n",
    "from pyspark.ml.linalg import Vectors\n",
    "from pyspark.ml.classification import LogisticRegression\n",
    "from pyspark.ml.feature import HashingTF, Tokenizer"
   ]
  },
  {
   "cell_type": "markdown",
   "metadata": {
    "deletable": true,
    "editable": true
   },
   "source": [
    "#### **--- Usuniecie zbędnych słów (stop words) **"
   ]
  },
  {
   "cell_type": "markdown",
   "metadata": {
    "cell_status": {
     "execute_time": {
      "duration": 226.119140625,
      "end_time": 1610723961980.609
     }
    },
    "deletable": true,
    "editable": true
   },
   "source": [
    "Odczytuje plik tekstowy ze słowami pomijanymi i usuwam je  z kolumny tweet"
   ]
  },
  {
   "cell_type": "code",
   "execution_count": 115,
   "metadata": {
    "cell_status": {
     "execute_time": {
      "duration": 10.48388671875,
      "end_time": 1610748630475.243
     }
    },
    "collapsed": false,
    "deletable": true,
    "editable": true
   },
   "outputs": [
    {
     "name": "stdout",
     "output_type": "stream",
     "text": [
      "sentiments.csv  stopwords.txt  tweets_pandemic_clean.csv\r\n"
     ]
    }
   ],
   "source": [
    "%%local\n",
    "%pwd\n",
    "%ls"
   ]
  },
  {
   "cell_type": "code",
   "execution_count": 116,
   "metadata": {
    "cell_status": {
     "execute_time": {
      "duration": 17.866943359375,
      "end_time": 1610748631632.124
     }
    },
    "collapsed": false,
    "deletable": true,
    "editable": true
   },
   "outputs": [],
   "source": [
    "%%local\n",
    "#Z http://www.lextek.com/manuals/onix/stopwords1.html\n",
    "with open(\"stopwords.txt\") as f:\n",
    "    stop_words = f.read().split()"
   ]
  },
  {
   "cell_type": "code",
   "execution_count": 117,
   "metadata": {
    "cell_status": {
     "execute_time": {
      "duration": 228.68603515625,
      "end_time": 1610748643367.349
     }
    },
    "collapsed": false,
    "deletable": true,
    "editable": true
   },
   "outputs": [
    {
     "data": {
      "text/plain": [
       "['about',\n",
       " 'above',\n",
       " 'across',\n",
       " 'after',\n",
       " 'again',\n",
       " 'against',\n",
       " 'all',\n",
       " 'almost',\n",
       " 'alone']"
      ]
     },
     "execution_count": 117,
     "metadata": {},
     "output_type": "execute_result"
    }
   ],
   "source": [
    "%%local\n",
    "stop_words[1:10] #odczytanie pierwszych 10 słów"
   ]
  },
  {
   "cell_type": "code",
   "execution_count": 118,
   "metadata": {
    "cell_status": {
     "execute_time": {
      "duration": 42.90185546875,
      "end_time": 1610748644656.328
     }
    },
    "collapsed": false,
    "deletable": true,
    "editable": true
   },
   "outputs": [],
   "source": [
    "%%local\n",
    "#usuniecie słów z tweetów\n",
    "from pyspark.ml.feature import StopWordsRemover\n",
    "filter = StopWordsRemover().setStopWords(stop_words).setCaseSensitive(False).setInputCol(\"splittweet\").setOutputCol(\"words_filter\")"
   ]
  },
  {
   "cell_type": "markdown",
   "metadata": {
    "deletable": true,
    "editable": true
   },
   "source": [
    "#### **Liczenie wektoryzatora**"
   ]
  },
  {
   "cell_type": "code",
   "execution_count": 119,
   "metadata": {
    "cell_status": {
     "execute_time": {
      "duration": 13161.052978515625,
      "end_time": 1610748659151.834
     }
    },
    "collapsed": false,
    "deletable": true,
    "editable": true
   },
   "outputs": [],
   "source": [
    "%%local\n",
    "from pyspark.ml.feature import CountVectorizer\n",
    "vector_count = CountVectorizer(minTF=1, minDF=8, vocabSize=2**17).setInputCol(\"words_filter\").setOutputCol(\"TF\")"
   ]
  },
  {
   "cell_type": "markdown",
   "metadata": {
    "deletable": true,
    "editable": true
   },
   "source": [
    "#### **Pipeline Estymator**"
   ]
  },
  {
   "cell_type": "code",
   "execution_count": 120,
   "metadata": {
    "cell_status": {
     "execute_time": {
      "duration": 14914.55908203125,
      "end_time": 1610748707150.706
     }
    },
    "collapsed": false,
    "deletable": true,
    "editable": true
   },
   "outputs": [],
   "source": [
    "%%local\n",
    "#Tworze nowy Pipline estymator\n",
    "C_Pipeline_Est = Pipeline(stages=[token, filter, vector_count]).fit(tweet_clean_df.limit(1000))"
   ]
  },
  {
   "cell_type": "code",
   "execution_count": 121,
   "metadata": {
    "cell_status": {
     "execute_time": {
      "duration": 30.2548828125,
      "end_time": 1610748715507.68
     }
    },
    "collapsed": false,
    "deletable": true,
    "editable": true
   },
   "outputs": [
    {
     "name": "stdout",
     "output_type": "stream",
     "text": [
      "+---+--------------------+-------------------+---------+--------------------+--------------------+--------------------+\n",
      "|_c0|               tweet|                 id|sentiment|          splittweet|        words_filter|                  TF|\n",
      "+---+--------------------+-------------------+---------+--------------------+--------------------+--------------------+\n",
      "|  1|rt hong kong on m...|1341007597202227203|        1|[rt, hong, kong, ...|[rt, hong, kong, ...|(131,[0,21,101,10...|\n",
      "|  3|the nhs will be o...|1341007597349048320|        1|[the, nhs, will, ...|[nhs, offering, c...|(131,[3,12,65],[1...|\n",
      "|  5|    rt chuck collins|1341007597906878464|        1|[rt, chuck, collins]|[rt, chuck, collins]|     (131,[0],[1.0])|\n",
      "|  8|can t wait for th...|1341007598657675266|        1|[can, t, wait, fo...|[wait, pandemic, ...|(131,[1,2,7,61],[...|\n",
      "|  9|update data sebar...|1341007597952876547|        1|[update, data, se...|[update, data, se...|(131,[1,2,3],[1.0...|\n",
      "+---+--------------------+-------------------+---------+--------------------+--------------------+--------------------+\n",
      "only showing top 5 rows\n",
      "\n"
     ]
    }
   ],
   "source": [
    "%%local\n",
    "#stosuje transformacji do DF\n",
    "C_Pipeline_Est.transform(tweet_clean_df).show(5)"
   ]
  },
  {
   "cell_type": "markdown",
   "metadata": {
    "deletable": true,
    "editable": true
   },
   "source": [
    "#### **IDF (Odwrotna częstotliwość dokumentu- Inverse Document Frequency)**"
   ]
  },
  {
   "cell_type": "code",
   "execution_count": 122,
   "metadata": {
    "cell_status": {
     "execute_time": {
      "duration": 20966.867919921875,
      "end_time": 1610748775251.337
     }
    },
    "collapsed": true,
    "deletable": true,
    "editable": true
   },
   "outputs": [],
   "source": [
    "%%local\n",
    "from pyspark.ml.feature import IDF\n",
    "IDF = IDF().setInputCol('TF').setOutputCol('TF_IDF')"
   ]
  },
  {
   "cell_type": "code",
   "execution_count": 123,
   "metadata": {
    "cell_status": {
     "execute_time": {
      "duration": 26058.35205078125,
      "end_time": 1610748801387.726
     }
    },
    "collapsed": false,
    "deletable": true,
    "editable": true
   },
   "outputs": [],
   "source": [
    "%%local\n",
    "#tworze IDF pipeline\n",
    "IDF_pip = Pipeline(stages=[C_Pipeline_Est, IDF]).fit(tweet_clean_df)"
   ]
  },
  {
   "cell_type": "code",
   "execution_count": 124,
   "metadata": {
    "cell_status": {
     "execute_time": {
      "duration": 874.4931640625,
      "end_time": 1610748867394.329
     }
    },
    "collapsed": false,
    "deletable": true,
    "editable": true
   },
   "outputs": [
    {
     "name": "stdout",
     "output_type": "stream",
     "text": [
      "+-------------------+--------------------+--------------------+--------------------+\n",
      "|                 id|        words_filter|                  TF|              TF_IDF|\n",
      "+-------------------+--------------------+--------------------+--------------------+\n",
      "|1341007597202227203|[rt, hong, kong, ...|(131,[0,21,101,10...|(131,[0,21,101,10...|\n",
      "|1341007597349048320|[nhs, offering, c...|(131,[3,12,65],[1...|(131,[3,12,65],[1...|\n",
      "|1341007597906878464|[rt, chuck, collins]|     (131,[0],[1.0])|(131,[0],[0.34013...|\n",
      "|1341007598657675266|[wait, pandemic, ...|(131,[1,2,7,61],[...|(131,[1,2,7,61],[...|\n",
      "+-------------------+--------------------+--------------------+--------------------+\n",
      "only showing top 4 rows\n",
      "\n"
     ]
    }
   ],
   "source": [
    "%%local\n",
    "#stosuje transformacje\n",
    "TF_IDF = IDF_pip.transform(tweet_clean_df)\n",
    "TF_IDF.select('id', 'words_filter', 'TF', \"TF_IDF\").show(4)"
   ]
  },
  {
   "cell_type": "markdown",
   "metadata": {
    "cell_status": {
     "execute_time": {
      "duration": 5009.587890625,
      "end_time": 1610729352320.04
     }
    },
    "deletable": true,
    "editable": true
   },
   "source": [
    " #### ** Dzielenie danych na dane uczące, dane potrzebne do walidacji i dane testowe DF w stosunku 80: 10: 10**"
   ]
  },
  {
   "cell_type": "code",
   "execution_count": 130,
   "metadata": {
    "cell_status": {
     "execute_time": {
      "duration": 184.217041015625,
      "end_time": 1610749007500.85
     }
    },
    "collapsed": true,
    "deletable": true,
    "editable": true
   },
   "outputs": [],
   "source": [
    "%%local\n",
    "df_train, df_val, df_test = tweet_clean_df.randomSplit([0.80, 0.10, 0.10], seed=0)"
   ]
  },
  {
   "cell_type": "code",
   "execution_count": 136,
   "metadata": {
    "cell_status": {
     "execute_time": {
      "duration": 3346.239990234375,
      "end_time": 1610749384285.067
     }
    },
    "collapsed": false,
    "deletable": true,
    "editable": true
   },
   "outputs": [
    {
     "data": {
      "text/plain": [
       "(26232, 3333, 3258)"
      ]
     },
     "execution_count": 136,
     "metadata": {},
     "output_type": "execute_result"
    }
   ],
   "source": [
    "%%local\n",
    "df_train.count() ,df_val.count() ,df_test.count()"
   ]
  },
  {
   "cell_type": "markdown",
   "metadata": {
    "deletable": true,
    "editable": true
   },
   "source": [
    "### 5. Model regresji logistycznej"
   ]
  },
  {
   "cell_type": "code",
   "execution_count": 132,
   "metadata": {
    "cell_status": {
     "execute_time": {
      "duration": 66927.126953125,
      "end_time": 1610749098398.521
     }
    },
    "collapsed": true,
    "deletable": true,
    "editable": true
   },
   "outputs": [],
   "source": [
    "%%local\n",
    "#używanie funkcji TF_IDF z IDF pipeline i przekazywanie go do modelu regresji logistycznej\n",
    "from pyspark.ml.classification import LogisticRegression\n",
    "LR = LogisticRegression().setLabelCol('sentiment').setFeaturesCol('TF_IDF').setMaxIter(100)"
   ]
  },
  {
   "cell_type": "code",
   "execution_count": 135,
   "metadata": {
    "cell_status": {
     "execute_time": {
      "duration": 48010.925048828125,
      "end_time": 1610749353240.467
     }
    },
    "collapsed": false,
    "deletable": true,
    "editable": true
   },
   "outputs": [],
   "source": [
    "%%local\n",
    "#tworzenie transformacji pipeline dla regresji logistycznej i uruchamianie na zestawie danych szkoleniowych.\n",
    "pip_LR = Pipeline(stages=[IDF_pip, LR]).fit(df_train)"
   ]
  },
  {
   "cell_type": "code",
   "execution_count": 139,
   "metadata": {
    "cell_status": {
     "execute_time": {
      "duration": 13329.399169921875,
      "end_time": 1610749827784.132
     }
    },
    "collapsed": false
   },
   "outputs": [
    {
     "name": "stdout",
     "output_type": "stream",
     "text": [
      "+-------------------+---------+----------+\n",
      "|                 id|sentiment|prediction|\n",
      "+-------------------+---------+----------+\n",
      "|1341007597202227203|        1|       1.0|\n",
      "|1341007598657675266|        1|       0.0|\n",
      "|1341007603304902656|        1|       1.0|\n",
      "|1341007606895271937|        1|       1.0|\n",
      "|1341007614214344707|        1|       0.0|\n",
      "+-------------------+---------+----------+\n",
      "only showing top 5 rows\n",
      "\n"
     ]
    }
   ],
   "source": [
    "%%local\n",
    "#stoswanie transformacji na DF w celu predykcji sentymentów\n",
    "pip_LR.transform(df_val).select('id', 'sentiment', 'prediction').show(5)"
   ]
  },
  {
   "cell_type": "code",
   "execution_count": 140,
   "metadata": {
    "cell_status": {
     "execute_time": {
      "duration": 146.925048828125,
      "end_time": 1610749871732.38
     }
    },
    "collapsed": false,
    "deletable": true,
    "editable": true
   },
   "outputs": [
    {
     "name": "stdout",
     "output_type": "stream",
     "text": [
      "+-------------------+---------+----------+\n",
      "|                 id|sentiment|prediction|\n",
      "+-------------------+---------+----------+\n",
      "|1341007599681024006|        1|       1.0|\n",
      "|1341007603871133703|        1|       1.0|\n",
      "|1341007604114440192|        1|       0.0|\n",
      "|1341007604185767936|        1|       1.0|\n",
      "|1341007609516744705|        1|       1.0|\n",
      "+-------------------+---------+----------+\n",
      "only showing top 5 rows\n",
      "\n"
     ]
    }
   ],
   "source": [
    "%%local\n",
    "#stosowanie transformacji na danych szkoleniowych(testowych)\n",
    "pred_test = pip_LR.transform(df_test).select('id', 'sentiment', 'prediction')\n",
    "pred_test.show(5)"
   ]
  },
  {
   "cell_type": "markdown",
   "metadata": {
    "deletable": true,
    "editable": true
   },
   "source": [
    " #### ** Obliczanie wyniku dokładności na zestawie danych testowych dla naszego modelu ML.**"
   ]
  },
  {
   "cell_type": "code",
   "execution_count": 143,
   "metadata": {
    "cell_status": {
     "execute_time": {
      "duration": 308.719970703125,
      "end_time": 1610751566172.671
     }
    },
    "collapsed": false,
    "deletable": true,
    "editable": true
   },
   "outputs": [
    {
     "data": {
      "text/plain": [
       "0.6976672805402088"
      ]
     },
     "execution_count": 143,
     "metadata": {},
     "output_type": "execute_result"
    }
   ],
   "source": [
    "%%local\n",
    "acc = pred_test.filter(pred_test.sentiment == pred_test.prediction).count() / float(df_test.count())\n",
    "acc"
   ]
  },
  {
   "cell_type": "markdown",
   "metadata": {
    "deletable": true,
    "editable": true
   },
   "source": [
    "** Wniosek numer 4: Dokładność wzrosła o około 20% w porównaniu z podejściem słownikowym, w którym dokładność wynosiła 0.50 **"
   ]
  },
  {
   "cell_type": "markdown",
   "metadata": {
    "deletable": true,
    "editable": true
   },
   "source": [
    "#### **Ogólne wnioski:**\n",
    "\n",
    "-- Dokładność przewidywania wzrasta, gdy model uczenia maszynowego w połączeniu z estymatorami Spark i transformatami jest stosowany do zbioru danych sentymentu.\n",
    "<br>\n",
    "-- Słowa, które często pojawiają się w danych, mogą powodować błąd podczas przewidywania nastrojów, co można rozwiązać za pomocą wektoryzacji zliczania i metod IDF, które neutralizują wpływ tych słów na wagę.\n",
    "<br>\n",
    "-- Wcześniej zauważyłam, że ogólne nastawienie do tweetów było pozytywne, a może to wynikać z oczekiwaniem na szczepionkę. Dlatego uważam, że decyzje podejmowane przez Państwa powinny mieć mieć ukierunkowanie na wsbudzenie nadzieji i lepszego jutra w związku z oczekiwaniem na szczepionkę.\n",
    "<br>"
   ]
  },
  {
   "cell_type": "markdown",
   "metadata": {
    "collapsed": true,
    "deletable": true,
    "editable": true
   },
   "source": [
    "#### **Problemy związane z analizą sentymentów:**\n",
    "-- Sentymenty od sarkazmu.\n",
    "<br>\n",
    "-- Wiele nastrojów w jednym zdaniu przy użyciu słów takich jak „Mimo to”, które mogą zmienić cały sentyment zdania."
   ]
  },
  {
   "cell_type": "markdown",
   "metadata": {},
   "source": [
    "#### **Zalecenia i przyszłe plany: **\n",
    "-- Techniki takie jak regularyzacja mogą być stosowane wraz z uczeniem maszynowym do optymalizacji.\n",
    "<br>\n",
    "-- Spark streaming API czy  Tweepy Streaming mogą służyć do wyodrębniania źródeł danych wczasie rzeczywistym z platform do przeprowadzania analizy opinii."
   ]
  }
 ],
 "metadata": {
  "kernelspec": {
   "display_name": "PySpark3",
   "language": "",
   "name": "pyspark3kernel"
  },
  "language_info": {
   "codemirror_mode": {
    "name": "python",
    "version": 3
   },
   "mimetype": "text/x-python",
   "name": "pyspark3",
   "pygments_lexer": "python3"
  }
 },
 "nbformat": 4,
 "nbformat_minor": 2
}