{
 "cells": [
  {
   "cell_type": "markdown",
   "metadata": {
    "deletable": true,
    "editable": true
   },
   "source": [
    "## Projekt Big Data: Analiza nastrojów przy użyciu Pyspark na przykładzie tweetach odnośnie COVID-19"
   ]
  },
  {
   "cell_type": "markdown",
   "metadata": {
    "deletable": true,
    "editable": true
   },
   "source": [
    "**Problem**: przeanalizowanie tweetów odnośnie COVID-19 i zrozumienie, jakie nastroje towarzyszą drugiej fali pandemii"
   ]
  },
  {
   "cell_type": "markdown",
   "metadata": {
    "deletable": true,
    "editable": true
   },
   "source": [
    "**Opis danych:** Używam pobranego zbioru danych z Twitter API, który zawiera szereg kolumn, ale do analizy będę wykorzystywać kolumny: tweet-text, id posta, sentyment obliczony przy użyciu TextBlob biblioteki (NLTK)"
   ]
  },
  {
   "cell_type": "markdown",
   "metadata": {
    "cell_status": {
     "execute_time": {
      "duration": 9030.323974609375,
      "end_time": 1610525005718.734
     }
    },
    "deletable": true,
    "editable": true
   },
   "source": [
    "**Podejście:** Zastosowałam tradycyjne podejście do analizy sentymentów, a także podejście data science, które obejmuje estymatory, transformatory i zastosowanie algorytmu uczenia maszynowego do mojej analizy nastrojów, gdzie 1 oznacza dodatnie, a 0 ujemne."
   ]
  },
  {
   "cell_type": "markdown",
   "metadata": {
    "deletable": true,
    "editable": true
   },
   "source": [
    "Zaimportowanie  numpy, pandas and matplotlib bibliotek do czyszczenia i eksploracyjnej analizy danych"
   ]
  },
  {
   "cell_type": "code",
   "execution_count": 1,
   "metadata": {
    "cell_status": {
     "execute_time": {
      "duration": 950.803955078125,
      "end_time": 1610820835951.327
     }
    },
    "collapsed": false,
    "deletable": true,
    "editable": true
   },
   "outputs": [
    {
     "name": "stdout",
     "output_type": "stream",
     "text": [
      "Starting Spark application\n"
     ]
    },
    {
     "data": {
      "text/html": [
       "<table>\n",
       "<tr><th>ID</th><th>YARN Application ID</th><th>Kind</th><th>State</th><th>Spark UI</th><th>Driver log</th><th>Current session?</th></tr><tr><td>4</td><td>application_1610791276704_0009</td><td>pyspark3</td><td>idle</td><td><a target=\"_blank\" href=\"http://hn1-sentim.aj5qhjfjngbevk43kzoazlu5wg.ax.internal.cloudapp.net:8088/proxy/application_1610791276704_0009/\">Link</a></td><td><a target=\"_blank\" href=\"http://wn1-sentim.aj5qhjfjngbevk43kzoazlu5wg.ax.internal.cloudapp.net:30060/node/containerlogs/container_1610791276704_0009_01_000001/livy\">Link</a></td><td>✔</td></tr></table>"
      ],
      "text/plain": [
       "<IPython.core.display.HTML object>"
      ]
     },
     "metadata": {},
     "output_type": "display_data"
    },
    {
     "name": "stdout",
     "output_type": "stream",
     "text": [
      "SparkSession available as 'spark'.\n",
      "RangeIndex(start=0, stop=100000, step=1)"
     ]
    }
   ],
   "source": [
    "import pandas as pd  \n",
    "import numpy as np\n",
    "import matplotlib.pyplot as plt\n",
    "pd.RangeIndex(start=0, stop=100000,step=1)"
   ]
  },
  {
   "cell_type": "code",
   "execution_count": 2,
   "metadata": {
    "cell_status": {
     "execute_time": {
      "duration": 530.341064453125,
      "end_time": 1610820873350.492
     }
    },
    "collapsed": false,
    "deletable": true,
    "editable": true
   },
   "outputs": [],
   "source": [
    "%%local\n",
    "%matplotlib inline"
   ]
  },
  {
   "cell_type": "markdown",
   "metadata": {
    "deletable": true,
    "editable": true
   },
   "source": [
    "Sprawdzanie zawartości bazy w Apache Hive"
   ]
  },
  {
   "cell_type": "code",
   "execution_count": 3,
   "metadata": {
    "cell_status": {
     "execute_time": {
      "duration": 30446.455810546875,
      "end_time": 1610820906457.348
     }
    },
    "collapsed": false,
    "deletable": true,
    "editable": true
   },
   "outputs": [
    {
     "data": {
      "application/vnd.jupyter.widget-view+json": {
       "model_id": "01342e88835d49cdae06a8c4b0fc2750"
      }
     },
     "metadata": {},
     "output_type": "display_data"
    },
    {
     "data": {
      "application/vnd.jupyter.widget-view+json": {
       "model_id": "84731af8e68f4321bdd30f882dfa70cb"
      }
     },
     "metadata": {},
     "output_type": "display_data"
    }
   ],
   "source": [
    "%%sql\n",
    "SHOW TABLES"
   ]
  },
  {
   "cell_type": "code",
   "execution_count": 4,
   "metadata": {
    "cell_status": {
     "execute_time": {
      "duration": 3449.2080078125,
      "end_time": 1610820911175.946
     }
    },
    "collapsed": false,
    "deletable": true,
    "editable": true
   },
   "outputs": [
    {
     "data": {
      "application/vnd.jupyter.widget-view+json": {
       "model_id": "6c78cfeb750748bc93db0917f061a822"
      }
     },
     "metadata": {},
     "output_type": "display_data"
    },
    {
     "data": {
      "application/vnd.jupyter.widget-view+json": {
       "model_id": "31499c3f1e5e4d00aa1ae186277cc7c4"
      }
     },
     "metadata": {},
     "output_type": "display_data"
    }
   ],
   "source": [
    "%%sql\n",
    "describe tweets_pandemic"
   ]
  },
  {
   "cell_type": "markdown",
   "metadata": {
    "cell_status": {
     "execute_time": {
      "duration": 110.56103515625,
      "end_time": 1610530431852.662
     }
    },
    "deletable": true,
    "editable": true
   },
   "source": [
    "Sprawdzenie jakie mamy tendencje emocjonalne w pobranych tweetach"
   ]
  },
  {
   "cell_type": "code",
   "execution_count": 5,
   "metadata": {
    "cell_status": {
     "execute_time": {
      "duration": 64847.129150390625,
      "end_time": 1610820978002.091
     }
    },
    "collapsed": false,
    "deletable": true,
    "editable": true
   },
   "outputs": [
    {
     "data": {
      "application/vnd.jupyter.widget-view+json": {
       "model_id": "f1922d2a58b140e1a4db3882e62112c1"
      }
     },
     "metadata": {},
     "output_type": "display_data"
    },
    {
     "data": {
      "application/vnd.jupyter.widget-view+json": {
       "model_id": "12ecdebdea2e45b5944100e67c9df5f5"
      }
     },
     "metadata": {},
     "output_type": "display_data"
    }
   ],
   "source": [
    "%%sql\n",
    "select sentiment, count(*) as cnt from\n",
    "(select case \n",
    "when polarity < 0 then 'negative'  \n",
    "when polarity = 0 and subjectivity >= 0.5 then 'negative'\n",
    "when polarity = 0 and subjectivity < 0.5 then 'positive'\n",
    "when polarity > 0 then 'positive' \n",
    "end\n",
    "as sentiment\n",
    "from tweets_pandemic)\n",
    "where sentiment <> 'NaN'\n",
    "group by sentiment\n",
    "order by sentiment"
   ]
  },
  {
   "cell_type": "markdown",
   "metadata": {
    "cell_status": {
     "execute_time": {
      "duration": 164.64404296875,
      "end_time": 1610529884609.109
     }
    },
    "deletable": true,
    "editable": true
   },
   "source": [
    "Tworzenie DataFrame na podstawie danych o tweetach w Apache Hive"
   ]
  },
  {
   "cell_type": "code",
   "execution_count": 6,
   "metadata": {
    "cell_status": {
     "execute_time": {
      "duration": 330731.72900390625,
      "end_time": 1610821308818.004
     }
    },
    "collapsed": false,
    "deletable": true,
    "editable": true
   },
   "outputs": [
    {
     "name": "stdout",
     "output_type": "stream",
     "text": [
      "CPU times: user 3min 17s, sys: 23.8 s, total: 3min 41s\n",
      "Wall time: 5min 30s\n"
     ]
    }
   ],
   "source": [
    "%%time\n",
    "%%sql -q -o df -n -1\n",
    "\n",
    "select id, text as tweet, \n",
    "case \n",
    "when sentiment_string = 'negative'  then 0\n",
    "when sentiment_string = 'positive'  then 1\n",
    "end\n",
    "as sentiment\n",
    "from\n",
    "(select id, text,\n",
    " case \n",
    "when polarity < 0 then 'negative'  \n",
    "when polarity = 0 and subjectivity >= 0.5 then 'negative'\n",
    "when polarity = 0 and subjectivity < 0.5 then 'positive'\n",
    "when polarity > 0 then 'positive' \n",
    "end\n",
    "as sentiment_string\n",
    "from tweets_pandemic)\n",
    "where sentiment_string <> 'NaN'"
   ]
  },
  {
   "cell_type": "code",
   "execution_count": 7,
   "metadata": {
    "cell_status": {
     "execute_time": {
      "duration": 254.39013671875,
      "end_time": 1610821309093.332
     }
    },
    "collapsed": false,
    "deletable": true,
    "editable": true
   },
   "outputs": [
    {
     "name": "stdout",
     "output_type": "stream",
     "text": [
      "<class 'pandas.core.frame.DataFrame'>\n",
      "RangeIndex: 100000 entries, 0 to 99999\n",
      "Data columns (total 3 columns):\n",
      "id           100000 non-null int64\n",
      "tweet        100000 non-null object\n",
      "sentiment    100000 non-null int64\n",
      "dtypes: int64(2), object(1)\n",
      "memory usage: 2.3+ MB\n"
     ]
    },
    {
     "data": {
      "text/plain": [
       "RangeIndex(start=0, stop=100000, step=1)"
      ]
     },
     "execution_count": 7,
     "metadata": {},
     "output_type": "execute_result"
    }
   ],
   "source": [
    "%%local\n",
    "df.info()\n",
    "df.index"
   ]
  },
  {
   "cell_type": "markdown",
   "metadata": {
    "deletable": true,
    "editable": true
   },
   "source": [
    "Nie mamy tej samej liczby pozytywnych i negatywnych tweetów"
   ]
  },
  {
   "cell_type": "code",
   "execution_count": 8,
   "metadata": {
    "cell_status": {
     "execute_time": {
      "duration": 45.306884765625,
      "end_time": 1610821309175.085
     }
    },
    "collapsed": false,
    "deletable": true,
    "editable": true
   },
   "outputs": [
    {
     "data": {
      "text/plain": [
       "1    83511\n",
       "0    16489\n",
       "Name: sentiment, dtype: int64"
      ]
     },
     "execution_count": 8,
     "metadata": {},
     "output_type": "execute_result"
    }
   ],
   "source": [
    "%%local\n",
    "df.sentiment.value_counts()"
   ]
  },
  {
   "cell_type": "code",
   "execution_count": 9,
   "metadata": {
    "cell_status": {
     "execute_time": {
      "duration": 21.008056640625,
      "end_time": 1610821309259.877
     }
    },
    "collapsed": false,
    "deletable": true,
    "editable": true
   },
   "outputs": [
    {
     "data": {
      "text/html": [
       "\n",
       "<table>\n",
       "  <tr>\n",
       "    <th>Magic</th>\n",
       "    <th>Example</th>\n",
       "    <th>Explanation</th>\n",
       "  </tr>\n",
       "  <tr>\n",
       "    <td>info</td>\n",
       "    <td>%%info</td>\n",
       "    <td>Outputs session information for the current Livy endpoint.</td>\n",
       "  </tr>\n",
       "  <tr>\n",
       "    <td>cleanup</td>\n",
       "    <td>%%cleanup -f</td>\n",
       "    <td>Deletes all sessions for the current Livy endpoint, including this notebook's session. The force flag is mandatory.</td>\n",
       "  </tr>\n",
       "  <tr>\n",
       "    <td>delete</td>\n",
       "    <td>%%delete -f -s 0</td>\n",
       "    <td>Deletes a session by number for the current Livy endpoint. Cannot delete this kernel's session.</td>\n",
       "  </tr>\n",
       "  <tr>\n",
       "    <td>logs</td>\n",
       "    <td>%%logs</td>\n",
       "    <td>Outputs the current session's Livy logs.</td>\n",
       "  </tr>\n",
       "  <tr>\n",
       "    <td>configure</td>\n",
       "    <td>%%configure -f<br/>{\"executorMemory\": \"1000M\", \"executorCores\": 4}</td>\n",
       "    <td>Configure the session creation parameters. The force flag is mandatory if a session has already been\n",
       "    created and the session will be dropped and recreated.<br/>Look at <a href=\"https://github.com/cloudera/livy#request-body\">\n",
       "    Livy's POST /sessions Request Body</a> for a list of valid parameters. Parameters must be passed in as a JSON string.</td>\n",
       "  </tr>\n",
       "  <tr>\n",
       "    <td>spark</td>\n",
       "    <td>%%spark -o df<br/>df = spark.read.parquet('...</td>\n",
       "    <td>Executes spark commands.\n",
       "    Parameters:\n",
       "      <ul>\n",
       "        <li>-o VAR_NAME: The Spark dataframe of name VAR_NAME will be available in the %%local Python context as a\n",
       "          <a href=\"http://pandas.pydata.org/\">Pandas</a> dataframe with the same name.</li>\n",
       "        <li>-m METHOD: Sample method, either <tt>take</tt> or <tt>sample</tt>.</li>\n",
       "        <li>-n MAXROWS: The maximum number of rows of a dataframe that will be pulled from Livy to Jupyter.\n",
       "            If this number is negative, then the number of rows will be unlimited.</li>\n",
       "        <li>-r FRACTION: Fraction used for sampling.</li>\n",
       "      </ul>\n",
       "    </td>\n",
       "  </tr>\n",
       "  <tr>\n",
       "    <td>sql</td>\n",
       "    <td>%%sql -o tables -q<br/>SHOW TABLES</td>\n",
       "    <td>Executes a SQL query against the variable sqlContext (Spark v1.x) or spark (Spark v2.x).\n",
       "    Parameters:\n",
       "      <ul>\n",
       "        <li>-o VAR_NAME: The result of the SQL query will be available in the %%local Python context as a\n",
       "          <a href=\"http://pandas.pydata.org/\">Pandas</a> dataframe.</li>\n",
       "        <li>-q: The magic will return None instead of the dataframe (no visualization).</li>\n",
       "        <li>-m, -n, -r are the same as the %%spark parameters above.</li>\n",
       "      </ul>\n",
       "    </td>\n",
       "  </tr>\n",
       "  <tr>\n",
       "    <td>local</td>\n",
       "    <td>%%local<br/>a = 1</td>\n",
       "    <td>All the code in subsequent lines will be executed locally. Code must be valid Python code.</td>\n",
       "  </tr>\n",
       "</table>\n"
      ],
      "text/plain": [
       "<IPython.core.display.HTML object>"
      ]
     },
     "metadata": {},
     "output_type": "display_data"
    }
   ],
   "source": [
    "%%help"
   ]
  },
  {
   "cell_type": "markdown",
   "metadata": {
    "deletable": true,
    "editable": true
   },
   "source": [
    "### 1.Czyszczenie danych"
   ]
  },
  {
   "cell_type": "code",
   "execution_count": 10,
   "metadata": {
    "cell_status": {
     "execute_time": {
      "duration": 51.616943359375,
      "end_time": 1610821309330.696
     }
    },
    "collapsed": false,
    "deletable": true,
    "editable": true
   },
   "outputs": [
    {
     "data": {
      "text/plain": [
       "u'RT @realDonaldTrump: \\u201cThe President was responsible for those direct payments to Americans in the Covid-19 Relief Bill.\\u201d @kilmeade @foxandf\\u2026'"
      ]
     },
     "execution_count": 10,
     "metadata": {},
     "output_type": "execute_result"
    }
   ],
   "source": [
    "%%local\n",
    "df.tweet[15]"
   ]
  },
  {
   "cell_type": "markdown",
   "metadata": {
    "cell_status": {
     "execute_time": {
      "duration": 232.326171875,
      "end_time": 1610552144812.966
     }
    },
    "collapsed": true,
    "deletable": true,
    "editable": true
   },
   "source": [
    "Importowanie bibliotek potrzebnych do czyszczenia tekstu w tweetach\n",
    "<br>\n",
    "Testowanie wyników dla recenzji numer 15 i można zauważyć, że tagi HTML (u\" i \\u) zostały usunięte."
   ]
  },
  {
   "cell_type": "code",
   "execution_count": 11,
   "metadata": {
    "cell_status": {
     "execute_time": {
      "duration": 271.363037109375,
      "end_time": 1610821309659.058
     }
    },
    "collapsed": false,
    "deletable": true,
    "editable": true
   },
   "outputs": [
    {
     "name": "stdout",
     "output_type": "stream",
     "text": [
      "RT @realDonaldTrump: “The President was responsible for those direct payments to Americans in the Covid-19 Relief Bill.” @kilmeade @foxandf…\n"
     ]
    }
   ],
   "source": [
    "%%local\n",
    "from bs4 import BeautifulSoup\n",
    "import re\n",
    "test = BeautifulSoup(df.tweet[15], 'lxml')\n",
    "print(test.get_text())"
   ]
  },
  {
   "cell_type": "markdown",
   "metadata": {
    "deletable": true,
    "editable": true
   },
   "source": [
    "Importowanie funkcji biblioteki NTLK „WordPunctTokenizer”, która dzieli ciąg na podciągi przez dzielenie."
   ]
  },
  {
   "cell_type": "code",
   "execution_count": 12,
   "metadata": {
    "cell_status": {
     "execute_time": {
      "duration": 18759.318115234375,
      "end_time": 1610821328473.885
     }
    },
    "collapsed": true,
    "deletable": true,
    "editable": true
   },
   "outputs": [],
   "source": [
    "%%local\n",
    "from nltk.tokenize import WordPunctTokenizer\n",
    "token = WordPunctTokenizer()\n",
    "\n",
    "reg1 = r'@[A-Za-z0-9]+' # usuwanie liczb i znaków specjalnych\n",
    "reg2 = r'<[^<]+?>'  # usuwanie znaków specjalnych\n",
    "comb = r'|'.join((reg1, reg2)) # łączę obie zmienne regresji i uzyję ich poniżej w funkcji."
   ]
  },
  {
   "cell_type": "markdown",
   "metadata": {
    "deletable": true,
    "editable": true
   },
   "source": [
    "Funkcja „clean” do czyszczenia tekstu "
   ]
  },
  {
   "cell_type": "code",
   "execution_count": 13,
   "metadata": {
    "cell_status": {
     "execute_time": {
      "duration": 48.221923828125,
      "end_time": 1610821328600.078
     }
    },
    "collapsed": true,
    "deletable": true,
    "editable": true
   },
   "outputs": [],
   "source": [
    "%%local\n",
    "def clean(tweet):\n",
    "    s = BeautifulSoup(tweet, 'lxml')\n",
    "    s_soup = s.get_text()\n",
    "    strip = re.sub(comb, '', s_soup)\n",
    "    letter = re.sub(\"[^a-zA-Z]\", \" \", strip)\n",
    "    lower = letter.lower()\n",
    "    replaceprefix = re.sub(\"^u'\", \"'\", lower) \n",
    "    word = token.tokenize(replaceprefix)\n",
    "    return (\" \".join(word)).strip()"
   ]
  },
  {
   "cell_type": "markdown",
   "metadata": {
    "deletable": true,
    "editable": true
   },
   "source": [
    "Testowanie funkcji"
   ]
  },
  {
   "cell_type": "code",
   "execution_count": 14,
   "metadata": {
    "cell_status": {
     "execute_time": {
      "duration": 45.923828125,
      "end_time": 1610821434871.336
     }
    },
    "collapsed": false,
    "deletable": true,
    "editable": true
   },
   "outputs": [
    {
     "data": {
      "text/plain": [
       "[u'la russie d nonce et expose l agenda secret du nouvel ordre mondial sur le covid',\n",
       " u'rt hong kong on monday said it would ban all flights from britain following the discovery of a new and highly infectious strain of th',\n",
       " u'sanchez uy ayaw na pavideo kase nahuli siyang nagpaparty habang pandemic trauma ka ghorl stupid mo banda diyan',\n",
       " u'the nhs will be offering the covid vaccine over the coming weeks and months',\n",
       " u'rt monye there is a new strain of covid that leaves you blind',\n",
       " u'rt chuck collins',\n",
       " u'rt and the only reason mitch mcconnell is allowing a coronavirus relief bill to go forward at this time is that',\n",
       " u'rt what if the true meaning of christmas is not fueling a fucking pandemic',\n",
       " u'can t wait for this pandemic to be over not for health reasons so i do https t co yqxr dll',\n",
       " u'update data sebaran kasus covid di kabupaten bantul berdasarkan data dari dinas kesehatan kabupaten bantul per https t co u kqoazuf',\n",
       " u'rt dg here s my brave and beautiful elder daughter laura after receiving her round one dose of the covid vaccine she s an',\n",
       " u'rt keenum here s where your tax dollars are going in the stimulus stunt https t co mnermgnbeh',\n",
       " u'rt moving people and coronavirus from prison to prison https t co po tqaiw b via from a michigan prison this whole fuck',\n",
       " u'rt chismosa rich people did not experience the same pandemic as working class people and now they get the vaccine first it s actually',\n",
       " u'though covid antibodies could help save lives hospitals are struggling to set up infusion sites but states and https t co nwed o nr',\n",
       " u'rt the president was responsible for those direct payments to americans in the covid relief bill']"
      ]
     },
     "execution_count": 14,
     "metadata": {},
     "output_type": "execute_result"
    }
   ],
   "source": [
    "%%local\n",
    "test = df.tweet[:16]\n",
    "\n",
    "result = []  #pusty ciąg dodawany przy każdej iteracji czyszczenia tweetów.\n",
    "for t in test:\n",
    "    result.append(clean(t)) # wywołanie funkcji clean\n",
    "    \n",
    "result"
   ]
  },
  {
   "cell_type": "markdown",
   "metadata": {
    "cell_status": {
     "execute_time": {
      "duration": 16.44677734375,
      "end_time": 1610553182869.776
     }
    },
    "deletable": true,
    "editable": true
   },
   "source": [
    "#### Teraz czyszcze całe dane w kolumnie tweet. Podzieliłam tweety na 2 części i będę czyścić stopniowo, aby skrócić czas pracy."
   ]
  },
  {
   "cell_type": "code",
   "execution_count": 15,
   "metadata": {
    "cell_status": {
     "execute_time": {
      "duration": 52337.573974609375,
      "end_time": 1610821488893.799
     }
    },
    "collapsed": false,
    "deletable": true,
    "editable": true
   },
   "outputs": [
    {
     "name": "stdout",
     "output_type": "stream",
     "text": [
      "Czyszczenie część 1\n",
      "CPU times: user 45.2 s, sys: 4.68 s, total: 49.8 s\n",
      "Wall time: 52.3 s\n"
     ]
    }
   ],
   "source": [
    "%%local\n",
    "%%time\n",
    "import warnings\n",
    "warnings.filterwarnings(\"ignore\", category=UserWarning, module='bs4')\n",
    "n = [0,50000,100000] \n",
    "print (\"Czyszczenie część 1\")\n",
    "clean_tweet = []\n",
    "for i in range(n[0],n[1]):                                                                \n",
    "    clean_tweet.append(clean(df['tweet'][i]))"
   ]
  },
  {
   "cell_type": "code",
   "execution_count": 16,
   "metadata": {
    "cell_status": {
     "execute_time": {
      "duration": 58996.51806640625,
      "end_time": 1610821547911.352
     }
    },
    "collapsed": false,
    "deletable": true,
    "editable": true
   },
   "outputs": [
    {
     "name": "stdout",
     "output_type": "stream",
     "text": [
      "Czyszczenie część 2\n",
      "CPU times: user 47.3 s, sys: 5.71 s, total: 53 s\n",
      "Wall time: 58.9 s\n"
     ]
    }
   ],
   "source": [
    "%%local\n",
    "%%time\n",
    "import warnings\n",
    "warnings.filterwarnings(\"ignore\", category=UserWarning, module='bs4')\n",
    "n = [0,50000,100000] \n",
    "print (\"Czyszczenie część 2\")\n",
    "for i in range(n[1],n[2]):                                                                \n",
    "    clean_tweet.append(clean(df['tweet'][i]))"
   ]
  },
  {
   "cell_type": "code",
   "execution_count": 17,
   "metadata": {
    "cell_status": {
     "execute_time": {
      "duration": 39.694091796875,
      "end_time": 1610821547982.684
     }
    },
    "collapsed": false,
    "deletable": true,
    "editable": true
   },
   "outputs": [
    {
     "data": {
      "text/plain": [
       "100000"
      ]
     },
     "execution_count": 17,
     "metadata": {},
     "output_type": "execute_result"
    }
   ],
   "source": [
    "%%local\n",
    "len(clean_tweet) #liczba wyczyszczonych tweetów"
   ]
  },
  {
   "cell_type": "markdown",
   "metadata": {
    "deletable": true,
    "editable": true
   },
   "source": [
    "#### Zapisanie wyczyszczonych tweetów do pliku typu csv"
   ]
  },
  {
   "cell_type": "code",
   "execution_count": 18,
   "metadata": {
    "cell_status": {
     "execute_time": {
      "duration": 54.77099609375,
      "end_time": 1610821578777.611
     }
    },
    "collapsed": false,
    "deletable": true,
    "editable": true
   },
   "outputs": [
    {
     "data": {
      "text/plain": [
       "RangeIndex(start=0, stop=100000, step=1)"
      ]
     },
     "execution_count": 18,
     "metadata": {},
     "output_type": "execute_result"
    }
   ],
   "source": [
    "%%local\n",
    "import pandas as pd  \n",
    "import numpy as np\n",
    "import matplotlib.pyplot as plt\n",
    "pd.RangeIndex(start=0, stop=100000,step=1)"
   ]
  },
  {
   "cell_type": "code",
   "execution_count": 19,
   "metadata": {
    "cell_status": {
     "execute_time": {
      "duration": 1737.927001953125,
      "end_time": 1610821581419.894
     }
    },
    "collapsed": false,
    "deletable": true,
    "editable": true
   },
   "outputs": [
    {
     "data": {
      "application/vnd.jupyter.widget-view+json": {
       "model_id": "8ede5aeaf7564b74b51e89a91803f6f5"
      }
     },
     "metadata": {},
     "output_type": "display_data"
    },
    {
     "data": {
      "application/vnd.jupyter.widget-view+json": {
       "model_id": "38308ed4ed2443faa457596d7d855115"
      }
     },
     "metadata": {},
     "output_type": "display_data"
    }
   ],
   "source": [
    "%%local\n",
    "df_new = pd.DataFrame(clean_tweet,columns=['tweet'])\n",
    "df_new['id'] = df.id\n",
    "df_new['sentiment'] = df.sentiment\n",
    "df_new.head()"
   ]
  },
  {
   "cell_type": "code",
   "execution_count": 20,
   "metadata": {
    "cell_status": {
     "execute_time": {
      "duration": 19.93994140625,
      "end_time": 1610821582326.18
     }
    },
    "collapsed": false,
    "deletable": true,
    "editable": true
   },
   "outputs": [
    {
     "data": {
      "text/plain": [
       "100000"
      ]
     },
     "execution_count": 20,
     "metadata": {},
     "output_type": "execute_result"
    }
   ],
   "source": [
    "%%local\n",
    "len(df_new)"
   ]
  },
  {
   "cell_type": "code",
   "execution_count": 21,
   "metadata": {
    "cell_status": {
     "execute_time": {
      "duration": 102.263916015625,
      "end_time": 1610821583009.044
     }
    },
    "collapsed": false,
    "deletable": true,
    "editable": true
   },
   "outputs": [
    {
     "name": "stdout",
     "output_type": "stream",
     "text": [
      "<class 'pandas.core.frame.DataFrame'>\n",
      "RangeIndex: 100000 entries, 0 to 99999\n",
      "Data columns (total 3 columns):\n",
      "tweet        100000 non-null object\n",
      "id           100000 non-null int64\n",
      "sentiment    100000 non-null int64\n",
      "dtypes: int64(2), object(1)\n",
      "memory usage: 2.3+ MB\n"
     ]
    },
    {
     "data": {
      "text/plain": [
       "RangeIndex(start=0, stop=100000, step=1)"
      ]
     },
     "execution_count": 21,
     "metadata": {},
     "output_type": "execute_result"
    }
   ],
   "source": [
    "%%local\n",
    "df_new.info()\n",
    "df_new.index"
   ]
  },
  {
   "cell_type": "code",
   "execution_count": 24,
   "metadata": {
    "cell_status": {
     "execute_time": {
      "duration": 3036.48681640625,
      "end_time": 1610821821463.338
     }
    },
    "collapsed": false,
    "deletable": true,
    "editable": true
   },
   "outputs": [
    {
     "name": "stdout",
     "output_type": "stream",
     "text": [
      "/home/sshuser/gettweets\n",
      "CPU times: user 2.64 s, sys: 269 ms, total: 2.91 s\n",
      "Wall time: 3 s\n"
     ]
    }
   ],
   "source": [
    "%%local\n",
    "%%time\n",
    "%cd /home/sshuser/gettweets\n",
    "%pwd\n",
    "df_new.to_csv('tweets_pandemic_clean.csv',encoding='utf-8')"
   ]
  },
  {
   "cell_type": "code",
   "execution_count": 25,
   "metadata": {
    "cell_status": {
     "execute_time": {
      "duration": 434.235107421875,
      "end_time": 1610821823860.613
     }
    },
    "collapsed": false,
    "deletable": true,
    "editable": true
   },
   "outputs": [
    {
     "name": "stdout",
     "output_type": "stream",
     "text": [
      "tweets_pandemic_clean.csv\r\n"
     ]
    }
   ],
   "source": [
    "%%local\n",
    "%pwd\n",
    "%ls"
   ]
  },
  {
   "cell_type": "markdown",
   "metadata": {
    "cell_status": {
     "execute_time": {
      "duration": 263.512939453125,
      "end_time": 1610623655145.884
     }
    },
    "deletable": true,
    "editable": true
   },
   "source": [
    "### 2. Eksploracyjna analiza danych"
   ]
  },
  {
   "cell_type": "markdown",
   "metadata": {
    "deletable": true,
    "editable": true
   },
   "source": [
    "1. Do wizualizacji użyłam Wordcloud, aby zobaczyć częstotliwość słów zgodnie z kolumną tweet. \n",
    "<br>\n",
    "2. Tworzony jest wykres słupkowy, aby wykreślić całkowitą liczbę pozytywnych i negatywnych słów dla ogólnego porównania nastrojów."
   ]
  },
  {
   "cell_type": "code",
   "execution_count": 26,
   "metadata": {
    "cell_status": {
     "execute_time": {
      "duration": 42.3720703125,
      "end_time": 1610821827925.063
     }
    },
    "collapsed": false,
    "deletable": true,
    "editable": true
   },
   "outputs": [],
   "source": [
    "%%local\n",
    "import collections\n",
    "from wordcloud import WordCloud #zaimportować wordcloud biblioteke\n",
    "import matplotlib.pyplot as plt"
   ]
  },
  {
   "cell_type": "markdown",
   "metadata": {
    "cell_status": {
     "execute_time": {
      "duration": 161.244873046875,
      "end_time": 1610624047302.308
     }
    },
    "deletable": true,
    "editable": true
   },
   "source": [
    "Konwertuję ramkę danych na typ danych str, abym mogła podać je jako dane wejściowe w chmurze słów."
   ]
  },
  {
   "cell_type": "code",
   "execution_count": 27,
   "metadata": {
    "cell_status": {
     "execute_time": {
      "duration": 19.466064453125,
      "end_time": 1610821829937.433
     }
    },
    "collapsed": false,
    "deletable": true,
    "editable": true
   },
   "outputs": [
    {
     "data": {
      "text/plain": [
       "str"
      ]
     },
     "execution_count": 27,
     "metadata": {},
     "output_type": "execute_result"
    }
   ],
   "source": [
    "%%local\n",
    "arr = df_new.tweet.values\n",
    "obj = np.array2string(arr, precision=2, separator=',',suppress_small=True)\n",
    "type(obj)"
   ]
  },
  {
   "cell_type": "markdown",
   "metadata": {
    "deletable": true,
    "editable": true
   },
   "source": [
    "####  Wniosek numer 1: Word Cloud służy do wyświetlania najczęściej używanych słów w tweetach. Można wywnioskować, że słowa takie jak coronavirus, vacuna, lot,  są używane częściej i może to być mocny powód do sentymentu dla tematu jakim jest COVID-19."
   ]
  },
  {
   "cell_type": "code",
   "execution_count": 28,
   "metadata": {
    "cell_status": {
     "execute_time": {
      "duration": 6440.845947265625,
      "end_time": 1610821837551.471
     }
    },
    "collapsed": false,
    "deletable": true,
    "editable": true
   },
   "outputs": [
    {
     "data": {
      "image/png": "[encoded data removed]",
      "text/plain": [
       "<matplotlib.figure.Figure at 0x7f0c994dbe50>"
      ]
     },
     "metadata": {},
     "output_type": "display_data"
    }
   ],
   "source": [
    "%%local\n",
    "wordcloud = WordCloud(width=1600, height=800,max_font_size=200).generate(obj)\n",
    "plt.figure(figsize=(12,10))\n",
    "plt.imshow(wordcloud, interpolation=\"bilinear\")\n",
    "plt.axis(\"off\")\n",
    "plt.show()"
   ]
  },
  {
   "cell_type": "markdown",
   "metadata": {
    "deletable": true,
    "editable": true
   },
   "source": [
    "W celu dalszej analizy użyty został słownik, który ma predefiniowane uczucia przypisane do słów. (https://github.com/sridharswamy/Twitter-Sentiment-Analysis-Using-Spark-Streaming-And-Kafka/tree/master/Dataset)"
   ]
  },
  {
   "cell_type": "code",
   "execution_count": 34,
   "metadata": {
    "cell_status": {
     "execute_time": {
      "duration": 1599.177978515625,
      "end_time": 1610822062903.759
     }
    },
    "collapsed": false,
    "deletable": true,
    "editable": true
   },
   "outputs": [
    {
     "data": {
      "application/vnd.jupyter.widget-view+json": {
       "model_id": "8e8ee0c52b5242e49e4a0bc6676a4174"
      }
     },
     "metadata": {},
     "output_type": "display_data"
    },
    {
     "data": {
      "application/vnd.jupyter.widget-view+json": {
       "model_id": "968f51104d43454b94ae9c83bb548144"
      }
     },
     "metadata": {},
     "output_type": "display_data"
    }
   ],
   "source": [
    "%%local\n",
    "df_tokenized = pd.DataFrame(WordPunctTokenizer().tokenize(obj), columns=['word'])\n",
    "df_tokenized.head()"
   ]
  },
  {
   "cell_type": "code",
   "execution_count": 30,
   "metadata": {
    "cell_status": {
     "execute_time": {
      "duration": 1193.644775390625,
      "end_time": 1610821987548.411
     }
    },
    "collapsed": false,
    "deletable": true,
    "editable": true
   },
   "outputs": [
    {
     "name": "stdout",
     "output_type": "stream",
     "text": [
      "/home/sshuser/gettweets\n"
     ]
    },
    {
     "data": {
      "application/vnd.jupyter.widget-view+json": {
       "model_id": "15914d01584245008aa9afe994ea6016"
      }
     },
     "metadata": {},
     "output_type": "display_data"
    },
    {
     "data": {
      "application/vnd.jupyter.widget-view+json": {
       "model_id": "bb38f4b7b8f2476cae6c3dad4f3d694b"
      }
     },
     "metadata": {},
     "output_type": "display_data"
    }
   ],
   "source": [
    "%local\n",
    "%cd /home/sshuser/gettweets\n",
    "dfDictList = pd.read_csv(\"sentiments.csv\")\n",
    "dfDictList.head()"
   ]
  },
  {
   "cell_type": "markdown",
   "metadata": {
    "cell_status": {
     "execute_time": {
      "duration": 88.346923828125,
      "end_time": 1610822078373.291
     }
    },
    "collapsed": true,
    "deletable": true,
    "editable": true
   },
   "source": [
    "Łączenie danych o sentymentach ze słownikieem dla uzyskania oceny każdego słowa z tweetów"
   ]
  },
  {
   "cell_type": "code",
   "execution_count": 38,
   "metadata": {
    "cell_status": {
     "execute_time": {
      "duration": 1328.794189453125,
      "end_time": 1610822122869.559
     }
    },
    "collapsed": false,
    "deletable": true,
    "editable": true
   },
   "outputs": [
    {
     "data": {
      "application/vnd.jupyter.widget-view+json": {
       "model_id": "202f0f1c06994ce295aba907de6e8685"
      }
     },
     "metadata": {},
     "output_type": "display_data"
    },
    {
     "data": {
      "application/vnd.jupyter.widget-view+json": {
       "model_id": "8e8260e7d23a49bea83f501ceb234492"
      }
     },
     "metadata": {},
     "output_type": "display_data"
    }
   ],
   "source": [
    "%%local\n",
    "df_merged = pd.merge(dfDictList, df_tokenized, on='word', how='inner')\n",
    "df_grouped = df_merged.groupby('sentiment', as_index = False).count()\n",
    "df_grouped"
   ]
  },
  {
   "cell_type": "markdown",
   "metadata": {
    "deletable": true,
    "editable": true
   },
   "source": [
    "\n",
    "#### Wniosek numer 2: Z poniższego wykresu słupkowego możemy wywnioskować, że ogólny nastrój z tweetów jest pozytywny"
   ]
  },
  {
   "cell_type": "code",
   "execution_count": 37,
   "metadata": {
    "cell_status": {
     "execute_time": {
      "duration": 811.037109375,
      "end_time": 1610822091530.87
     }
    },
    "collapsed": false,
    "deletable": true,
    "editable": true
   },
   "outputs": [
    {
     "data": {
      "text/plain": [
       "[<matplotlib.text.Text at 0x7f0c764ca3d0>,\n",
       " <matplotlib.text.Text at 0x7f0c764de210>]"
      ]
     },
     "execution_count": 37,
     "metadata": {},
     "output_type": "execute_result"
    },
    {
     "data": {
      "image/png": "[encoded data removed]",
      "text/plain": [
       "<matplotlib.figure.Figure at 0x7f0c90eeb850>"
      ]
     },
     "metadata": {},
     "output_type": "display_data"
    }
   ],
   "source": [
    "%%local\n",
    "df_grouped = df_new.groupby('sentiment', as_index = False).count()\n",
    "\n",
    "\n",
    "labels_word = ['Negative','Positive']\n",
    "ax = df_grouped.plot(kind = 'bar', x = 'sentiment', y='tweet')\n",
    "ax.set_xticklabels(labels_word)"
   ]
  },
  {
   "cell_type": "markdown",
   "metadata": {
    "deletable": true,
    "editable": true
   },
   "source": [
    "### 3. Prosta metoda wykonywania analizy nastrojów."
   ]
  },
  {
   "cell_type": "markdown",
   "metadata": {
    "deletable": true,
    "editable": true
   },
   "source": [
    "Używam prostego podejścia do przeprowadzania  analizy i będę używać czystego zestawu danych „tweet_clean”, który stworzyłam w poprzedniej sekcji.\n",
    "<br>\n",
    "Importowanie bibliotek Spark API do przyszłej analizy w kontekście Spark SQL."
   ]
  },
  {
   "cell_type": "code",
   "execution_count": 79,
   "metadata": {
    "cell_status": {
     "execute_time": {
      "duration": 28.255126953125,
      "end_time": 1610826608806.623
     }
    },
    "collapsed": false,
    "deletable": true,
    "editable": true
   },
   "outputs": [
    {
     "data": {
      "text/plain": [
       "u'/home/sshuser/gettweets'"
      ]
     },
     "execution_count": 79,
     "metadata": {},
     "output_type": "execute_result"
    }
   ],
   "source": [
    "%%local\n",
    "from pyspark import SparkConf, SparkContext\n",
    "from pyspark.sql import SQLContext\n",
    "from pyspark.sql import functions as fn \n",
    "import findspark\n",
    "findspark.init() #aby umożliwić importowanie pyspark jako zwykłej biblioteki.\n",
    "import warnings\n",
    "%pwd"
   ]
  },
  {
   "cell_type": "code",
   "execution_count": 80,
   "metadata": {
    "cell_status": {
     "execute_time": {
      "duration": 25.208984375,
      "end_time": 1610826609716.259
     }
    },
    "collapsed": true,
    "deletable": true,
    "editable": true
   },
   "outputs": [],
   "source": [
    "%%local\n",
    "conf = SparkConf().setMaster(\"local[4]\").setAppName(\"Sentiment_Project\")  # działam w klastrze z 4 wątkami, ale jest on skalowalny również dla środowiska wieloklastrowego.\n",
    "sc = SparkContext.getOrCreate(conf = conf)\n",
    "sqlContext = SQLContext(sc)"
   ]
  },
  {
   "cell_type": "markdown",
   "metadata": {
    "deletable": true,
    "editable": true
   },
   "source": [
    "Tworzenie kontekstu sql do odczytu wyczyszczonych danych w ramce danych spark sql"
   ]
  },
  {
   "cell_type": "code",
   "execution_count": 81,
   "metadata": {
    "cell_status": {
     "execute_time": {
      "duration": 2512.85595703125,
      "end_time": 1610826613693.378
     }
    },
    "collapsed": false,
    "deletable": true,
    "editable": true
   },
   "outputs": [
    {
     "name": "stdout",
     "output_type": "stream",
     "text": [
      "/home/sshuser/gettweets\n"
     ]
    }
   ],
   "source": [
    "%%local\n",
    "%cd /home/sshuser/gettweets\n",
    "tweet_clean_df = sqlContext.read.csv('/HdiNotebooks/tweets_pandemic_clean.csv', header=True, inferSchema=True)"
   ]
  },
  {
   "cell_type": "code",
   "execution_count": 82,
   "metadata": {
    "cell_status": {
     "execute_time": {
      "duration": 19.791015625,
      "end_time": 1610826615797.569
     }
    },
    "collapsed": false,
    "deletable": true,
    "editable": true
   },
   "outputs": [
    {
     "data": {
      "text/plain": [
       "pyspark.sql.dataframe.DataFrame"
      ]
     },
     "execution_count": 82,
     "metadata": {},
     "output_type": "execute_result"
    }
   ],
   "source": [
    "%%local\n",
    "type(tweet_clean_df)"
   ]
  },
  {
   "cell_type": "code",
   "execution_count": 83,
   "metadata": {
    "cell_status": {
     "execute_time": {
      "duration": 707.16015625,
      "end_time": 1610826617716.269
     }
    },
    "collapsed": false,
    "deletable": true,
    "editable": true
   },
   "outputs": [
    {
     "name": "stdout",
     "output_type": "stream",
     "text": [
      "+---+--------------------+-------------------+---------+\n",
      "|_c0|               tweet|                 id|sentiment|\n",
      "+---+--------------------+-------------------+---------+\n",
      "|  0|la russie d nonce...|1341007597076422657|        0|\n",
      "|  1|rt hong kong on m...|1341007597202227203|        1|\n",
      "|  2|sanchez uy ayaw n...|1341007597483094016|        0|\n",
      "|  3|the nhs will be o...|1341007597349048320|        1|\n",
      "|  4|rt monye there is...|1341007598158553091|        0|\n",
      "+---+--------------------+-------------------+---------+\n",
      "only showing top 5 rows\n",
      "\n"
     ]
    }
   ],
   "source": [
    "%%local\n",
    "tweet_clean_df.dropna().show(5) # dane w czystym formacie i pomyślnie załadowane"
   ]
  },
  {
   "cell_type": "code",
   "execution_count": 84,
   "metadata": {
    "cell_status": {
     "execute_time": {
      "duration": 12.54296875,
      "end_time": 1610826618564.799
     }
    },
    "collapsed": false,
    "deletable": true,
    "editable": true
   },
   "outputs": [
    {
     "name": "stdout",
     "output_type": "stream",
     "text": [
      "root\n",
      " |-- _c0: integer (nullable = true)\n",
      " |-- tweet: string (nullable = true)\n",
      " |-- id: long (nullable = true)\n",
      " |-- sentiment: integer (nullable = true)\n",
      "\n"
     ]
    }
   ],
   "source": [
    "%%local\n",
    "tweet_clean_df.printSchema()"
   ]
  },
  {
   "cell_type": "markdown",
   "metadata": {
    "deletable": true,
    "editable": true
   },
   "source": [
    "Usuwanie pustych wierszy"
   ]
  },
  {
   "cell_type": "code",
   "execution_count": 85,
   "metadata": {
    "cell_status": {
     "execute_time": {
      "duration": 1510.487060546875,
      "end_time": 1610826664909.471
     }
    },
    "collapsed": false,
    "deletable": true,
    "editable": true
   },
   "outputs": [
    {
     "data": {
      "text/plain": [
       "99195"
      ]
     },
     "execution_count": 85,
     "metadata": {},
     "output_type": "execute_result"
    }
   ],
   "source": [
    "%%local\n",
    "tweet_clean_df=tweet_clean_df.dropna()\n",
    "tweet_clean_df.count()"
   ]
  },
  {
   "cell_type": "markdown",
   "metadata": {
    "deletable": true,
    "editable": true
   },
   "source": [
    "Przeglądanie pierwszego pozytywnego tweeta"
   ]
  },
  {
   "cell_type": "code",
   "execution_count": 86,
   "metadata": {
    "cell_status": {
     "execute_time": {
      "duration": 1333.697998046875,
      "end_time": 1610826668250.586
     }
    },
    "collapsed": false,
    "deletable": true,
    "editable": true
   },
   "outputs": [
    {
     "data": {
      "text/plain": [
       "Row(_c0=1, tweet=u'rt hong kong on monday said it would ban all flights from britain following the discovery of a new and highly infectious strain of th', id=1341007597202227203, sentiment=1)"
      ]
     },
     "execution_count": 86,
     "metadata": {},
     "output_type": "execute_result"
    }
   ],
   "source": [
    "%%local\n",
    "tweet_clean_df.where(fn.col('sentiment') == 1).first()"
   ]
  },
  {
   "cell_type": "markdown",
   "metadata": {
    "deletable": true,
    "editable": true
   },
   "source": [
    "Przeglądanie pierwszego negatywnego tweeta"
   ]
  },
  {
   "cell_type": "code",
   "execution_count": 87,
   "metadata": {
    "cell_status": {
     "execute_time": {
      "duration": 1491.822021484375,
      "end_time": 1610826671237.377
     }
    },
    "collapsed": false,
    "deletable": true,
    "editable": true
   },
   "outputs": [
    {
     "data": {
      "text/plain": [
       "Row(_c0=0, tweet=u'la russie d nonce et expose l agenda secret du nouvel ordre mondial sur le covid', id=1341007597076422657, sentiment=0)"
      ]
     },
     "execution_count": 87,
     "metadata": {},
     "output_type": "execute_result"
    }
   ],
   "source": [
    "%%local\n",
    "tweet_clean_df.where(fn.col('sentiment') == 0).first()"
   ]
  },
  {
   "cell_type": "markdown",
   "metadata": {
    "deletable": true,
    "editable": true
   },
   "source": [
    "Obliczanie średniej długości  pozytywnych i negatywnych tweetów"
   ]
  },
  {
   "cell_type": "code",
   "execution_count": 88,
   "metadata": {
    "cell_status": {
     "execute_time": {
      "duration": 4835.80712890625,
      "end_time": 1610826677474.508
     }
    },
    "collapsed": false,
    "deletable": true,
    "editable": true
   },
   "outputs": [
    {
     "name": "stdout",
     "output_type": "stream",
     "text": [
      "+--------------------------+\n",
      "|avg(Positive Tweet Length)|\n",
      "+--------------------------+\n",
      "|         88.69210497685046|\n",
      "+--------------------------+\n",
      "\n"
     ]
    }
   ],
   "source": [
    "%%local\n",
    "pr = tweet_clean_df.select(fn.length('tweet').alias('Positive Tweet Length')).where(fn.col('sentiment') == 1)\n",
    "pr.select(fn.avg('Positive Tweet Length')).show()"
   ]
  },
  {
   "cell_type": "code",
   "execution_count": 89,
   "metadata": {
    "cell_status": {
     "execute_time": {
      "duration": 4101.365966796875,
      "end_time": 1610826682911.029
     }
    },
    "collapsed": false,
    "deletable": true,
    "editable": true
   },
   "outputs": [
    {
     "name": "stdout",
     "output_type": "stream",
     "text": [
      "+--------------------------+\n",
      "|avg(Negative Tweet Length)|\n",
      "+--------------------------+\n",
      "|        100.48700825643516|\n",
      "+--------------------------+\n",
      "\n"
     ]
    }
   ],
   "source": [
    "%%local\n",
    "nr = tweet_clean_df.select(fn.length('tweet').alias('Negative Tweet Length')).where(fn.col('sentiment') == 0)\n",
    "nr.select(fn.avg('Negative Tweet Length')).show()"
   ]
  },
  {
   "cell_type": "markdown",
   "metadata": {
    "deletable": true,
    "editable": true
   },
   "source": [
    "#### Wniosek numer 3. Przeanalizowałam, że średni rozmiar tekstu negatywnych tweetów jest większy niż pozytywnych tweetów"
   ]
  },
  {
   "cell_type": "markdown",
   "metadata": {
    "deletable": true,
    "editable": true
   },
   "source": [
    "Kolumna tweet jest podzielona na słowa za pomocą Tokenizera i połączyłam ją z istniejącym zestawem słów z predefiniowanymi odczuciami, aby obliczyć średni sentyment dla każdego identyfikatora postu."
   ]
  },
  {
   "cell_type": "markdown",
   "metadata": {
    "collapsed": true,
    "deletable": true,
    "editable": true
   },
   "source": [
    "Odczyt pliku do DataFrame Spark"
   ]
  },
  {
   "cell_type": "code",
   "execution_count": 90,
   "metadata": {
    "cell_status": {
     "execute_time": {
      "duration": 2261.920166015625,
      "end_time": 1610826687268.349
     }
    },
    "collapsed": true,
    "deletable": true,
    "editable": true
   },
   "outputs": [],
   "source": [
    "%%local\n",
    "df_dict = sqlContext.read.format('csv').options(header = 'true', inferschema='true').load('/HdiNotebooks/sentiments.csv')"
   ]
  },
  {
   "cell_type": "code",
   "execution_count": 91,
   "metadata": {
    "cell_status": {
     "execute_time": {
      "duration": 35.885986328125,
      "end_time": 1610826688180.911
     }
    },
    "collapsed": false,
    "deletable": true,
    "editable": true
   },
   "outputs": [
    {
     "name": "stdout",
     "output_type": "stream",
     "text": [
      "root\n",
      " |-- word: string (nullable = true)\n",
      " |-- sentiment: integer (nullable = true)\n",
      "\n"
     ]
    }
   ],
   "source": [
    "%%local\n",
    "df_dict.printSchema()"
   ]
  },
  {
   "cell_type": "code",
   "execution_count": 92,
   "metadata": {
    "cell_status": {
     "execute_time": {
      "duration": 541.3330078125,
      "end_time": 1610826689427.741
     }
    },
    "collapsed": false,
    "deletable": true,
    "editable": true
   },
   "outputs": [
    {
     "name": "stdout",
     "output_type": "stream",
     "text": [
      "+-----------+---------+\n",
      "|       word|sentiment|\n",
      "+-----------+---------+\n",
      "|  abandoned|        0|\n",
      "|abandonment|        0|\n",
      "| aberration|        0|\n",
      "| aberration|        0|\n",
      "|   abhorred|        0|\n",
      "+-----------+---------+\n",
      "only showing top 5 rows\n",
      "\n"
     ]
    }
   ],
   "source": [
    "%%local\n",
    "df_dict.show(5) #słowa o znaczeniu negatywnym"
   ]
  },
  {
   "cell_type": "code",
   "execution_count": 93,
   "metadata": {
    "cell_status": {
     "execute_time": {
      "duration": 810.634033203125,
      "end_time": 1610826691348.262
     }
    },
    "collapsed": false,
    "deletable": true,
    "editable": true
   },
   "outputs": [
    {
     "name": "stdout",
     "output_type": "stream",
     "text": [
      "+---------+---------+\n",
      "|     word|sentiment|\n",
      "+---------+---------+\n",
      "| abidance|        1|\n",
      "|    above|        1|\n",
      "| abidance|        1|\n",
      "|abilities|        1|\n",
      "|  ability|        1|\n",
      "+---------+---------+\n",
      "only showing top 5 rows\n",
      "\n"
     ]
    }
   ],
   "source": [
    "%%local\n",
    "df_dict.sort(desc(\"sentiment\")).show(5) #słowa o znaczeniu pozytywnym\n"
   ]
  },
  {
   "cell_type": "code",
   "execution_count": 94,
   "metadata": {
    "cell_status": {
     "execute_time": {
      "duration": 30.089111328125,
      "end_time": 1610826692429.381
     }
    },
    "collapsed": true,
    "deletable": true,
    "editable": true
   },
   "outputs": [],
   "source": [
    "%%local\n",
    "from pyspark.ml.feature import RegexTokenizer"
   ]
  },
  {
   "cell_type": "markdown",
   "metadata": {},
   "source": [
    "Wybranie takiej samej liczby tweetów pozytywnych i negatywnych ze całego zbioru w celu obliczania doładności klasyfikacji sentymentów"
   ]
  },
  {
   "cell_type": "code",
   "execution_count": 112,
   "metadata": {
    "cell_status": {
     "execute_time": {
      "duration": 5166.72314453125,
      "end_time": 1610827758338.269
     }
    },
    "collapsed": false
   },
   "outputs": [
    {
     "data": {
      "text/plain": [
       "32944"
      ]
     },
     "execution_count": 112,
     "metadata": {},
     "output_type": "execute_result"
    }
   ],
   "source": [
    "%%local\n",
    "negative_count = tweet_clean_df.filter(\"sentiment=0\").count()\n",
    "positive_tweet = tweet_clean_df.filter(\"sentiment=1\")\n",
    "negative_tweet = tweet_clean_df.filter(\"sentiment=0\")\n",
    "\n",
    "\n",
    "positive_tweet = positive_tweet.limit(negative_count)\n",
    "tweet_clean_df = positive_tweet.union(negative_tweet)\n",
    "tweet_clean_df.count()"
   ]
  },
  {
   "cell_type": "markdown",
   "metadata": {
    "deletable": true,
    "editable": true
   },
   "source": [
    "Tworzenie obiektu tokenizera do dzielenia kolumny tweet i tworzenia nowej kolumny wyjściowej „splittweet”"
   ]
  },
  {
   "cell_type": "code",
   "execution_count": 113,
   "metadata": {
    "cell_status": {
     "execute_time": {
      "duration": 105.8349609375,
      "end_time": 1610827844219.175
     }
    },
    "collapsed": false,
    "deletable": true,
    "editable": true
   },
   "outputs": [],
   "source": [
    "%%local\n",
    "token = RegexTokenizer().setGaps(False).setPattern(\"\\\\p{L}+\").setInputCol(\"tweet\").setOutputCol(\"splittweet\")"
   ]
  },
  {
   "cell_type": "markdown",
   "metadata": {
    "deletable": true,
    "editable": true
   },
   "source": [
    "Użycie tokenu do zastosowania zmian"
   ]
  },
  {
   "cell_type": "code",
   "execution_count": 114,
   "metadata": {
    "cell_status": {
     "execute_time": {
      "duration": 5323.51806640625,
      "end_time": 1610827851792.995
     }
    },
    "collapsed": false,
    "deletable": true,
    "editable": true
   },
   "outputs": [
    {
     "name": "stdout",
     "output_type": "stream",
     "text": [
      "+---+--------------------+-------------------+---------+--------------------+\n",
      "|_c0|               tweet|                 id|sentiment|          splittweet|\n",
      "+---+--------------------+-------------------+---------+--------------------+\n",
      "|  1|rt hong kong on m...|1341007597202227203|        1|[rt, hong, kong, ...|\n",
      "|  3|the nhs will be o...|1341007597349048320|        1|[the, nhs, will, ...|\n",
      "|  5|    rt chuck collins|1341007597906878464|        1|[rt, chuck, collins]|\n",
      "|  8|can t wait for th...|1341007598657675266|        1|[can, t, wait, fo...|\n",
      "|  9|update data sebar...|1341007597952876547|        1|[update, data, se...|\n",
      "+---+--------------------+-------------------+---------+--------------------+\n",
      "only showing top 5 rows\n",
      "\n"
     ]
    }
   ],
   "source": [
    "%%local\n",
    "word_df = token.transform(tweet_clean_df)\n",
    "word_df.show(5)\n"
   ]
  },
  {
   "cell_type": "markdown",
   "metadata": {
    "deletable": true,
    "editable": true
   },
   "source": [
    "Porówuje ze słowami z df_dict, rozbijając podzielone słowa na różne wiersze za pomocą funkcji fn.explode i łącząc DF"
   ]
  },
  {
   "cell_type": "code",
   "execution_count": 115,
   "metadata": {
    "cell_status": {
     "execute_time": {
      "duration": 454.640869140625,
      "end_time": 1610827866292.512
     }
    },
    "collapsed": false
   },
   "outputs": [
    {
     "name": "stdout",
     "output_type": "stream",
     "text": [
      "+-----------+---------+\n",
      "|       word|sentiment|\n",
      "+-----------+---------+\n",
      "|  abandoned|        0|\n",
      "|abandonment|        0|\n",
      "| aberration|        0|\n",
      "| aberration|        0|\n",
      "|   abhorred|        0|\n",
      "+-----------+---------+\n",
      "only showing top 5 rows\n",
      "\n"
     ]
    }
   ],
   "source": [
    "%%local\n",
    "df_dict.show(5)"
   ]
  },
  {
   "cell_type": "code",
   "execution_count": 116,
   "metadata": {
    "cell_status": {
     "execute_time": {
      "duration": 6183.012939453125,
      "end_time": 1610827873372.052
     }
    },
    "collapsed": false,
    "deletable": true,
    "editable": true
   },
   "outputs": [
    {
     "name": "stdout",
     "output_type": "stream",
     "text": [
      "+------+-------------------+---------+\n",
      "|  word|                 id|sentiment|\n",
      "+------+-------------------+---------+\n",
      "|    rt|1341007597202227203|     null|\n",
      "|  hong|1341007597202227203|     null|\n",
      "|  kong|1341007597202227203|     null|\n",
      "|    on|1341007597202227203|     null|\n",
      "|monday|1341007597202227203|     null|\n",
      "+------+-------------------+---------+\n",
      "only showing top 5 rows\n",
      "\n"
     ]
    }
   ],
   "source": [
    "%%local\n",
    "df_joined= word_df.select('id', fn.explode('splittweet').alias('word')).join(df_dict, 'word','leftouter')\n",
    "df_joined.show(5)"
   ]
  },
  {
   "cell_type": "code",
   "execution_count": 143,
   "metadata": {
    "cell_status": {
     "execute_time": {
      "duration": 4526.863037109375,
      "end_time": 1610829319789.949
     }
    },
    "collapsed": false,
    "deletable": true,
    "editable": true
   },
   "outputs": [
    {
     "data": {
      "text/plain": [
       "587383"
      ]
     },
     "execution_count": 143,
     "metadata": {},
     "output_type": "execute_result"
    }
   ],
   "source": [
    "%%local\n",
    "df_joined_wo_null=df_joined.na.fill(0).dropna()\n",
    "df_joined_wo_null.count()"
   ]
  },
  {
   "cell_type": "markdown",
   "metadata": {
    "deletable": true,
    "editable": true
   },
   "source": [
    "Wezmę średnią ocenę słów dla każdego tweeta i sklasyfikuje post jako „Pozytywny”, gdy średnia jest większa niż 0 i \"Negatywny\", jeśli jest mniejsza niż 0, a następnie oblicze wynik dokładności tej metody"
   ]
  },
  {
   "cell_type": "code",
   "execution_count": 118,
   "metadata": {
    "cell_status": {
     "execute_time": {
      "duration": 19825.226806640625,
      "end_time": 1610827912559.9
     }
    },
    "collapsed": false,
    "deletable": true,
    "editable": true
   },
   "outputs": [
    {
     "name": "stdout",
     "output_type": "stream",
     "text": [
      "+-------------------+--------------------+-----------+\n",
      "|                 id|          avg_sentim|pred_sentim|\n",
      "+-------------------+--------------------+-----------+\n",
      "|1341007627652837385|                0.04|          1|\n",
      "|1341007782254964739|                 0.0|          0|\n",
      "|1341007806447591424|0.041666666666666664|          1|\n",
      "|1341007847669329920|                 0.0|          0|\n",
      "|1341007874852593667|                 0.0|          0|\n",
      "+-------------------+--------------------+-----------+\n",
      "only showing top 5 rows\n",
      "\n"
     ]
    }
   ],
   "source": [
    "%%local\n",
    "from pyspark.sql import functions as fn \n",
    "df_predict = df_joined_wo_null.groupBy('id').agg(fn.avg('sentiment').alias('avg_sentim')).withColumn('pred_sentim', fn.when(fn.col('avg_sentim') > 0, 1).otherwise(0))\n",
    "df_predict.show(5)"
   ]
  },
  {
   "cell_type": "markdown",
   "metadata": {
    "deletable": true,
    "editable": true
   },
   "source": [
    "Wynik dokładności:"
   ]
  },
  {
   "cell_type": "code",
   "execution_count": 120,
   "metadata": {
    "cell_status": {
     "execute_time": {
      "duration": 29634.322998046875,
      "end_time": 1610827962313.954
     }
    },
    "collapsed": false,
    "deletable": true,
    "editable": true,
    "scrolled": true
   },
   "outputs": [
    {
     "name": "stdout",
     "output_type": "stream",
     "text": [
      "+--------------------+\n",
      "|avg(accuracy_method)|\n",
      "+--------------------+\n",
      "| 0.47459324915007284|\n",
      "+--------------------+\n",
      "\n"
     ]
    }
   ],
   "source": [
    "%%local\n",
    "result=tweet_clean_df.join(df_predict, 'id').select(fn.expr('float(sentiment = pred_sentim)').alias('accuracy_method')).select(fn.avg('accuracy_method'))\n",
    "result.show(5)"
   ]
  },
  {
   "cell_type": "markdown",
   "metadata": {
    "deletable": true,
    "editable": true
   },
   "source": [
    "### 4. Podejście Machine Learning do analizy nastrojów"
   ]
  },
  {
   "cell_type": "code",
   "execution_count": 121,
   "metadata": {
    "cell_status": {
     "execute_time": {
      "duration": 10.56201171875,
      "end_time": 1610827996675.251
     }
    },
    "collapsed": true,
    "deletable": true,
    "editable": true
   },
   "outputs": [],
   "source": [
    "%%local\n",
    "from pyspark.ml import Pipeline\n",
    "from pyspark.ml.linalg import Vectors\n",
    "from pyspark.ml.classification import LogisticRegression\n",
    "from pyspark.ml.feature import HashingTF, Tokenizer"
   ]
  },
  {
   "cell_type": "markdown",
   "metadata": {
    "deletable": true,
    "editable": true
   },
   "source": [
    "#### **--- Usuniecie zbędnych słów (stop words) **"
   ]
  },
  {
   "cell_type": "markdown",
   "metadata": {
    "cell_status": {
     "execute_time": {
      "duration": 226.119140625,
      "end_time": 1610723961980.609
     }
    },
    "deletable": true,
    "editable": true
   },
   "source": [
    "Odczytuje plik tekstowy ze słowami pomijanymi i usuwam je  z kolumny tweet"
   ]
  },
  {
   "cell_type": "code",
   "execution_count": 126,
   "metadata": {
    "cell_status": {
     "execute_time": {
      "duration": 782.7470703125,
      "end_time": 1610828149714.926
     }
    },
    "collapsed": false,
    "deletable": true,
    "editable": true
   },
   "outputs": [
    {
     "name": "stdout",
     "output_type": "stream",
     "text": [
      "sentiments.csv  stopwords.txt  tweets_pandemic_clean.csv\r\n"
     ]
    }
   ],
   "source": [
    "%%local\n",
    "%pwd\n",
    "%ls"
   ]
  },
  {
   "cell_type": "code",
   "execution_count": 127,
   "metadata": {
    "cell_status": {
     "execute_time": {
      "duration": 19.44091796875,
      "end_time": 1610828150484.963
     }
    },
    "collapsed": false,
    "deletable": true,
    "editable": true
   },
   "outputs": [],
   "source": [
    "%%local\n",
    "#Z http://www.lextek.com/manuals/onix/stopwords1.html\n",
    "with open(\"stopwords.txt\") as f:\n",
    "    stop_words = f.read().split()"
   ]
  },
  {
   "cell_type": "code",
   "execution_count": 128,
   "metadata": {
    "cell_status": {
     "execute_time": {
      "duration": 39.1650390625,
      "end_time": 1610828151327.605
     }
    },
    "collapsed": false,
    "deletable": true,
    "editable": true
   },
   "outputs": [
    {
     "data": {
      "text/plain": [
       "['about',\n",
       " 'above',\n",
       " 'across',\n",
       " 'after',\n",
       " 'again',\n",
       " 'against',\n",
       " 'all',\n",
       " 'almost',\n",
       " 'alone']"
      ]
     },
     "execution_count": 128,
     "metadata": {},
     "output_type": "execute_result"
    }
   ],
   "source": [
    "%%local\n",
    "stop_words[1:10] #odczytanie pierwszych 10 słów"
   ]
  },
  {
   "cell_type": "code",
   "execution_count": 129,
   "metadata": {
    "cell_status": {
     "execute_time": {
      "duration": 740.970947265625,
      "end_time": 1610828152929.343
     }
    },
    "collapsed": false,
    "deletable": true,
    "editable": true
   },
   "outputs": [],
   "source": [
    "%%local\n",
    "#usuniecie słów z tweetów\n",
    "from pyspark.ml.feature import StopWordsRemover\n",
    "filter = StopWordsRemover().setStopWords(stop_words).setCaseSensitive(False).setInputCol(\"splittweet\").setOutputCol(\"words_filter\")"
   ]
  },
  {
   "cell_type": "markdown",
   "metadata": {
    "deletable": true,
    "editable": true
   },
   "source": [
    "#### **Liczenie wektoryzatora**"
   ]
  },
  {
   "cell_type": "code",
   "execution_count": 130,
   "metadata": {
    "cell_status": {
     "execute_time": {
      "duration": 181.972900390625,
      "end_time": 1610828154384.625
     }
    },
    "collapsed": false,
    "deletable": true,
    "editable": true
   },
   "outputs": [],
   "source": [
    "%%local\n",
    "from pyspark.ml.feature import CountVectorizer\n",
    "vector_count = CountVectorizer(minTF=1, minDF=8, vocabSize=2**17).setInputCol(\"words_filter\").setOutputCol(\"TF\")"
   ]
  },
  {
   "cell_type": "markdown",
   "metadata": {
    "deletable": true,
    "editable": true
   },
   "source": [
    "#### **Pipeline Estymator**"
   ]
  },
  {
   "cell_type": "code",
   "execution_count": 131,
   "metadata": {
    "cell_status": {
     "execute_time": {
      "duration": 12969.863037109375,
      "end_time": 1610828169588.899
     }
    },
    "collapsed": false,
    "deletable": true,
    "editable": true
   },
   "outputs": [],
   "source": [
    "%%local\n",
    "#Tworze nowy Pipline estymator\n",
    "C_Pipeline_Est = Pipeline(stages=[token, filter, vector_count]).fit(tweet_clean_df.limit(1000))"
   ]
  },
  {
   "cell_type": "code",
   "execution_count": 132,
   "metadata": {
    "cell_status": {
     "execute_time": {
      "duration": 7297.157958984375,
      "end_time": 1610828176925.011
     }
    },
    "collapsed": false,
    "deletable": true,
    "editable": true
   },
   "outputs": [
    {
     "name": "stdout",
     "output_type": "stream",
     "text": [
      "+---+--------------------+-------------------+---------+--------------------+--------------------+--------------------+\n",
      "|_c0|               tweet|                 id|sentiment|          splittweet|        words_filter|                  TF|\n",
      "+---+--------------------+-------------------+---------+--------------------+--------------------+--------------------+\n",
      "|  1|rt hong kong on m...|1341007597202227203|        1|[rt, hong, kong, ...|[rt, hong, kong, ...|(131,[0,21,101,10...|\n",
      "|  3|the nhs will be o...|1341007597349048320|        1|[the, nhs, will, ...|[nhs, offering, c...|(131,[3,12,65],[1...|\n",
      "|  5|    rt chuck collins|1341007597906878464|        1|[rt, chuck, collins]|[rt, chuck, collins]|     (131,[0],[1.0])|\n",
      "|  8|can t wait for th...|1341007598657675266|        1|[can, t, wait, fo...|[wait, pandemic, ...|(131,[1,2,7,61],[...|\n",
      "|  9|update data sebar...|1341007597952876547|        1|[update, data, se...|[update, data, se...|(131,[1,2,3],[1.0...|\n",
      "+---+--------------------+-------------------+---------+--------------------+--------------------+--------------------+\n",
      "only showing top 5 rows\n",
      "\n"
     ]
    }
   ],
   "source": [
    "%%local\n",
    "#stosuje transformacji do DF\n",
    "C_Pipeline_Est.transform(tweet_clean_df).show(5)"
   ]
  },
  {
   "cell_type": "markdown",
   "metadata": {
    "deletable": true,
    "editable": true
   },
   "source": [
    "#### **IDF (Odwrotna częstotliwość dokumentu- Inverse Document Frequency)**"
   ]
  },
  {
   "cell_type": "code",
   "execution_count": 133,
   "metadata": {
    "cell_status": {
     "execute_time": {
      "duration": 136.387939453125,
      "end_time": 1610828177118.17
     }
    },
    "collapsed": true,
    "deletable": true,
    "editable": true
   },
   "outputs": [],
   "source": [
    "%%local\n",
    "from pyspark.ml.feature import IDF\n",
    "IDF = IDF().setInputCol('TF').setOutputCol('TF_IDF')"
   ]
  },
  {
   "cell_type": "code",
   "execution_count": 134,
   "metadata": {
    "cell_status": {
     "execute_time": {
      "duration": 24396.12109375,
      "end_time": 1610828201537.436
     }
    },
    "collapsed": false,
    "deletable": true,
    "editable": true
   },
   "outputs": [],
   "source": [
    "%%local\n",
    "#tworze IDF pipeline\n",
    "IDF_pip = Pipeline(stages=[C_Pipeline_Est, IDF]).fit(tweet_clean_df)"
   ]
  },
  {
   "cell_type": "code",
   "execution_count": 135,
   "metadata": {
    "cell_status": {
     "execute_time": {
      "duration": 10817.740966796875,
      "end_time": 1610828212374.618
     }
    },
    "collapsed": false,
    "deletable": true,
    "editable": true
   },
   "outputs": [
    {
     "name": "stdout",
     "output_type": "stream",
     "text": [
      "+-------------------+--------------------+--------------------+--------------------+\n",
      "|                 id|        words_filter|                  TF|              TF_IDF|\n",
      "+-------------------+--------------------+--------------------+--------------------+\n",
      "|1341007597202227203|[rt, hong, kong, ...|(131,[0,21,101,10...|(131,[0,21,101,10...|\n",
      "|1341007597349048320|[nhs, offering, c...|(131,[3,12,65],[1...|(131,[3,12,65],[1...|\n",
      "|1341007597906878464|[rt, chuck, collins]|     (131,[0],[1.0])|(131,[0],[0.34026...|\n",
      "|1341007598657675266|[wait, pandemic, ...|(131,[1,2,7,61],[...|(131,[1,2,7,61],[...|\n",
      "+-------------------+--------------------+--------------------+--------------------+\n",
      "only showing top 4 rows\n",
      "\n"
     ]
    }
   ],
   "source": [
    "%%local\n",
    "#stosuje transformacje\n",
    "TF_IDF = IDF_pip.transform(tweet_clean_df)\n",
    "TF_IDF.select('id', 'words_filter', 'TF', \"TF_IDF\").show(4)"
   ]
  },
  {
   "cell_type": "markdown",
   "metadata": {
    "cell_status": {
     "execute_time": {
      "duration": 5009.587890625,
      "end_time": 1610729352320.04
     }
    },
    "deletable": true,
    "editable": true
   },
   "source": [
    " #### ** Dzielenie danych na dane uczące, dane potrzebne do walidacji i dane testowe DF w stosunku 80: 10: 10**"
   ]
  },
  {
   "cell_type": "code",
   "execution_count": 136,
   "metadata": {
    "cell_status": {
     "execute_time": {
      "duration": 734.577880859375,
      "end_time": 1610828213202.723
     }
    },
    "collapsed": true,
    "deletable": true,
    "editable": true
   },
   "outputs": [],
   "source": [
    "%%local\n",
    "df_train, df_val, df_test = tweet_clean_df.randomSplit([0.80, 0.10, 0.10], seed=0)"
   ]
  },
  {
   "cell_type": "code",
   "execution_count": 137,
   "metadata": {
    "cell_status": {
     "execute_time": {
      "duration": 38621.906982421875,
      "end_time": 1610828251882.285
     }
    },
    "collapsed": false,
    "deletable": true,
    "editable": true
   },
   "outputs": [
    {
     "data": {
      "text/plain": [
       "(26371, 3254, 3319)"
      ]
     },
     "execution_count": 137,
     "metadata": {},
     "output_type": "execute_result"
    }
   ],
   "source": [
    "%%local\n",
    "df_train.count() ,df_val.count() ,df_test.count()"
   ]
  },
  {
   "cell_type": "markdown",
   "metadata": {
    "deletable": true,
    "editable": true
   },
   "source": [
    "### 5. Model regresji logistycznej"
   ]
  },
  {
   "cell_type": "code",
   "execution_count": 138,
   "metadata": {
    "cell_status": {
     "execute_time": {
      "duration": 642.391845703125,
      "end_time": 1610828252688.066
     }
    },
    "collapsed": true,
    "deletable": true,
    "editable": true
   },
   "outputs": [],
   "source": [
    "%%local\n",
    "#używanie funkcji TF_IDF z IDF pipeline i przekazywanie go do modelu regresji logistycznej\n",
    "from pyspark.ml.classification import LogisticRegression\n",
    "LR = LogisticRegression().setLabelCol('sentiment').setFeaturesCol('TF_IDF').setMaxIter(100)"
   ]
  },
  {
   "cell_type": "code",
   "execution_count": 139,
   "metadata": {
    "cell_status": {
     "execute_time": {
      "duration": 37484.406982421875,
      "end_time": 1610828290203.026
     }
    },
    "collapsed": false,
    "deletable": true,
    "editable": true
   },
   "outputs": [],
   "source": [
    "%%local\n",
    "#tworzenie transformacji pipeline dla regresji logistycznej i uruchamianie na zestawie danych szkoleniowych.\n",
    "pip_LR = Pipeline(stages=[IDF_pip, LR]).fit(df_train)"
   ]
  },
  {
   "cell_type": "code",
   "execution_count": 140,
   "metadata": {
    "cell_status": {
     "execute_time": {
      "duration": 3051.498046875,
      "end_time": 1610828293282.498
     }
    },
    "collapsed": false,
    "deletable": true,
    "editable": true
   },
   "outputs": [
    {
     "name": "stdout",
     "output_type": "stream",
     "text": [
      "+-------------------+---------+----------+\n",
      "|                 id|sentiment|prediction|\n",
      "+-------------------+---------+----------+\n",
      "|1341007597202227203|        1|       1.0|\n",
      "|1341007598657675266|        1|       0.0|\n",
      "|1341007603304902656|        1|       1.0|\n",
      "|1341007606895271937|        1|       1.0|\n",
      "|1341007614214344707|        1|       0.0|\n",
      "+-------------------+---------+----------+\n",
      "only showing top 5 rows\n",
      "\n"
     ]
    }
   ],
   "source": [
    "%%local\n",
    "#stoswanie transformacji na DF w celu predykcji sentymentów\n",
    "pip_LR.transform(df_val).select('id', 'sentiment', 'prediction').show(5)"
   ]
  },
  {
   "cell_type": "code",
   "execution_count": 141,
   "metadata": {
    "cell_status": {
     "execute_time": {
      "duration": 3416.809814453125,
      "end_time": 1610828296711.722
     }
    },
    "collapsed": false,
    "deletable": true,
    "editable": true
   },
   "outputs": [
    {
     "name": "stdout",
     "output_type": "stream",
     "text": [
      "+-------------------+---------+----------+\n",
      "|                 id|sentiment|prediction|\n",
      "+-------------------+---------+----------+\n",
      "|1341007599681024006|        1|       1.0|\n",
      "|1341007603871133703|        1|       1.0|\n",
      "|1341007604114440192|        1|       0.0|\n",
      "|1341007604185767936|        1|       1.0|\n",
      "|1341007609516744705|        1|       1.0|\n",
      "+-------------------+---------+----------+\n",
      "only showing top 5 rows\n",
      "\n"
     ]
    }
   ],
   "source": [
    "%%local\n",
    "#stosowanie transformacji na danych szkoleniowych(testowych)\n",
    "pred_test = pip_LR.transform(df_test).select('id', 'sentiment', 'prediction')\n",
    "pred_test.show(5)"
   ]
  },
  {
   "cell_type": "markdown",
   "metadata": {
    "deletable": true,
    "editable": true
   },
   "source": [
    " #### ** Obliczanie wyniku dokładności na zestawie danych testowych dla naszego modelu ML.**"
   ]
  },
  {
   "cell_type": "code",
   "execution_count": 142,
   "metadata": {
    "cell_status": {
     "execute_time": {
      "duration": 7363.767822265625,
      "end_time": 1610828304102.015
     }
    },
    "collapsed": false,
    "deletable": true,
    "editable": true
   },
   "outputs": [
    {
     "data": {
      "text/plain": [
       "0.6962940644772522"
      ]
     },
     "execution_count": 142,
     "metadata": {},
     "output_type": "execute_result"
    }
   ],
   "source": [
    "%%local\n",
    "acc = pred_test.filter(pred_test.sentiment == pred_test.prediction).count() / float(df_test.count())\n",
    "acc"
   ]
  },
  {
   "cell_type": "markdown",
   "metadata": {
    "deletable": true,
    "editable": true
   },
   "source": [
    "** Wniosek numer 4: Dokładność wzrosła o około 20% w porównaniu z podejściem słownikowym, w którym dokładność wynosiła 0.47 **"
   ]
  },
  {
   "cell_type": "markdown",
   "metadata": {
    "deletable": true,
    "editable": true
   },
   "source": [
    "#### **Ogólne wnioski:**\n",
    "\n",
    "-- Dokładność przewidywania wzrasta, gdy model uczenia maszynowego w połączeniu z estymatorami Spark i transformatami jest stosowany do zbioru danych sentymentu.\n",
    "<br>\n",
    "-- Słowa, które często pojawiają się w danych, mogą powodować błąd podczas przewidywania nastrojów, co można rozwiązać za pomocą wektoryzacji zliczania i metod IDF, które neutralizują wpływ tych słów na wagę.\n",
    "<br>\n",
    "-- Wcześniej zauważyłam, że ogólne nastawienie do tweetów było pozytywne, a może to wynikać z oczekiwaniem na szczepionkę. Dlatego uważam, że decyzje podejmowane przez Państwa powinny mieć mieć ukierunkowanie na wsbudzenie nadzieji i lepszego jutra w związku z oczekiwaniem na szczepionkę.\n",
    "<br>"
   ]
  },
  {
   "cell_type": "markdown",
   "metadata": {
    "collapsed": true,
    "deletable": true,
    "editable": true
   },
   "source": [
    "#### **Problemy związane z analizą sentymentów:**\n",
    "-- Sentymenty od sarkazmu.\n",
    "<br>\n",
    "-- Wiele nastrojów w jednym zdaniu przy użyciu słów takich jak „Mimo to”, które mogą zmienić cały sentyment zdania."
   ]
  },
  {
   "cell_type": "markdown",
   "metadata": {
    "deletable": true,
    "editable": true
   },
   "source": [
    "#### **Zalecenia i przyszłe plany: **\n",
    "-- Techniki takie jak regularyzacja mogą być stosowane wraz z uczeniem maszynowym do optymalizacji.\n",
    "<br>\n",
    "-- Spark streaming API czy  Tweepy Streaming mogą służyć do wyodrębniania źródeł danych wczasie rzeczywistym z platform do przeprowadzania analizy opinii."
   ]
  }
 ],
 "metadata": {
  "kernelspec": {
   "display_name": "PySpark3",
   "language": "",
   "name": "pyspark3kernel"
  },
  "language_info": {
   "codemirror_mode": {
    "name": "python",
    "version": 3
   },
   "mimetype": "text/x-python",
   "name": "pyspark3",
   "pygments_lexer": "python3"
  }
 },
 "nbformat": 4,
 "nbformat_minor": 2
}