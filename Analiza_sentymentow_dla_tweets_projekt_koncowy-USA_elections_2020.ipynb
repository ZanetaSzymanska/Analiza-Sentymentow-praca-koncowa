{
 "cells": [
  {
   "cell_type": "markdown",
   "metadata": {
    "deletable": true,
    "editable": true
   },
   "source": [
    "## Projekt Big Data: Analiza nastrojów przy użyciu Pyspark na przykładzie tweetach odnośnie wyborów w USA w 2020"
   ]
  },
  {
   "cell_type": "markdown",
   "metadata": {
    "deletable": true,
    "editable": true
   },
   "source": [
    "**Problem**: przeanalizowanie tweetów odnośnie wyborów prezydenckich w USA w 2020 i zrozumienie, jakie nastroje towarzyszą temu wydarzeniu"
   ]
  },
  {
   "cell_type": "markdown",
   "metadata": {
    "deletable": true,
    "editable": true
   },
   "source": [
    "**Opis danych:** Używam pobranego zbioru danych z Twitter API, który zawiera szereg kolumn, ale do analizy będę wykorzystywać kolumny: tweet-text, id posta, sentyment obliczony przy użyciu TextBlob biblioteki (NLTK)"
   ]
  },
  {
   "cell_type": "markdown",
   "metadata": {
    "cell_status": {
     "execute_time": {
      "duration": 9030.323974609375,
      "end_time": 1610525005718.734
     }
    },
    "deletable": true,
    "editable": true
   },
   "source": [
    "**Podejście:** Zastosowałam tradycyjne podejście do analizy sentymentów, a także podejście data science, które obejmuje estymatory, transformatory i zastosowanie algorytmu uczenia maszynowego do mojej analizy nastrojów, gdzie 1 oznacza dodatnie, a 0 ujemne."
   ]
  },
  {
   "cell_type": "markdown",
   "metadata": {
    "deletable": true,
    "editable": true
   },
   "source": [
    "Zaimportowanie  numpy, pandas and matplotlib bibliotek do czyszczenia i eksploracyjnej analizy danych"
   ]
  },
  {
   "cell_type": "code",
   "execution_count": 1,
   "metadata": {
    "cell_status": {
     "execute_time": {
      "duration": 831.389892578125,
      "end_time": 1610886685363.996
     }
    },
    "collapsed": false,
    "deletable": true,
    "editable": true
   },
   "outputs": [
    {
     "name": "stdout",
     "output_type": "stream",
     "text": [
      "Starting Spark application\n"
     ]
    },
    {
     "data": {
      "text/html": [
       "<table>\n",
       "<tr><th>ID</th><th>YARN Application ID</th><th>Kind</th><th>State</th><th>Spark UI</th><th>Driver log</th><th>Current session?</th></tr><tr><td>5</td><td>application_1610791276704_0010</td><td>pyspark3</td><td>idle</td><td><a target=\"_blank\" href=\"http://hn1-sentim.aj5qhjfjngbevk43kzoazlu5wg.ax.internal.cloudapp.net:8088/proxy/application_1610791276704_0010/\">Link</a></td><td><a target=\"_blank\" href=\"http://wn1-sentim.aj5qhjfjngbevk43kzoazlu5wg.ax.internal.cloudapp.net:30060/node/containerlogs/container_1610791276704_0010_01_000001/livy\">Link</a></td><td>✔</td></tr></table>"
      ],
      "text/plain": [
       "<IPython.core.display.HTML object>"
      ]
     },
     "metadata": {},
     "output_type": "display_data"
    },
    {
     "name": "stdout",
     "output_type": "stream",
     "text": [
      "SparkSession available as 'spark'.\n",
      "RangeIndex(start=0, stop=100000, step=1)"
     ]
    }
   ],
   "source": [
    "import pandas as pd  \n",
    "import numpy as np\n",
    "import matplotlib.pyplot as plt\n",
    "pd.RangeIndex(start=0, stop=100000,step=1)"
   ]
  },
  {
   "cell_type": "code",
   "execution_count": 2,
   "metadata": {
    "cell_status": {
     "execute_time": {
      "duration": 603.885986328125,
      "end_time": 1610886685987.969
     }
    },
    "collapsed": false,
    "deletable": true,
    "editable": true
   },
   "outputs": [],
   "source": [
    "%%local\n",
    "%matplotlib inline"
   ]
  },
  {
   "cell_type": "markdown",
   "metadata": {
    "deletable": true,
    "editable": true
   },
   "source": [
    "Sprawdzanie zawartości bazy w Apache Hive"
   ]
  },
  {
   "cell_type": "code",
   "execution_count": 3,
   "metadata": {
    "cell_status": {
     "execute_time": {
      "duration": 24235.7138671875,
      "end_time": 1610886714879.534
     }
    },
    "collapsed": false,
    "deletable": true,
    "editable": true
   },
   "outputs": [
    {
     "data": {
      "application/vnd.jupyter.widget-view+json": {
       "model_id": "384294289689417591f9afb799bccb03"
      }
     },
     "metadata": {},
     "output_type": "display_data"
    },
    {
     "data": {
      "application/vnd.jupyter.widget-view+json": {
       "model_id": "6bbc4202ee68435ebe41f3462afee6b0"
      }
     },
     "metadata": {},
     "output_type": "display_data"
    }
   ],
   "source": [
    "%%sql\n",
    "SHOW TABLES"
   ]
  },
  {
   "cell_type": "code",
   "execution_count": 4,
   "metadata": {
    "cell_status": {
     "execute_time": {
      "duration": 11892.754150390625,
      "end_time": 1610886731627.647
     }
    },
    "collapsed": false,
    "deletable": true,
    "editable": true
   },
   "outputs": [
    {
     "data": {
      "application/vnd.jupyter.widget-view+json": {
       "model_id": "31ff5fad2b89457e8b497c07fe781a22"
      }
     },
     "metadata": {},
     "output_type": "display_data"
    },
    {
     "data": {
      "application/vnd.jupyter.widget-view+json": {
       "model_id": "ec00f60e8ca341d8a435caf82da5d760"
      }
     },
     "metadata": {},
     "output_type": "display_data"
    }
   ],
   "source": [
    "%%sql\n",
    "describe tweets_pandemic"
   ]
  },
  {
   "cell_type": "markdown",
   "metadata": {
    "cell_status": {
     "execute_time": {
      "duration": 110.56103515625,
      "end_time": 1610530431852.662
     }
    },
    "deletable": true,
    "editable": true
   },
   "source": [
    "Sprawdzenie jakie mamy tendencje emocjonalne w pobranych tweetach"
   ]
  },
  {
   "cell_type": "code",
   "execution_count": 5,
   "metadata": {
    "cell_status": {
     "execute_time": {
      "duration": 59408.6669921875,
      "end_time": 1610887069743.711
     }
    },
    "collapsed": false,
    "deletable": true,
    "editable": true
   },
   "outputs": [
    {
     "data": {
      "application/vnd.jupyter.widget-view+json": {
       "model_id": "aa5d82cf2dc14126968ce1f973afde74"
      }
     },
     "metadata": {},
     "output_type": "display_data"
    },
    {
     "data": {
      "application/vnd.jupyter.widget-view+json": {
       "model_id": "b7d8385fdbc849d98797ab807d9b55b4"
      }
     },
     "metadata": {},
     "output_type": "display_data"
    }
   ],
   "source": [
    "%%sql\n",
    "select sentiment, count(*) as cnt from\n",
    "(select case \n",
    "when polarity < 0 then 'negative'  \n",
    "when polarity = 0 and subjectivity >= 0.5 then 'negative'\n",
    "when polarity = 0 and subjectivity < 0.5 then 'positive'\n",
    "when polarity > 0 then 'positive' \n",
    "end\n",
    "as sentiment\n",
    "from tweets_usa_elections_2020)\n",
    "where sentiment <> 'NaN'\n",
    "group by sentiment\n",
    "order by sentiment"
   ]
  },
  {
   "cell_type": "markdown",
   "metadata": {
    "cell_status": {
     "execute_time": {
      "duration": 164.64404296875,
      "end_time": 1610529884609.109
     }
    },
    "deletable": true,
    "editable": true
   },
   "source": [
    "Tworzenie DataFrame na podstawie danych o tweetach w Apache Hive"
   ]
  },
  {
   "cell_type": "code",
   "execution_count": 6,
   "metadata": {
    "cell_status": {
     "execute_time": {
      "duration": 289974.94091796875,
      "end_time": 1610887359792.564
     }
    },
    "collapsed": false,
    "deletable": true,
    "editable": true
   },
   "outputs": [
    {
     "name": "stdout",
     "output_type": "stream",
     "text": [
      "CPU times: user 2min 48s, sys: 22.3 s, total: 3min 10s\n",
      "Wall time: 4min 50s\n"
     ]
    }
   ],
   "source": [
    "%%time\n",
    "%%sql -q -o df -n -1\n",
    "\n",
    "select id, text as tweet, \n",
    "case \n",
    "when sentiment_string = 'negative'  then 0\n",
    "when sentiment_string = 'positive'  then 1\n",
    "end\n",
    "as sentiment\n",
    "from\n",
    "(select id, text,\n",
    " case \n",
    "when polarity < 0 then 'negative'  \n",
    "when polarity = 0 and subjectivity >= 0.5 then 'negative'\n",
    "when polarity = 0 and subjectivity < 0.5 then 'positive'\n",
    "when polarity > 0 then 'positive' \n",
    "end\n",
    "as sentiment_string\n",
    "from tweets_usa_elections_2020)\n",
    "where sentiment_string <> 'NaN'"
   ]
  },
  {
   "cell_type": "code",
   "execution_count": 7,
   "metadata": {
    "cell_status": {
     "execute_time": {
      "duration": 134.5830078125,
      "end_time": 1610887364642.605
     }
    },
    "collapsed": false,
    "deletable": true,
    "editable": true
   },
   "outputs": [
    {
     "name": "stdout",
     "output_type": "stream",
     "text": [
      "<class 'pandas.core.frame.DataFrame'>\n",
      "RangeIndex: 100000 entries, 0 to 99999\n",
      "Data columns (total 3 columns):\n",
      "id           100000 non-null int64\n",
      "tweet        100000 non-null object\n",
      "sentiment    100000 non-null int64\n",
      "dtypes: int64(2), object(1)\n",
      "memory usage: 2.3+ MB\n"
     ]
    },
    {
     "data": {
      "text/plain": [
       "RangeIndex(start=0, stop=100000, step=1)"
      ]
     },
     "execution_count": 7,
     "metadata": {},
     "output_type": "execute_result"
    }
   ],
   "source": [
    "%%local\n",
    "df.info()\n",
    "df.index"
   ]
  },
  {
   "cell_type": "markdown",
   "metadata": {
    "deletable": true,
    "editable": true
   },
   "source": [
    "Nie mamy tej samej liczby pozytywnych i negatywnych tweetów"
   ]
  },
  {
   "cell_type": "code",
   "execution_count": 8,
   "metadata": {
    "cell_status": {
     "execute_time": {
      "duration": 25.344970703125,
      "end_time": 1610887368283.051
     }
    },
    "collapsed": false,
    "deletable": true,
    "editable": true
   },
   "outputs": [
    {
     "data": {
      "text/plain": [
       "1    82465\n",
       "0    17535\n",
       "Name: sentiment, dtype: int64"
      ]
     },
     "execution_count": 8,
     "metadata": {},
     "output_type": "execute_result"
    }
   ],
   "source": [
    "%%local\n",
    "df.sentiment.value_counts()"
   ]
  },
  {
   "cell_type": "code",
   "execution_count": 9,
   "metadata": {
    "cell_status": {
     "execute_time": {
      "duration": 21.008056640625,
      "end_time": 1610821309259.877
     }
    },
    "collapsed": false,
    "deletable": true,
    "editable": true
   },
   "outputs": [
    {
     "data": {
      "text/html": [
       "\n",
       "<table>\n",
       "  <tr>\n",
       "    <th>Magic</th>\n",
       "    <th>Example</th>\n",
       "    <th>Explanation</th>\n",
       "  </tr>\n",
       "  <tr>\n",
       "    <td>info</td>\n",
       "    <td>%%info</td>\n",
       "    <td>Outputs session information for the current Livy endpoint.</td>\n",
       "  </tr>\n",
       "  <tr>\n",
       "    <td>cleanup</td>\n",
       "    <td>%%cleanup -f</td>\n",
       "    <td>Deletes all sessions for the current Livy endpoint, including this notebook's session. The force flag is mandatory.</td>\n",
       "  </tr>\n",
       "  <tr>\n",
       "    <td>delete</td>\n",
       "    <td>%%delete -f -s 0</td>\n",
       "    <td>Deletes a session by number for the current Livy endpoint. Cannot delete this kernel's session.</td>\n",
       "  </tr>\n",
       "  <tr>\n",
       "    <td>logs</td>\n",
       "    <td>%%logs</td>\n",
       "    <td>Outputs the current session's Livy logs.</td>\n",
       "  </tr>\n",
       "  <tr>\n",
       "    <td>configure</td>\n",
       "    <td>%%configure -f<br/>{\"executorMemory\": \"1000M\", \"executorCores\": 4}</td>\n",
       "    <td>Configure the session creation parameters. The force flag is mandatory if a session has already been\n",
       "    created and the session will be dropped and recreated.<br/>Look at <a href=\"https://github.com/cloudera/livy#request-body\">\n",
       "    Livy's POST /sessions Request Body</a> for a list of valid parameters. Parameters must be passed in as a JSON string.</td>\n",
       "  </tr>\n",
       "  <tr>\n",
       "    <td>spark</td>\n",
       "    <td>%%spark -o df<br/>df = spark.read.parquet('...</td>\n",
       "    <td>Executes spark commands.\n",
       "    Parameters:\n",
       "      <ul>\n",
       "        <li>-o VAR_NAME: The Spark dataframe of name VAR_NAME will be available in the %%local Python context as a\n",
       "          <a href=\"http://pandas.pydata.org/\">Pandas</a> dataframe with the same name.</li>\n",
       "        <li>-m METHOD: Sample method, either <tt>take</tt> or <tt>sample</tt>.</li>\n",
       "        <li>-n MAXROWS: The maximum number of rows of a dataframe that will be pulled from Livy to Jupyter.\n",
       "            If this number is negative, then the number of rows will be unlimited.</li>\n",
       "        <li>-r FRACTION: Fraction used for sampling.</li>\n",
       "      </ul>\n",
       "    </td>\n",
       "  </tr>\n",
       "  <tr>\n",
       "    <td>sql</td>\n",
       "    <td>%%sql -o tables -q<br/>SHOW TABLES</td>\n",
       "    <td>Executes a SQL query against the variable sqlContext (Spark v1.x) or spark (Spark v2.x).\n",
       "    Parameters:\n",
       "      <ul>\n",
       "        <li>-o VAR_NAME: The result of the SQL query will be available in the %%local Python context as a\n",
       "          <a href=\"http://pandas.pydata.org/\">Pandas</a> dataframe.</li>\n",
       "        <li>-q: The magic will return None instead of the dataframe (no visualization).</li>\n",
       "        <li>-m, -n, -r are the same as the %%spark parameters above.</li>\n",
       "      </ul>\n",
       "    </td>\n",
       "  </tr>\n",
       "  <tr>\n",
       "    <td>local</td>\n",
       "    <td>%%local<br/>a = 1</td>\n",
       "    <td>All the code in subsequent lines will be executed locally. Code must be valid Python code.</td>\n",
       "  </tr>\n",
       "</table>\n"
      ],
      "text/plain": [
       "<IPython.core.display.HTML object>"
      ]
     },
     "metadata": {},
     "output_type": "display_data"
    }
   ],
   "source": [
    "%%help"
   ]
  },
  {
   "cell_type": "markdown",
   "metadata": {
    "deletable": true,
    "editable": true
   },
   "source": [
    "### 1.Czyszczenie danych"
   ]
  },
  {
   "cell_type": "code",
   "execution_count": 9,
   "metadata": {
    "cell_status": {
     "execute_time": {
      "duration": 29.5078125,
      "end_time": 1610887391327.805
     }
    },
    "collapsed": false,
    "deletable": true,
    "editable": true
   },
   "outputs": [
    {
     "data": {
      "text/plain": [
       "u'RT @KelemenCari: In the US there are 212 million registered voters.'"
      ]
     },
     "execution_count": 9,
     "metadata": {},
     "output_type": "execute_result"
    }
   ],
   "source": [
    "%%local\n",
    "df.tweet[15]"
   ]
  },
  {
   "cell_type": "markdown",
   "metadata": {
    "cell_status": {
     "execute_time": {
      "duration": 232.326171875,
      "end_time": 1610552144812.966
     }
    },
    "collapsed": true,
    "deletable": true,
    "editable": true
   },
   "source": [
    "Importowanie bibliotek potrzebnych do czyszczenia tekstu w tweetach\n",
    "<br>\n",
    "Testowanie wyników dla recenzji numer 15 i można zauważyć, że tagi HTML (u\" i \\u) zostały usunięte."
   ]
  },
  {
   "cell_type": "code",
   "execution_count": 10,
   "metadata": {
    "cell_status": {
     "execute_time": {
      "duration": 113.725830078125,
      "end_time": 1610887393301.492
     }
    },
    "collapsed": false,
    "deletable": true,
    "editable": true
   },
   "outputs": [
    {
     "name": "stdout",
     "output_type": "stream",
     "text": [
      "RT @KelemenCari: In the US there are 212 million registered voters.\n"
     ]
    }
   ],
   "source": [
    "%%local\n",
    "from bs4 import BeautifulSoup\n",
    "import re\n",
    "test = BeautifulSoup(df.tweet[15], 'lxml')\n",
    "print(test.get_text())"
   ]
  },
  {
   "cell_type": "markdown",
   "metadata": {
    "deletable": true,
    "editable": true
   },
   "source": [
    "Importowanie funkcji biblioteki NTLK „WordPunctTokenizer”, która dzieli ciąg na podciągi przez dzielenie."
   ]
  },
  {
   "cell_type": "code",
   "execution_count": 11,
   "metadata": {
    "cell_status": {
     "execute_time": {
      "duration": 3210.113037109375,
      "end_time": 1610887404450.6
     }
    },
    "collapsed": true,
    "deletable": true,
    "editable": true
   },
   "outputs": [],
   "source": [
    "%%local\n",
    "from nltk.tokenize import WordPunctTokenizer\n",
    "token = WordPunctTokenizer()\n",
    "\n",
    "reg1 = r'@[A-Za-z0-9]+' # usuwanie liczb i znaków specjalnych\n",
    "reg2 = r'<[^<]+?>'  # usuwanie znaków specjalnych\n",
    "comb = r'|'.join((reg1, reg2)) # łączę obie zmienne regresji i uzyję ich poniżej w funkcji."
   ]
  },
  {
   "cell_type": "markdown",
   "metadata": {
    "deletable": true,
    "editable": true
   },
   "source": [
    "Funkcja „clean” do czyszczenia tekstu "
   ]
  },
  {
   "cell_type": "code",
   "execution_count": 12,
   "metadata": {
    "cell_status": {
     "execute_time": {
      "duration": 20.4931640625,
      "end_time": 1610887405989.474
     }
    },
    "collapsed": true,
    "deletable": true,
    "editable": true
   },
   "outputs": [],
   "source": [
    "%%local\n",
    "def clean(tweet):\n",
    "    s = BeautifulSoup(tweet, 'lxml')\n",
    "    s_soup = s.get_text()\n",
    "    strip = re.sub(comb, '', s_soup)\n",
    "    letter = re.sub(\"[^a-zA-Z]\", \" \", strip)\n",
    "    lower = letter.lower()\n",
    "    replaceprefix = re.sub(\"^u'\", \"'\", lower) \n",
    "    word = token.tokenize(replaceprefix)\n",
    "    return (\" \".join(word)).strip()"
   ]
  },
  {
   "cell_type": "markdown",
   "metadata": {
    "deletable": true,
    "editable": true
   },
   "source": [
    "Testowanie funkcji"
   ]
  },
  {
   "cell_type": "code",
   "execution_count": 13,
   "metadata": {
    "cell_status": {
     "execute_time": {
      "duration": 43.370849609375,
      "end_time": 1610887410508.088
     }
    },
    "collapsed": false,
    "deletable": true,
    "editable": true
   },
   "outputs": [
    {
     "data": {
      "text/plain": [
       "[u'b armys as melhores',\n",
       " u'rt from the information i have i agree with secretary pompeo s assessment it certainly appears to be the russians ag',\n",
       " u'rt i don t want to discuss this subject too much cause it s going to piss me off even more but if this slimmed down covid',\n",
       " u'rt brian kemp and co are in on the treason',\n",
       " u'rt diabetica i vote minyoongi from twt for mosthandsome',\n",
       " u'rt stop saying trump and his supporters actually believe the election was stolen from him they support overturning legi',\n",
       " u'rt since everyone in the super savvy set is pretending not to remember this pelosi and the white house were close to a dea',\n",
       " u'finally adults in the room',\n",
       " u'rt',\n",
       " u'rt i vote for jhope from as mosthandsome https t co ttc hjbr w',\n",
       " u'rt one year trump deducted in hair expenses',\n",
       " u'you do realize what a fucked up tweet headline this is right https t co pltbd qjp',\n",
       " u'rt we the people must now launch massive campaign to prevent our state electors from ever casting vote in electoral college for',\n",
       " u'rt nevada s clark county registrar joe gloria says at news conference just now they won t complete ballot count until november',\n",
       " u'i vote kimseokjin from twt for mosthandsome',\n",
       " u'rt in the us there are million registered voters']"
      ]
     },
     "execution_count": 13,
     "metadata": {},
     "output_type": "execute_result"
    }
   ],
   "source": [
    "%%local\n",
    "test = df.tweet[:16]\n",
    "\n",
    "result = []  #pusty ciąg dodawany przy każdej iteracji czyszczenia tweetów.\n",
    "for t in test:\n",
    "    result.append(clean(t)) # wywołanie funkcji clean\n",
    "    \n",
    "result"
   ]
  },
  {
   "cell_type": "markdown",
   "metadata": {
    "cell_status": {
     "execute_time": {
      "duration": 16.44677734375,
      "end_time": 1610553182869.776
     }
    },
    "deletable": true,
    "editable": true
   },
   "source": [
    "#### Teraz czyszcze całe dane w kolumnie tweet. Podzieliłam tweety na 2 części i będę czyścić stopniowo, aby skrócić czas pracy."
   ]
  },
  {
   "cell_type": "code",
   "execution_count": 14,
   "metadata": {
    "cell_status": {
     "execute_time": {
      "duration": 55819.607177734375,
      "end_time": 1610887480932.07
     }
    },
    "collapsed": false,
    "deletable": true,
    "editable": true
   },
   "outputs": [
    {
     "name": "stdout",
     "output_type": "stream",
     "text": [
      "Czyszczenie część 1\n",
      "CPU times: user 46.4 s, sys: 5.58 s, total: 52 s\n",
      "Wall time: 55.8 s\n"
     ]
    }
   ],
   "source": [
    "%%local\n",
    "%%time\n",
    "import warnings\n",
    "warnings.filterwarnings(\"ignore\", category=UserWarning, module='bs4')\n",
    "n = [0,50000,100000] \n",
    "print (\"Czyszczenie część 1\")\n",
    "clean_tweet = []\n",
    "for i in range(n[0],n[1]):                                                                \n",
    "    clean_tweet.append(clean(df['tweet'][i]))"
   ]
  },
  {
   "cell_type": "code",
   "execution_count": 15,
   "metadata": {
    "cell_status": {
     "execute_time": {
      "duration": 54533.5791015625,
      "end_time": 1610887535490.236
     }
    },
    "collapsed": false,
    "deletable": true,
    "editable": true
   },
   "outputs": [
    {
     "name": "stdout",
     "output_type": "stream",
     "text": [
      "Czyszczenie część 2\n",
      "CPU times: user 46.6 s, sys: 5.23 s, total: 51.8 s\n",
      "Wall time: 54.5 s\n"
     ]
    }
   ],
   "source": [
    "%%local\n",
    "%%time\n",
    "import warnings\n",
    "warnings.filterwarnings(\"ignore\", category=UserWarning, module='bs4')\n",
    "n = [0,50000,100000] \n",
    "print (\"Czyszczenie część 2\")\n",
    "for i in range(n[1],n[2]):                                                                \n",
    "    clean_tweet.append(clean(df['tweet'][i]))"
   ]
  },
  {
   "cell_type": "code",
   "execution_count": 16,
   "metadata": {
    "cell_status": {
     "execute_time": {
      "duration": 18.55712890625,
      "end_time": 1610887535525.454
     }
    },
    "collapsed": false,
    "deletable": true,
    "editable": true
   },
   "outputs": [
    {
     "data": {
      "text/plain": [
       "100000"
      ]
     },
     "execution_count": 16,
     "metadata": {},
     "output_type": "execute_result"
    }
   ],
   "source": [
    "%%local\n",
    "len(clean_tweet) #liczba wyczyszczonych tweetów"
   ]
  },
  {
   "cell_type": "markdown",
   "metadata": {
    "deletable": true,
    "editable": true
   },
   "source": [
    "#### Zapisanie wyczyszczonych tweetów do pliku typu csv"
   ]
  },
  {
   "cell_type": "code",
   "execution_count": 17,
   "metadata": {
    "cell_status": {
     "execute_time": {
      "duration": 68.31494140625,
      "end_time": 1610887535616.582
     }
    },
    "collapsed": false,
    "deletable": true,
    "editable": true
   },
   "outputs": [
    {
     "data": {
      "text/plain": [
       "RangeIndex(start=0, stop=100000, step=1)"
      ]
     },
     "execution_count": 17,
     "metadata": {},
     "output_type": "execute_result"
    }
   ],
   "source": [
    "%%local\n",
    "import pandas as pd  \n",
    "import numpy as np\n",
    "import matplotlib.pyplot as plt\n",
    "pd.RangeIndex(start=0, stop=100000,step=1)"
   ]
  },
  {
   "cell_type": "code",
   "execution_count": 18,
   "metadata": {
    "cell_status": {
     "execute_time": {
      "duration": 1530.48388671875,
      "end_time": 1610887537159.013
     }
    },
    "collapsed": false,
    "deletable": true,
    "editable": true
   },
   "outputs": [
    {
     "data": {
      "application/vnd.jupyter.widget-view+json": {
       "model_id": "14c8d58a41ec482cae2d49c91c59cf54"
      }
     },
     "metadata": {},
     "output_type": "display_data"
    },
    {
     "data": {
      "application/vnd.jupyter.widget-view+json": {
       "model_id": "1d42247b6318498ba47ea818d5543f8f"
      }
     },
     "metadata": {},
     "output_type": "display_data"
    }
   ],
   "source": [
    "%%local\n",
    "df_new = pd.DataFrame(clean_tweet,columns=['tweet'])\n",
    "df_new['id'] = df.id\n",
    "df_new['sentiment'] = df.sentiment\n",
    "df_new.head()"
   ]
  },
  {
   "cell_type": "code",
   "execution_count": 19,
   "metadata": {
    "cell_status": {
     "execute_time": {
      "duration": 22.68603515625,
      "end_time": 1610887537196.82
     }
    },
    "collapsed": false,
    "deletable": true,
    "editable": true
   },
   "outputs": [
    {
     "data": {
      "text/plain": [
       "100000"
      ]
     },
     "execution_count": 19,
     "metadata": {},
     "output_type": "execute_result"
    }
   ],
   "source": [
    "%%local\n",
    "len(df_new)"
   ]
  },
  {
   "cell_type": "code",
   "execution_count": 20,
   "metadata": {
    "cell_status": {
     "execute_time": {
      "duration": 210.18701171875,
      "end_time": 1610887537429.912
     }
    },
    "collapsed": false,
    "deletable": true,
    "editable": true
   },
   "outputs": [
    {
     "name": "stdout",
     "output_type": "stream",
     "text": [
      "<class 'pandas.core.frame.DataFrame'>\n",
      "RangeIndex: 100000 entries, 0 to 99999\n",
      "Data columns (total 3 columns):\n",
      "tweet        100000 non-null object\n",
      "id           100000 non-null int64\n",
      "sentiment    100000 non-null int64\n",
      "dtypes: int64(2), object(1)\n",
      "memory usage: 2.3+ MB\n"
     ]
    },
    {
     "data": {
      "text/plain": [
       "RangeIndex(start=0, stop=100000, step=1)"
      ]
     },
     "execution_count": 20,
     "metadata": {},
     "output_type": "execute_result"
    }
   ],
   "source": [
    "%%local\n",
    "df_new.info()\n",
    "df_new.index"
   ]
  },
  {
   "cell_type": "code",
   "execution_count": 21,
   "metadata": {
    "cell_status": {
     "execute_time": {
      "duration": 2972.39208984375,
      "end_time": 1610887540422.198
     }
    },
    "collapsed": false,
    "deletable": true,
    "editable": true
   },
   "outputs": [
    {
     "name": "stdout",
     "output_type": "stream",
     "text": [
      "/home/sshuser/gettweets\n",
      "CPU times: user 2.62 s, sys: 220 ms, total: 2.84 s\n",
      "Wall time: 2.95 s\n"
     ]
    }
   ],
   "source": [
    "%%local\n",
    "%%time\n",
    "%cd /home/sshuser/gettweets\n",
    "%pwd\n",
    "df_new.to_csv('tweets_elections_USA_2020_clean.csv',encoding='utf-8')"
   ]
  },
  {
   "cell_type": "code",
   "execution_count": 22,
   "metadata": {
    "cell_status": {
     "execute_time": {
      "duration": 465.052001953125,
      "end_time": 1610887540907.547
     }
    },
    "collapsed": false,
    "deletable": true,
    "editable": true
   },
   "outputs": [
    {
     "name": "stdout",
     "output_type": "stream",
     "text": [
      "sentiments.csv  tweets_elections_USA_2020_clean.csv\r\n",
      "stopwords.txt   tweets_pandemic_clean.csv\r\n"
     ]
    }
   ],
   "source": [
    "%%local\n",
    "%pwd\n",
    "%ls"
   ]
  },
  {
   "cell_type": "markdown",
   "metadata": {
    "cell_status": {
     "execute_time": {
      "duration": 263.512939453125,
      "end_time": 1610623655145.884
     }
    },
    "deletable": true,
    "editable": true
   },
   "source": [
    "### 2. Eksploracyjna analiza danych"
   ]
  },
  {
   "cell_type": "markdown",
   "metadata": {
    "deletable": true,
    "editable": true
   },
   "source": [
    "1. Do wizualizacji użyłam Wordcloud, aby zobaczyć częstotliwość słów zgodnie z kolumną tweet. \n",
    "<br>\n",
    "2. Tworzony jest wykres słupkowy, aby wykreślić całkowitą liczbę pozytywnych i negatywnych słów dla ogólnego porównania nastrojów."
   ]
  },
  {
   "cell_type": "code",
   "execution_count": 23,
   "metadata": {
    "cell_status": {
     "execute_time": {
      "duration": 225.011962890625,
      "end_time": 1610887633248.476
     }
    },
    "collapsed": false,
    "deletable": true,
    "editable": true
   },
   "outputs": [],
   "source": [
    "%%local\n",
    "import collections\n",
    "from wordcloud import WordCloud #zaimportować wordcloud biblioteke\n",
    "import matplotlib.pyplot as plt"
   ]
  },
  {
   "cell_type": "markdown",
   "metadata": {
    "cell_status": {
     "execute_time": {
      "duration": 161.244873046875,
      "end_time": 1610624047302.308
     }
    },
    "deletable": true,
    "editable": true
   },
   "source": [
    "Konwertuję ramkę danych na typ danych str, abym mogła podać je jako dane wejściowe w chmurze słów."
   ]
  },
  {
   "cell_type": "code",
   "execution_count": 24,
   "metadata": {
    "cell_status": {
     "execute_time": {
      "duration": 56.47509765625,
      "end_time": 1610887635519.736
     }
    },
    "collapsed": false,
    "deletable": true,
    "editable": true
   },
   "outputs": [
    {
     "data": {
      "text/plain": [
       "str"
      ]
     },
     "execution_count": 24,
     "metadata": {},
     "output_type": "execute_result"
    }
   ],
   "source": [
    "%%local\n",
    "arr = df_new.tweet.values\n",
    "obj = np.array2string(arr, precision=2, separator=',',suppress_small=True)\n",
    "type(obj)"
   ]
  },
  {
   "cell_type": "markdown",
   "metadata": {
    "deletable": true,
    "editable": true
   },
   "source": [
    "####  Wniosek numer 1: Word Cloud służy do wyświetlania najczęściej używanych słów w tweetach. Można wywnioskować, że słowa takie jak secretary, outgoing, remember  są używane częściej i może to być mocny powód do sentymentu dla tematu jakim są wybor w USA w 2020."
   ]
  },
  {
   "cell_type": "code",
   "execution_count": 25,
   "metadata": {
    "cell_status": {
     "execute_time": {
      "duration": 13556.05615234375,
      "end_time": 1610887656153.061
     }
    },
    "collapsed": false,
    "deletable": true,
    "editable": true
   },
   "outputs": [
    {
     "data": {
      "image/png": "[encoded data removed]",
      "text/plain": [
       "<matplotlib.figure.Figure at 0x7f029c714290>"
      ]
     },
     "metadata": {},
     "output_type": "display_data"
    }
   ],
   "source": [
    "%%local\n",
    "wordcloud = WordCloud(width=1600, height=800,max_font_size=200).generate(obj)\n",
    "plt.figure(figsize=(12,10))\n",
    "plt.imshow(wordcloud, interpolation=\"bilinear\")\n",
    "plt.axis(\"off\")\n",
    "plt.show()"
   ]
  },
  {
   "cell_type": "markdown",
   "metadata": {
    "deletable": true,
    "editable": true
   },
   "source": [
    "W celu dalszej analizy użyty został słownik, który ma predefiniowane uczucia przypisane do słów. (https://github.com/sridharswamy/Twitter-Sentiment-Analysis-Using-Spark-Streaming-And-Kafka/tree/master/Dataset)"
   ]
  },
  {
   "cell_type": "code",
   "execution_count": 26,
   "metadata": {
    "cell_status": {
     "execute_time": {
      "duration": 1180.91015625,
      "end_time": 1610887657346.613
     }
    },
    "collapsed": false,
    "deletable": true,
    "editable": true
   },
   "outputs": [
    {
     "data": {
      "application/vnd.jupyter.widget-view+json": {
       "model_id": "c9be183b1dba43dc93ac2da75c6cf0d2"
      }
     },
     "metadata": {},
     "output_type": "display_data"
    },
    {
     "data": {
      "application/vnd.jupyter.widget-view+json": {
       "model_id": "6160c1f70bb14434b647a3be37c8f391"
      }
     },
     "metadata": {},
     "output_type": "display_data"
    }
   ],
   "source": [
    "%%local\n",
    "df_tokenized = pd.DataFrame(WordPunctTokenizer().tokenize(obj), columns=['word'])\n",
    "df_tokenized.head()"
   ]
  },
  {
   "cell_type": "code",
   "execution_count": 27,
   "metadata": {
    "cell_status": {
     "execute_time": {
      "duration": 1486.76611328125,
      "end_time": 1610887658870.362
     }
    },
    "collapsed": false,
    "deletable": true,
    "editable": true
   },
   "outputs": [
    {
     "name": "stdout",
     "output_type": "stream",
     "text": [
      "/home/sshuser/gettweets\n"
     ]
    },
    {
     "data": {
      "application/vnd.jupyter.widget-view+json": {
       "model_id": "202925eaabc84d53b2402c1dee71c9ae"
      }
     },
     "metadata": {},
     "output_type": "display_data"
    },
    {
     "data": {
      "application/vnd.jupyter.widget-view+json": {
       "model_id": "848400f0d1ca44aea543c7d7bd4e2a1f"
      }
     },
     "metadata": {},
     "output_type": "display_data"
    }
   ],
   "source": [
    "%local\n",
    "%cd /home/sshuser/gettweets\n",
    "dfDictList = pd.read_csv(\"sentiments.csv\")\n",
    "dfDictList.head()"
   ]
  },
  {
   "cell_type": "markdown",
   "metadata": {
    "cell_status": {
     "execute_time": {
      "duration": 88.346923828125,
      "end_time": 1610822078373.291
     }
    },
    "collapsed": true,
    "deletable": true,
    "editable": true
   },
   "source": [
    "Łączenie danych o sentymentach ze słownikieem dla uzyskania oceny każdego słowa z tweetów"
   ]
  },
  {
   "cell_type": "code",
   "execution_count": 28,
   "metadata": {
    "cell_status": {
     "execute_time": {
      "duration": 1392.10888671875,
      "end_time": 1610887660281.046
     }
    },
    "collapsed": false,
    "deletable": true,
    "editable": true
   },
   "outputs": [
    {
     "data": {
      "application/vnd.jupyter.widget-view+json": {
       "model_id": "f1f4f9885f5d406a914b65c5b776d2b3"
      }
     },
     "metadata": {},
     "output_type": "display_data"
    },
    {
     "data": {
      "application/vnd.jupyter.widget-view+json": {
       "model_id": "b59fb79b89bf4bbea14a61023d3e7e5d"
      }
     },
     "metadata": {},
     "output_type": "display_data"
    }
   ],
   "source": [
    "%%local\n",
    "df_merged = pd.merge(dfDictList, df_tokenized, on='word', how='inner')\n",
    "df_grouped = df_merged.groupby('sentiment', as_index = False).count()\n",
    "df_grouped"
   ]
  },
  {
   "cell_type": "markdown",
   "metadata": {
    "deletable": true,
    "editable": true
   },
   "source": [
    "\n",
    "#### Wniosek numer 2: Z poniższego wykresu słupkowego możemy wywnioskować, że ogólny nastrój z tweetów jest pozytywny"
   ]
  },
  {
   "cell_type": "code",
   "execution_count": 29,
   "metadata": {
    "cell_status": {
     "execute_time": {
      "duration": 877.262939453125,
      "end_time": 1610887661175.363
     }
    },
    "collapsed": false,
    "deletable": true,
    "editable": true
   },
   "outputs": [
    {
     "data": {
      "text/plain": [
       "[<matplotlib.text.Text at 0x7f0295b1e210>,\n",
       " <matplotlib.text.Text at 0x7f0295b00c90>]"
      ]
     },
     "execution_count": 29,
     "metadata": {},
     "output_type": "execute_result"
    },
    {
     "data": {
      "image/png": "[encoded data removed]",
      "text/plain": [
       "<matplotlib.figure.Figure at 0x7f02944e1fd0>"
      ]
     },
     "metadata": {},
     "output_type": "display_data"
    }
   ],
   "source": [
    "%%local\n",
    "df_grouped = df_new.groupby('sentiment', as_index = False).count()\n",
    "\n",
    "\n",
    "labels_word = ['Negative','Positive']\n",
    "ax = df_grouped.plot(kind = 'bar', x = 'sentiment', y='tweet')\n",
    "ax.set_xticklabels(labels_word)"
   ]
  },
  {
   "cell_type": "markdown",
   "metadata": {
    "deletable": true,
    "editable": true
   },
   "source": [
    "### 3. Prosta metoda wykonywania analizy nastrojów."
   ]
  },
  {
   "cell_type": "markdown",
   "metadata": {
    "deletable": true,
    "editable": true
   },
   "source": [
    "Używam prostego podejścia do przeprowadzania  analizy i będę używać czystego zestawu danych „tweet_clean”, który stworzyłam w poprzedniej sekcji.\n",
    "<br>\n",
    "Importowanie bibliotek Spark API do przyszłej analizy w kontekście Spark SQL."
   ]
  },
  {
   "cell_type": "code",
   "execution_count": 30,
   "metadata": {
    "cell_status": {
     "execute_time": {
      "duration": 2047.76904296875,
      "end_time": 1610887909174.748
     }
    },
    "collapsed": false,
    "deletable": true,
    "editable": true
   },
   "outputs": [
    {
     "data": {
      "text/plain": [
       "u'/home/sshuser/gettweets'"
      ]
     },
     "execution_count": 30,
     "metadata": {},
     "output_type": "execute_result"
    }
   ],
   "source": [
    "%%local\n",
    "from pyspark import SparkConf, SparkContext\n",
    "from pyspark.sql import SQLContext\n",
    "from pyspark.sql import functions as fn \n",
    "import findspark\n",
    "findspark.init() #aby umożliwić importowanie pyspark jako zwykłej biblioteki.\n",
    "import warnings\n",
    "%pwd"
   ]
  },
  {
   "cell_type": "code",
   "execution_count": 31,
   "metadata": {
    "cell_status": {
     "execute_time": {
      "duration": 47424.18505859375,
      "end_time": 1610887958906.364
     }
    },
    "collapsed": true,
    "deletable": true,
    "editable": true
   },
   "outputs": [],
   "source": [
    "%%local\n",
    "conf = SparkConf().setMaster(\"local[4]\").setAppName(\"Sentiment_Project\")  # działam w klastrze z 4 wątkami, ale jest on skalowalny również dla środowiska wieloklastrowego.\n",
    "sc = SparkContext.getOrCreate(conf = conf)\n",
    "sqlContext = SQLContext(sc)"
   ]
  },
  {
   "cell_type": "markdown",
   "metadata": {
    "deletable": true,
    "editable": true
   },
   "source": [
    "Tworzenie kontekstu sql do odczytu wyczyszczonych danych w ramce danych spark sql"
   ]
  },
  {
   "cell_type": "code",
   "execution_count": 32,
   "metadata": {
    "cell_status": {
     "execute_time": {
      "duration": 37524.552978515625,
      "end_time": 1610888401816.654
     }
    },
    "collapsed": false,
    "deletable": true,
    "editable": true
   },
   "outputs": [
    {
     "name": "stdout",
     "output_type": "stream",
     "text": [
      "/home/sshuser/gettweets\n"
     ]
    }
   ],
   "source": [
    "%%local\n",
    "%cd /home/sshuser/gettweets\n",
    "tweet_clean_df = sqlContext.read.csv('/HdiNotebooks/tweets_elections_USA_2020_clean.csv', header=True, inferSchema=True)"
   ]
  },
  {
   "cell_type": "code",
   "execution_count": 33,
   "metadata": {
    "cell_status": {
     "execute_time": {
      "duration": 19.9091796875,
      "end_time": 1610888404554.622
     }
    },
    "collapsed": false,
    "deletable": true,
    "editable": true
   },
   "outputs": [
    {
     "data": {
      "text/plain": [
       "pyspark.sql.dataframe.DataFrame"
      ]
     },
     "execution_count": 33,
     "metadata": {},
     "output_type": "execute_result"
    }
   ],
   "source": [
    "%%local\n",
    "type(tweet_clean_df)"
   ]
  },
  {
   "cell_type": "code",
   "execution_count": 34,
   "metadata": {
    "cell_status": {
     "execute_time": {
      "duration": 3338.31396484375,
      "end_time": 1610888408515.01
     }
    },
    "collapsed": false,
    "deletable": true,
    "editable": true
   },
   "outputs": [
    {
     "name": "stdout",
     "output_type": "stream",
     "text": [
      "+---+--------------------+-------------------+---------+\n",
      "|_c0|               tweet|                 id|sentiment|\n",
      "+---+--------------------+-------------------+---------+\n",
      "|  0| b armys as melhores|1341056337208336385|        1|\n",
      "|  1|rt from the infor...|1341056337267068928|        1|\n",
      "|  2|rt i don t want t...|1341056337447366662|        1|\n",
      "|  3|rt brian kemp and...|1341056337392898052|        1|\n",
      "|  4|rt diabetica i vo...|1341056337707450368|        1|\n",
      "+---+--------------------+-------------------+---------+\n",
      "only showing top 5 rows\n",
      "\n"
     ]
    }
   ],
   "source": [
    "%%local\n",
    "tweet_clean_df.dropna().show(5) # dane w czystym formacie i pomyślnie załadowane"
   ]
  },
  {
   "cell_type": "code",
   "execution_count": 35,
   "metadata": {
    "cell_status": {
     "execute_time": {
      "duration": 53.635986328125,
      "end_time": 1610888408619.719
     }
    },
    "collapsed": false,
    "deletable": true,
    "editable": true
   },
   "outputs": [
    {
     "name": "stdout",
     "output_type": "stream",
     "text": [
      "root\n",
      " |-- _c0: integer (nullable = true)\n",
      " |-- tweet: string (nullable = true)\n",
      " |-- id: long (nullable = true)\n",
      " |-- sentiment: integer (nullable = true)\n",
      "\n"
     ]
    }
   ],
   "source": [
    "%%local\n",
    "tweet_clean_df.printSchema()"
   ]
  },
  {
   "cell_type": "markdown",
   "metadata": {
    "deletable": true,
    "editable": true
   },
   "source": [
    "Usuwanie pustych wierszy"
   ]
  },
  {
   "cell_type": "code",
   "execution_count": 36,
   "metadata": {
    "cell_status": {
     "execute_time": {
      "duration": 8634.7890625,
      "end_time": 1610888417292.434
     }
    },
    "collapsed": false,
    "deletable": true,
    "editable": true
   },
   "outputs": [
    {
     "data": {
      "text/plain": [
       "99332"
      ]
     },
     "execution_count": 36,
     "metadata": {},
     "output_type": "execute_result"
    }
   ],
   "source": [
    "%%local\n",
    "tweet_clean_df=tweet_clean_df.dropna()\n",
    "tweet_clean_df.count()"
   ]
  },
  {
   "cell_type": "markdown",
   "metadata": {
    "deletable": true,
    "editable": true
   },
   "source": [
    "Przeglądanie pierwszego pozytywnego tweeta"
   ]
  },
  {
   "cell_type": "code",
   "execution_count": 37,
   "metadata": {
    "cell_status": {
     "execute_time": {
      "duration": 2064.4599609375,
      "end_time": 1610888420603.606
     }
    },
    "collapsed": false,
    "deletable": true,
    "editable": true
   },
   "outputs": [
    {
     "data": {
      "text/plain": [
       "Row(_c0=0, tweet=u'b armys as melhores', id=1341056337208336385, sentiment=1)"
      ]
     },
     "execution_count": 37,
     "metadata": {},
     "output_type": "execute_result"
    }
   ],
   "source": [
    "%%local\n",
    "tweet_clean_df.where(fn.col('sentiment') == 1).first()"
   ]
  },
  {
   "cell_type": "markdown",
   "metadata": {
    "deletable": true,
    "editable": true
   },
   "source": [
    "Przeglądanie pierwszego negatywnego tweeta"
   ]
  },
  {
   "cell_type": "code",
   "execution_count": 38,
   "metadata": {
    "cell_status": {
     "execute_time": {
      "duration": 2258.96484375,
      "end_time": 1610888422901.628
     }
    },
    "collapsed": false,
    "deletable": true,
    "editable": true
   },
   "outputs": [
    {
     "data": {
      "text/plain": [
       "Row(_c0=7, tweet=u'finally adults in the room', id=1341056337757683739, sentiment=0)"
      ]
     },
     "execution_count": 38,
     "metadata": {},
     "output_type": "execute_result"
    }
   ],
   "source": [
    "%%local\n",
    "tweet_clean_df.where(fn.col('sentiment') == 0).first()"
   ]
  },
  {
   "cell_type": "markdown",
   "metadata": {
    "deletable": true,
    "editable": true
   },
   "source": [
    "Obliczanie średniej długości  pozytywnych i negatywnych tweetów"
   ]
  },
  {
   "cell_type": "code",
   "execution_count": 39,
   "metadata": {
    "cell_status": {
     "execute_time": {
      "duration": 3945.696044921875,
      "end_time": 1610888428024.294
     }
    },
    "collapsed": false,
    "deletable": true,
    "editable": true
   },
   "outputs": [
    {
     "name": "stdout",
     "output_type": "stream",
     "text": [
      "+--------------------------+\n",
      "|avg(Positive Tweet Length)|\n",
      "+--------------------------+\n",
      "|         73.39584428283322|\n",
      "+--------------------------+\n",
      "\n"
     ]
    }
   ],
   "source": [
    "%%local\n",
    "pr = tweet_clean_df.select(fn.length('tweet').alias('Positive Tweet Length')).where(fn.col('sentiment') == 1)\n",
    "pr.select(fn.avg('Positive Tweet Length')).show()"
   ]
  },
  {
   "cell_type": "code",
   "execution_count": 40,
   "metadata": {
    "cell_status": {
     "execute_time": {
      "duration": 3737.56298828125,
      "end_time": 1610888431781.597
     }
    },
    "collapsed": false,
    "deletable": true,
    "editable": true
   },
   "outputs": [
    {
     "name": "stdout",
     "output_type": "stream",
     "text": [
      "+--------------------------+\n",
      "|avg(Negative Tweet Length)|\n",
      "+--------------------------+\n",
      "|         88.99914368898784|\n",
      "+--------------------------+\n",
      "\n"
     ]
    }
   ],
   "source": [
    "%%local\n",
    "nr = tweet_clean_df.select(fn.length('tweet').alias('Negative Tweet Length')).where(fn.col('sentiment') == 0)\n",
    "nr.select(fn.avg('Negative Tweet Length')).show()"
   ]
  },
  {
   "cell_type": "markdown",
   "metadata": {
    "deletable": true,
    "editable": true
   },
   "source": [
    "#### Wniosek numer 3. Przeanalizowałam, że średni rozmiar tekstu negatywnych tweetów jest większy niż pozytywnych tweetów"
   ]
  },
  {
   "cell_type": "markdown",
   "metadata": {
    "deletable": true,
    "editable": true
   },
   "source": [
    "Kolumna tweet jest podzielona na słowa za pomocą Tokenizera i połączyłam ją z istniejącym zestawem słów z predefiniowanymi odczuciami, aby obliczyć średni sentyment dla każdego identyfikatora postu."
   ]
  },
  {
   "cell_type": "markdown",
   "metadata": {
    "collapsed": true,
    "deletable": true,
    "editable": true
   },
   "source": [
    "Odczyt pliku do DataFrame Spark"
   ]
  },
  {
   "cell_type": "code",
   "execution_count": 41,
   "metadata": {
    "cell_status": {
     "execute_time": {
      "duration": 2339.073974609375,
      "end_time": 1610888445807.713
     }
    },
    "collapsed": true,
    "deletable": true,
    "editable": true
   },
   "outputs": [],
   "source": [
    "%%local\n",
    "df_dict = sqlContext.read.format('csv').options(header = 'true', inferschema='true').load('/HdiNotebooks/sentiments.csv')"
   ]
  },
  {
   "cell_type": "code",
   "execution_count": 42,
   "metadata": {
    "cell_status": {
     "execute_time": {
      "duration": 27.781005859375,
      "end_time": 1610888446807.562
     }
    },
    "collapsed": false,
    "deletable": true,
    "editable": true
   },
   "outputs": [
    {
     "name": "stdout",
     "output_type": "stream",
     "text": [
      "root\n",
      " |-- word: string (nullable = true)\n",
      " |-- sentiment: integer (nullable = true)\n",
      "\n"
     ]
    }
   ],
   "source": [
    "%%local\n",
    "df_dict.printSchema()"
   ]
  },
  {
   "cell_type": "code",
   "execution_count": 43,
   "metadata": {
    "cell_status": {
     "execute_time": {
      "duration": 1273.369140625,
      "end_time": 1610888448694.289
     }
    },
    "collapsed": false,
    "deletable": true,
    "editable": true
   },
   "outputs": [
    {
     "name": "stdout",
     "output_type": "stream",
     "text": [
      "+-----------+---------+\n",
      "|       word|sentiment|\n",
      "+-----------+---------+\n",
      "|  abandoned|        0|\n",
      "|abandonment|        0|\n",
      "| aberration|        0|\n",
      "| aberration|        0|\n",
      "|   abhorred|        0|\n",
      "+-----------+---------+\n",
      "only showing top 5 rows\n",
      "\n"
     ]
    }
   ],
   "source": [
    "%%local\n",
    "df_dict.show(5) #słowa o znaczeniu negatywnym"
   ]
  },
  {
   "cell_type": "code",
   "execution_count": 49,
   "metadata": {
    "cell_status": {
     "execute_time": {
      "duration": 78.261962890625,
      "end_time": 1610888710790.453
     }
    },
    "collapsed": true,
    "deletable": true,
    "editable": true
   },
   "outputs": [],
   "source": [
    "%%local\n",
    "from pyspark.ml.feature import RegexTokenizer"
   ]
  },
  {
   "cell_type": "code",
   "execution_count": 70,
   "metadata": {
    "cell_status": {
     "execute_time": {
      "duration": 97.451904296875,
      "end_time": 1610889317563.492
     }
    },
    "collapsed": false,
    "deletable": true,
    "editable": true
   },
   "outputs": [
    {
     "name": "stdout",
     "output_type": "stream",
     "text": [
      "+---------+---------+\n",
      "|     word|sentiment|\n",
      "+---------+---------+\n",
      "| abidance|        1|\n",
      "|    above|        1|\n",
      "| abidance|        1|\n",
      "|abilities|        1|\n",
      "|  ability|        1|\n",
      "+---------+---------+\n",
      "only showing top 5 rows\n",
      "\n"
     ]
    }
   ],
   "source": [
    "%%local\n",
    "df_dict.orderBy(\"sentiment\", ascending=False).show(5)"
   ]
  },
  {
   "cell_type": "markdown",
   "metadata": {
    "deletable": true,
    "editable": true
   },
   "source": [
    "Wybranie takiej samej liczby tweetów pozytywnych i negatywnych ze całego zbioru w celu obliczania doładności klasyfikacji sentymentów"
   ]
  },
  {
   "cell_type": "code",
   "execution_count": 51,
   "metadata": {
    "cell_status": {
     "execute_time": {
      "duration": 66.47509765625,
      "end_time": 1610888763636.707
     }
    },
    "collapsed": false,
    "deletable": true,
    "editable": true
   },
   "outputs": [
    {
     "data": {
      "text/plain": [
       "35034"
      ]
     },
     "execution_count": 51,
     "metadata": {},
     "output_type": "execute_result"
    }
   ],
   "source": [
    "%%local\n",
    "negative_count = tweet_clean_df.filter(\"sentiment=0\").count()\n",
    "positive_tweet = tweet_clean_df.filter(\"sentiment=1\")\n",
    "negative_tweet = tweet_clean_df.filter(\"sentiment=0\")\n",
    "\n",
    "\n",
    "positive_tweet = positive_tweet.limit(negative_count)\n",
    "tweet_clean_df = positive_tweet.union(negative_tweet)\n",
    "tweet_clean_df.count()"
   ]
  },
  {
   "cell_type": "markdown",
   "metadata": {
    "deletable": true,
    "editable": true
   },
   "source": [
    "Tworzenie obiektu tokenizera do dzielenia kolumny tweet i tworzenia nowej kolumny wyjściowej „splittweet”"
   ]
  },
  {
   "cell_type": "code",
   "execution_count": 53,
   "metadata": {
    "cell_status": {
     "execute_time": {
      "duration": 17139.91796875,
      "end_time": 1610888821408.342
     }
    },
    "collapsed": false,
    "deletable": true,
    "editable": true
   },
   "outputs": [],
   "source": [
    "%%local\n",
    "token = RegexTokenizer().setGaps(False).setPattern(\"\\\\p{L}+\").setInputCol(\"tweet\").setOutputCol(\"splittweet\")"
   ]
  },
  {
   "cell_type": "markdown",
   "metadata": {
    "deletable": true,
    "editable": true
   },
   "source": [
    "Użycie tokenu do zastosowania zmian"
   ]
  },
  {
   "cell_type": "code",
   "execution_count": 54,
   "metadata": {
    "cell_status": {
     "execute_time": {
      "duration": 1254.675048828125,
      "end_time": 1610888822748.227
     }
    },
    "collapsed": false,
    "deletable": true,
    "editable": true
   },
   "outputs": [
    {
     "name": "stdout",
     "output_type": "stream",
     "text": [
      "+---+--------------------+-------------------+---------+--------------------+\n",
      "|_c0|               tweet|                 id|sentiment|          splittweet|\n",
      "+---+--------------------+-------------------+---------+--------------------+\n",
      "|  0| b armys as melhores|1341056337208336385|        1|[b, armys, as, me...|\n",
      "|  1|rt from the infor...|1341056337267068928|        1|[rt, from, the, i...|\n",
      "|  2|rt i don t want t...|1341056337447366662|        1|[rt, i, don, t, w...|\n",
      "|  3|rt brian kemp and...|1341056337392898052|        1|[rt, brian, kemp,...|\n",
      "|  4|rt diabetica i vo...|1341056337707450368|        1|[rt, diabetica, i...|\n",
      "+---+--------------------+-------------------+---------+--------------------+\n",
      "only showing top 5 rows\n",
      "\n"
     ]
    }
   ],
   "source": [
    "%%local\n",
    "word_df = token.transform(tweet_clean_df)\n",
    "word_df.show(5)\n"
   ]
  },
  {
   "cell_type": "markdown",
   "metadata": {
    "deletable": true,
    "editable": true
   },
   "source": [
    "Porówuje ze słowami z df_dict, rozbijając podzielone słowa na różne wiersze za pomocą funkcji fn.explode i łącząc DF"
   ]
  },
  {
   "cell_type": "code",
   "execution_count": 55,
   "metadata": {
    "cell_status": {
     "execute_time": {
      "duration": 22302.684814453125,
      "end_time": 1610888845230.598
     }
    },
    "collapsed": false,
    "deletable": true,
    "editable": true
   },
   "outputs": [
    {
     "name": "stdout",
     "output_type": "stream",
     "text": [
      "+-----------+---------+\n",
      "|       word|sentiment|\n",
      "+-----------+---------+\n",
      "|  abandoned|        0|\n",
      "|abandonment|        0|\n",
      "| aberration|        0|\n",
      "| aberration|        0|\n",
      "|   abhorred|        0|\n",
      "+-----------+---------+\n",
      "only showing top 5 rows\n",
      "\n"
     ]
    }
   ],
   "source": [
    "%%local\n",
    "df_dict.show(5)"
   ]
  },
  {
   "cell_type": "code",
   "execution_count": 56,
   "metadata": {
    "cell_status": {
     "execute_time": {
      "duration": 18582.949951171875,
      "end_time": 1610888863918.47
     }
    },
    "collapsed": false,
    "deletable": true,
    "editable": true
   },
   "outputs": [
    {
     "name": "stdout",
     "output_type": "stream",
     "text": [
      "+--------+-------------------+---------+\n",
      "|    word|                 id|sentiment|\n",
      "+--------+-------------------+---------+\n",
      "|       b|1341056337208336385|     null|\n",
      "|   armys|1341056337208336385|     null|\n",
      "|      as|1341056337208336385|     null|\n",
      "|melhores|1341056337208336385|     null|\n",
      "|      rt|1341056337267068928|     null|\n",
      "+--------+-------------------+---------+\n",
      "only showing top 5 rows\n",
      "\n"
     ]
    }
   ],
   "source": [
    "%%local\n",
    "df_joined= word_df.select('id', fn.explode('splittweet').alias('word')).join(df_dict, 'word','leftouter')\n",
    "df_joined.show(5)"
   ]
  },
  {
   "cell_type": "code",
   "execution_count": 57,
   "metadata": {
    "cell_status": {
     "execute_time": {
      "duration": 13421.246826171875,
      "end_time": 1610888877359.597
     }
    },
    "collapsed": false,
    "deletable": true,
    "editable": true
   },
   "outputs": [
    {
     "data": {
      "text/plain": [
       "558823"
      ]
     },
     "execution_count": 57,
     "metadata": {},
     "output_type": "execute_result"
    }
   ],
   "source": [
    "%%local\n",
    "df_joined_wo_null=df_joined.na.fill(0).dropna()\n",
    "df_joined_wo_null.count()"
   ]
  },
  {
   "cell_type": "markdown",
   "metadata": {
    "deletable": true,
    "editable": true
   },
   "source": [
    "Wezmę średnią ocenę słów dla każdego tweeta i sklasyfikuje post jako „Pozytywny”, gdy średnia jest większa niż 0 i \"Negatywny\", jeśli jest mniejsza niż 0, a następnie oblicze wynik dokładności tej metody"
   ]
  },
  {
   "cell_type": "code",
   "execution_count": 58,
   "metadata": {
    "cell_status": {
     "execute_time": {
      "duration": 28905.126953125,
      "end_time": 1610888906316.946
     }
    },
    "collapsed": false,
    "deletable": true,
    "editable": true
   },
   "outputs": [
    {
     "name": "stdout",
     "output_type": "stream",
     "text": [
      "+-------------------+--------------------+-----------+\n",
      "|                 id|          avg_sentim|pred_sentim|\n",
      "+-------------------+--------------------+-----------+\n",
      "|1341056442262962201|0.045454545454545456|          1|\n",
      "|1341059007914631183|                 0.0|          0|\n",
      "|1341056364894949377| 0.08695652173913043|          1|\n",
      "|1341056417080479750| 0.09090909090909091|          1|\n",
      "|1341056419798331392| 0.21428571428571427|          1|\n",
      "+-------------------+--------------------+-----------+\n",
      "only showing top 5 rows\n",
      "\n"
     ]
    }
   ],
   "source": [
    "%%local\n",
    "from pyspark.sql import functions as fn \n",
    "df_predict = df_joined_wo_null.groupBy('id').agg(fn.avg('sentiment').alias('avg_sentim')).withColumn('pred_sentim', fn.when(fn.col('avg_sentim') > 0, 1).otherwise(0))\n",
    "df_predict.show(5)"
   ]
  },
  {
   "cell_type": "markdown",
   "metadata": {
    "deletable": true,
    "editable": true
   },
   "source": [
    "Wynik dokładności:"
   ]
  },
  {
   "cell_type": "code",
   "execution_count": 59,
   "metadata": {
    "cell_status": {
     "execute_time": {
      "duration": 11.716064453125,
      "end_time": 1610889021072.882
     }
    },
    "collapsed": false,
    "deletable": true,
    "editable": true,
    "scrolled": true
   },
   "outputs": [
    {
     "name": "stdout",
     "output_type": "stream",
     "text": [
      "+--------------------+\n",
      "|avg(accuracy_method)|\n",
      "+--------------------+\n",
      "|  0.5095906833361877|\n",
      "+--------------------+\n",
      "\n"
     ]
    }
   ],
   "source": [
    "%%local\n",
    "result=tweet_clean_df.join(df_predict, 'id').select(fn.expr('float(sentiment = pred_sentim)').alias('accuracy_method')).select(fn.avg('accuracy_method'))\n",
    "result.show(5)"
   ]
  },
  {
   "cell_type": "markdown",
   "metadata": {
    "deletable": true,
    "editable": true
   },
   "source": [
    "### 4. Podejście Machine Learning do analizy nastrojów"
   ]
  },
  {
   "cell_type": "code",
   "execution_count": 71,
   "metadata": {
    "cell_status": {
     "execute_time": {
      "duration": 570.64794921875,
      "end_time": 1610889319448.561
     }
    },
    "collapsed": true,
    "deletable": true,
    "editable": true
   },
   "outputs": [],
   "source": [
    "%%local\n",
    "from pyspark.ml import Pipeline\n",
    "from pyspark.ml.linalg import Vectors\n",
    "from pyspark.ml.classification import LogisticRegression\n",
    "from pyspark.ml.feature import HashingTF, Tokenizer"
   ]
  },
  {
   "cell_type": "markdown",
   "metadata": {
    "deletable": true,
    "editable": true
   },
   "source": [
    "#### **--- Usuniecie zbędnych słów (stop words) **"
   ]
  },
  {
   "cell_type": "markdown",
   "metadata": {
    "cell_status": {
     "execute_time": {
      "duration": 226.119140625,
      "end_time": 1610723961980.609
     }
    },
    "deletable": true,
    "editable": true
   },
   "source": [
    "Odczytuje plik tekstowy ze słowami pomijanymi i usuwam je  z kolumny tweet"
   ]
  },
  {
   "cell_type": "code",
   "execution_count": 72,
   "metadata": {
    "cell_status": {
     "execute_time": {
      "duration": 17.572021484375,
      "end_time": 1610889319482.522
     }
    },
    "collapsed": false,
    "deletable": true,
    "editable": true
   },
   "outputs": [
    {
     "name": "stdout",
     "output_type": "stream",
     "text": [
      "sentiments.csv  tweets_elections_USA_2020_clean.csv\r\n",
      "stopwords.txt   tweets_pandemic_clean.csv\r\n"
     ]
    }
   ],
   "source": [
    "%%local\n",
    "%pwd\n",
    "%ls"
   ]
  },
  {
   "cell_type": "code",
   "execution_count": 73,
   "metadata": {
    "cell_status": {
     "execute_time": {
      "duration": 20.657958984375,
      "end_time": 1610889321054.336
     }
    },
    "collapsed": false,
    "deletable": true,
    "editable": true
   },
   "outputs": [],
   "source": [
    "%%local\n",
    "#Z http://www.lextek.com/manuals/onix/stopwords1.html\n",
    "with open(\"stopwords.txt\") as f:\n",
    "    stop_words = f.read().split()"
   ]
  },
  {
   "cell_type": "code",
   "execution_count": 74,
   "metadata": {
    "cell_status": {
     "execute_time": {
      "duration": 295.873046875,
      "end_time": 1610889322044.071
     }
    },
    "collapsed": false,
    "deletable": true,
    "editable": true
   },
   "outputs": [
    {
     "data": {
      "text/plain": [
       "['about',\n",
       " 'above',\n",
       " 'across',\n",
       " 'after',\n",
       " 'again',\n",
       " 'against',\n",
       " 'all',\n",
       " 'almost',\n",
       " 'alone']"
      ]
     },
     "execution_count": 74,
     "metadata": {},
     "output_type": "execute_result"
    }
   ],
   "source": [
    "%%local\n",
    "stop_words[1:10] #odczytanie pierwszych 10 słów"
   ]
  },
  {
   "cell_type": "code",
   "execution_count": 75,
   "metadata": {
    "cell_status": {
     "execute_time": {
      "duration": 48.376220703125,
      "end_time": 1610889322699.235
     }
    },
    "collapsed": false,
    "deletable": true,
    "editable": true
   },
   "outputs": [],
   "source": [
    "%%local\n",
    "#usuniecie słów z tweetów\n",
    "from pyspark.ml.feature import StopWordsRemover\n",
    "filter = StopWordsRemover().setStopWords(stop_words).setCaseSensitive(False).setInputCol(\"splittweet\").setOutputCol(\"words_filter\")"
   ]
  },
  {
   "cell_type": "markdown",
   "metadata": {
    "deletable": true,
    "editable": true
   },
   "source": [
    "#### **Liczenie wektoryzatora**"
   ]
  },
  {
   "cell_type": "code",
   "execution_count": 76,
   "metadata": {
    "cell_status": {
     "execute_time": {
      "duration": 14584.11083984375,
      "end_time": 1610889339687.044
     }
    },
    "collapsed": false,
    "deletable": true,
    "editable": true
   },
   "outputs": [],
   "source": [
    "%%local\n",
    "from pyspark.ml.feature import CountVectorizer\n",
    "vector_count = CountVectorizer(minTF=1, minDF=8, vocabSize=2**17).setInputCol(\"words_filter\").setOutputCol(\"TF\")\n",
    "# minTF = ignoruje rzadkie słowa w dokumencie, minDF = Określa minimalną liczbę różnych dokumentów, w których termin musi się pojawić, aby został włączony do słownika. "
   ]
  },
  {
   "cell_type": "markdown",
   "metadata": {
    "deletable": true,
    "editable": true
   },
   "source": [
    "#### **Pipeline Estymator**"
   ]
  },
  {
   "cell_type": "code",
   "execution_count": 77,
   "metadata": {
    "cell_status": {
     "execute_time": {
      "duration": 8620.96484375,
      "end_time": 1610889348323.774
     }
    },
    "collapsed": false,
    "deletable": true,
    "editable": true
   },
   "outputs": [],
   "source": [
    "%%local\n",
    "#Tworze nowy Pipline estymator\n",
    "C_Pipeline_Est = Pipeline(stages=[token, filter, vector_count]).fit(tweet_clean_df)"
   ]
  },
  {
   "cell_type": "code",
   "execution_count": 78,
   "metadata": {
    "cell_status": {
     "execute_time": {
      "duration": 218.505126953125,
      "end_time": 1610889348589.641
     }
    },
    "collapsed": false,
    "deletable": true,
    "editable": true
   },
   "outputs": [
    {
     "name": "stdout",
     "output_type": "stream",
     "text": [
      "+---+--------------------+-------------------+---------+--------------------+--------------------+--------------------+\n",
      "|_c0|               tweet|                 id|sentiment|          splittweet|        words_filter|                  TF|\n",
      "+---+--------------------+-------------------+---------+--------------------+--------------------+--------------------+\n",
      "|  0| b armys as melhores|1341056337208336385|        1|[b, armys, as, me...|   [armys, melhores]| (3377,[1761],[1.0])|\n",
      "|  1|rt from the infor...|1341056337267068928|        1|[rt, from, the, i...|[rt, information,...|(3377,[0,21,154,1...|\n",
      "|  2|rt i don t want t...|1341056337447366662|        1|[rt, i, don, t, w...|[rt, don, discuss...|(3377,[0,23,43,36...|\n",
      "|  3|rt brian kemp and...|1341056337392898052|        1|[rt, brian, kemp,...|[rt, brian, kemp,...|(3377,[0,3,719,18...|\n",
      "|  4|rt diabetica i vo...|1341056337707450368|        1|[rt, diabetica, i...|[rt, diabetica, v...|(3377,[0,5,6,10,1...|\n",
      "+---+--------------------+-------------------+---------+--------------------+--------------------+--------------------+\n",
      "only showing top 5 rows\n",
      "\n"
     ]
    }
   ],
   "source": [
    "%%local\n",
    "#stosuje transformacji do DF\n",
    "C_Pipeline_Est.transform(tweet_clean_df).show(5)"
   ]
  },
  {
   "cell_type": "markdown",
   "metadata": {
    "deletable": true,
    "editable": true
   },
   "source": [
    "#### **IDF (Odwrotna częstotliwość dokumentu- Inverse Document Frequency)**"
   ]
  },
  {
   "cell_type": "code",
   "execution_count": 79,
   "metadata": {
    "cell_status": {
     "execute_time": {
      "duration": 28335.900146484375,
      "end_time": 1610889376946.186
     }
    },
    "collapsed": true,
    "deletable": true,
    "editable": true
   },
   "outputs": [],
   "source": [
    "%%local\n",
    "from pyspark.ml.feature import IDF\n",
    "IDF = IDF().setInputCol('TF').setOutputCol('TF_IDF')"
   ]
  },
  {
   "cell_type": "code",
   "execution_count": 80,
   "metadata": {
    "cell_status": {
     "execute_time": {
      "duration": 12355.64599609375,
      "end_time": 1610889389344.399
     }
    },
    "collapsed": false,
    "deletable": true,
    "editable": true
   },
   "outputs": [],
   "source": [
    "%%local\n",
    "#tworze IDF pipeline\n",
    "IDF_pip = Pipeline(stages=[C_Pipeline_Est, IDF]).fit(tweet_clean_df)"
   ]
  },
  {
   "cell_type": "code",
   "execution_count": 81,
   "metadata": {
    "cell_status": {
     "execute_time": {
      "duration": 657.299072265625,
      "end_time": 1610889390064.917
     }
    },
    "collapsed": false,
    "deletable": true,
    "editable": true
   },
   "outputs": [
    {
     "name": "stdout",
     "output_type": "stream",
     "text": [
      "+-------------------+--------------------+--------------------+--------------------+\n",
      "|                 id|        words_filter|                  TF|              TF_IDF|\n",
      "+-------------------+--------------------+--------------------+--------------------+\n",
      "|1341056337208336385|   [armys, melhores]| (3377,[1761],[1.0])|(3377,[1761],[7.4...|\n",
      "|1341056337267068928|[rt, information,...|(3377,[0,21,154,1...|(3377,[0,21,154,1...|\n",
      "|1341056337447366662|[rt, don, discuss...|(3377,[0,23,43,36...|(3377,[0,23,43,36...|\n",
      "|1341056337392898052|[rt, brian, kemp,...|(3377,[0,3,719,18...|(3377,[0,3,719,18...|\n",
      "+-------------------+--------------------+--------------------+--------------------+\n",
      "only showing top 4 rows\n",
      "\n"
     ]
    }
   ],
   "source": [
    "%%local\n",
    "#stosuje transformacje\n",
    "TF_IDF = IDF_pip.transform(tweet_clean_df)\n",
    "TF_IDF.select('id', 'words_filter', 'TF', \"TF_IDF\").show(4)"
   ]
  },
  {
   "cell_type": "markdown",
   "metadata": {
    "cell_status": {
     "execute_time": {
      "duration": 5009.587890625,
      "end_time": 1610729352320.04
     }
    },
    "deletable": true,
    "editable": true
   },
   "source": [
    " #### ** Dzielenie danych na dane uczące, dane potrzebne do walidacji i dane testowe DF w stosunku 80: 10: 10**"
   ]
  },
  {
   "cell_type": "code",
   "execution_count": 82,
   "metadata": {
    "cell_status": {
     "execute_time": {
      "duration": 56940.30810546875,
      "end_time": 1610889447090.349
     }
    },
    "collapsed": true,
    "deletable": true,
    "editable": true
   },
   "outputs": [],
   "source": [
    "%%local\n",
    "df_train, df_val, df_test = tweet_clean_df.randomSplit([0.80, 0.10, 0.10], seed=0)"
   ]
  },
  {
   "cell_type": "code",
   "execution_count": 83,
   "metadata": {
    "cell_status": {
     "execute_time": {
      "duration": 886.87109375,
      "end_time": 1610889448170.457
     }
    },
    "collapsed": false,
    "deletable": true,
    "editable": true
   },
   "outputs": [
    {
     "data": {
      "text/plain": [
       "(28062, 3458, 3514)"
      ]
     },
     "execution_count": 83,
     "metadata": {},
     "output_type": "execute_result"
    }
   ],
   "source": [
    "%%local\n",
    "df_train.count() ,df_val.count() ,df_test.count()"
   ]
  },
  {
   "cell_type": "markdown",
   "metadata": {
    "deletable": true,
    "editable": true
   },
   "source": [
    "### 5. Model regresji logistycznej"
   ]
  },
  {
   "cell_type": "code",
   "execution_count": 84,
   "metadata": {
    "cell_status": {
     "execute_time": {
      "duration": 47012.078857421875,
      "end_time": 1610889495257.359
     }
    },
    "collapsed": true,
    "deletable": true,
    "editable": true
   },
   "outputs": [],
   "source": [
    "%%local\n",
    "#używanie funkcji TF_IDF  i przekazywanie go do modelu regresji logistycznej\n",
    "from pyspark.ml.classification import LogisticRegression\n",
    "LR = LogisticRegression().setLabelCol('sentiment').setFeaturesCol('TF_IDF').setMaxIter(100)"
   ]
  },
  {
   "cell_type": "code",
   "execution_count": 85,
   "metadata": {
    "cell_status": {
     "execute_time": {
      "duration": 4350.4990234375,
      "end_time": 1610889499621.373
     }
    },
    "collapsed": false,
    "deletable": true,
    "editable": true
   },
   "outputs": [],
   "source": [
    "%%local\n",
    "#tworzenie transformacji pipeline dla regresji logistycznej i uruchamianie na zestawie danych szkoleniowych.\n",
    "pip_LR = Pipeline(stages=[IDF_pip, LR]).fit(df_train)"
   ]
  },
  {
   "cell_type": "code",
   "execution_count": 86,
   "metadata": {
    "cell_status": {
     "execute_time": {
      "duration": 4772.939208984375,
      "end_time": 1610889504424.298
     }
    },
    "collapsed": false,
    "deletable": true,
    "editable": true
   },
   "outputs": [
    {
     "name": "stdout",
     "output_type": "stream",
     "text": [
      "+-------------------+---------+----------+\n",
      "|                 id|sentiment|prediction|\n",
      "+-------------------+---------+----------+\n",
      "|1341056337208336385|        1|       1.0|\n",
      "|1341056337392898052|        1|       1.0|\n",
      "|1341056340626722818|        1|       1.0|\n",
      "|1341056341541044224|        1|       1.0|\n",
      "|1341056346230321158|        1|       1.0|\n",
      "+-------------------+---------+----------+\n",
      "only showing top 5 rows\n",
      "\n"
     ]
    }
   ],
   "source": [
    "%%local\n",
    "#stoswanie transformacji na DF w celu predykcji sentymentów\n",
    "pip_LR.transform(df_val).select('id', 'sentiment', 'prediction').show(5)"
   ]
  },
  {
   "cell_type": "code",
   "execution_count": 87,
   "metadata": {
    "cell_status": {
     "execute_time": {
      "duration": 10425.744873046875,
      "end_time": 1610889514877.765
     }
    },
    "collapsed": false,
    "deletable": true,
    "editable": true
   },
   "outputs": [
    {
     "name": "stdout",
     "output_type": "stream",
     "text": [
      "+-------------------+---------+----------+\n",
      "|                 id|sentiment|prediction|\n",
      "+-------------------+---------+----------+\n",
      "|1341056337673908225|        1|       1.0|\n",
      "|1341056340844691457|        1|       1.0|\n",
      "|1341056341251665929|        1|       1.0|\n",
      "|1341056341301981185|        1|       1.0|\n",
      "|1341056344825085955|        1|       1.0|\n",
      "+-------------------+---------+----------+\n",
      "only showing top 5 rows\n",
      "\n"
     ]
    }
   ],
   "source": [
    "%%local\n",
    "#stosowanie transformacji na danych szkoleniowych(testowych)\n",
    "pred_test = pip_LR.transform(df_test).select('id', 'sentiment', 'prediction')\n",
    "pred_test.show(5)"
   ]
  },
  {
   "cell_type": "markdown",
   "metadata": {
    "deletable": true,
    "editable": true
   },
   "source": [
    " #### ** Obliczanie wyniku dokładności na zestawie danych testowych dla naszego modelu ML.**"
   ]
  },
  {
   "cell_type": "code",
   "execution_count": 88,
   "metadata": {
    "cell_status": {
     "execute_time": {
      "duration": 6851.05810546875,
      "end_time": 1610836229980.091
     }
    },
    "collapsed": false,
    "deletable": true,
    "editable": true
   },
   "outputs": [
    {
     "data": {
      "text/plain": [
       "0.8901536710301651"
      ]
     },
     "execution_count": 88,
     "metadata": {},
     "output_type": "execute_result"
    }
   ],
   "source": [
    "%%local\n",
    "acc = pred_test.filter(pred_test.sentiment == pred_test.prediction).count() / float(df_test.count())\n",
    "acc"
   ]
  },
  {
   "cell_type": "markdown",
   "metadata": {
    "deletable": true,
    "editable": true
   },
   "source": [
    "** Wniosek numer 4: Dokładność wzrosła o około 38% w porównaniu z podejściem słownikowym, w którym dokładność wynosiła 0.51 **"
   ]
  },
  {
   "cell_type": "markdown",
   "metadata": {
    "deletable": true,
    "editable": true
   },
   "source": [
    "#### **Ogólne wnioski:**\n",
    "\n",
    "-- Dokładność przewidywania wzrasta, gdy model uczenia maszynowego w połączeniu z estymatorami Spark i transformatami jest stosowany do zbioru danych sentymentu.\n",
    "<br>\n",
    "-- Słowa, które często pojawiają się w danych, mogą powodować błąd podczas przewidywania nastrojów, co można rozwiązać za pomocą wektoryzacji zliczania i metod IDF, które neutralizują wpływ tych słów na wagę.\n",
    "<br>\n",
    "-- Wcześniej zauważyłam, że ogólne nastawienie do tweetów było pozytywne, a może to wynikać z oczekiwaniem na zmianę w prowadzeniu polityki USA.\n",
    "<br>"
   ]
  },
  {
   "cell_type": "markdown",
   "metadata": {
    "collapsed": true,
    "deletable": true,
    "editable": true
   },
   "source": [
    "#### **Problemy związane z analizą sentymentów:**\n",
    "-- Sentymenty od sarkazmu.\n",
    "<br>\n",
    "-- Wiele nastrojów w jednym zdaniu przy użyciu słów takich jak „Mimo to”, które mogą zmienić cały sentyment zdania."
   ]
  },
  {
   "cell_type": "markdown",
   "metadata": {
    "deletable": true,
    "editable": true
   },
   "source": [
    "#### **Zalecenia i przyszłe plany: **\n",
    "-- Techniki takie jak regularyzacja mogą być stosowane wraz z uczeniem maszynowym do optymalizacji.\n",
    "<br>\n",
    "-- Spark streaming API czy  Tweepy Streaming mogą służyć do wyodrębniania źródeł danych wczasie rzeczywistym z platform do przeprowadzania analizy opinii."
   ]
  }
 ],
 "metadata": {
  "kernelspec": {
   "display_name": "PySpark3",
   "language": "",
   "name": "pyspark3kernel"
  },
  "language_info": {
   "codemirror_mode": {
    "name": "python",
    "version": 3
   },
   "mimetype": "text/x-python",
   "name": "pyspark3",
   "pygments_lexer": "python3"
  }
 },
 "nbformat": 4,
 "nbformat_minor": 2
}